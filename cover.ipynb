{
 "cells": [
  {
   "cell_type": "code",
   "execution_count": 1,
   "id": "initial_id",
   "metadata": {
    "ExecuteTime": {
     "end_time": "2024-12-03T10:54:35.319869Z",
     "start_time": "2024-12-03T10:54:34.132587Z"
    },
    "collapsed": true
   },
   "outputs": [],
   "source": [
    "import gensim.models\n",
    "import pandas as pd\n",
    "\n",
    "df = pd.read_csv('./merged.csv')"
   ]
  },
  {
   "cell_type": "code",
   "execution_count": 2,
   "id": "a1ccd047a0f9b561",
   "metadata": {
    "ExecuteTime": {
     "end_time": "2024-12-03T10:54:36.065574Z",
     "start_time": "2024-12-03T10:54:36.059530Z"
    }
   },
   "outputs": [],
   "source": [
    "corpus = df['lyrics'].tolist()"
   ]
  },
  {
   "cell_type": "code",
   "execution_count": 194,
   "id": "4de861428be2729d",
   "metadata": {
    "ExecuteTime": {
     "end_time": "2024-12-03T07:40:20.823773Z",
     "start_time": "2024-12-03T07:40:20.821121Z"
    }
   },
   "outputs": [
    {
     "name": "stdout",
     "output_type": "stream",
     "text": [
      "1674\n"
     ]
    }
   ],
   "source": [
    "print(len(corpus))"
   ]
  },
  {
   "cell_type": "code",
   "execution_count": 6,
   "id": "7a7b0b24e09e862f",
   "metadata": {
    "ExecuteTime": {
     "end_time": "2024-12-03T10:55:13.127955Z",
     "start_time": "2024-12-03T10:55:05.147869Z"
    }
   },
   "outputs": [
    {
     "name": "stderr",
     "output_type": "stream",
     "text": [
      "100%|██████████| 1674/1674 [00:00<00:00, 24730.69it/s]\n"
     ]
    }
   ],
   "source": [
    "## 형태소 분리\n",
    "contents_tokens = [Okt().morphs(sent, stem=True) for sent in corpus]\n",
    "new_corpus = []\n",
    "\n",
    "for cont in tqdm(contents_tokens):\n",
    "    sentence = ''\n",
    "    for word in cont:\n",
    "        sentence = sentence + ' ' + word\n",
    "    new_corpus.append(sentence)\n"
   ]
  },
  {
   "cell_type": "code",
   "execution_count": 10,
   "id": "f6f14233d5d95711",
   "metadata": {
    "ExecuteTime": {
     "end_time": "2024-12-03T10:55:15.622450Z",
     "start_time": "2024-12-03T10:55:15.613062Z"
    }
   },
   "outputs": [
    {
     "name": "stdout",
     "output_type": "stream",
     "text": [
      "(1674,)\n"
     ]
    }
   ],
   "source": [
    "import numpy as np\n",
    "print(np.shape(new_corpus))"
   ]
  },
  {
   "cell_type": "code",
   "execution_count": 8,
   "id": "8753f4c06edf49be",
   "metadata": {
    "ExecuteTime": {
     "end_time": "2024-12-03T07:40:57.491184Z",
     "start_time": "2024-12-03T07:40:57.487683Z"
    }
   },
   "outputs": [
    {
     "name": "stdout",
     "output_type": "stream",
     "text": [
      "  artist_names  track_name                                             lyrics  \\\n",
      "0          IVE        I AM  다른 문을 열어, 따라갈 필요는 없어 넌 너의 길로, 난 나의 길로, mm 하루하루...   \n",
      "1          IVE      Kitsch  It's our time 우린 달라, 특별한 게 좋아 Oh, what a good ...   \n",
      "2        Jimin  Like Crazy  She's saying, \"Baby, 생각하지 마\" There's not a bad...   \n",
      "3        JISOO      FLOWER  Eh-eh-eh-eh Eh-eh-eh-eh A-B-C, Do-Re-Mi 만큼 착했던...   \n",
      "4     NewJeans         OMG  이 노래는 it's about you, baby Only you You, you, ...   \n",
      "\n",
      "       r      g      b  \n",
      "0   41.0   41.0   41.0  \n",
      "1   41.0   41.0   41.0  \n",
      "2  156.0  152.0  151.0  \n",
      "3   39.0   33.0    8.0  \n",
      "4  195.0  195.0  195.0  \n"
     ]
    }
   ],
   "source": [
    "print(df.head())"
   ]
  },
  {
   "cell_type": "markdown",
   "id": "161b0aefa137d608",
   "metadata": {},
   "source": [
    "## TF-IDF 벡터로 변환 후 여러 머신러닝 기법 비교"
   ]
  },
  {
   "cell_type": "code",
   "execution_count": 3,
   "id": "7f60d11919a7dd21",
   "metadata": {
    "ExecuteTime": {
     "end_time": "2024-12-03T10:55:00.242761Z",
     "start_time": "2024-12-03T10:54:59.817087Z"
    }
   },
   "outputs": [],
   "source": [
    "from nltk.tokenize import word_tokenize\n",
    "import nltk\n",
    "from tqdm import *"
   ]
  },
  {
   "cell_type": "code",
   "execution_count": 4,
   "id": "5bf5617fbe81532f",
   "metadata": {
    "ExecuteTime": {
     "end_time": "2024-12-03T10:55:00.809049Z",
     "start_time": "2024-12-03T10:55:00.807257Z"
    }
   },
   "outputs": [],
   "source": [
    "import konlpy\n",
    "from konlpy.tag import Okt"
   ]
  },
  {
   "cell_type": "code",
   "execution_count": 5,
   "id": "2a41a4d8281aba86",
   "metadata": {
    "ExecuteTime": {
     "end_time": "2024-12-03T10:55:01.675263Z",
     "start_time": "2024-12-03T10:55:01.665874Z"
    }
   },
   "outputs": [],
   "source": [
    "import re\n",
    "for i in range (len(corpus)):\n",
    "    corpus[i] = corpus[i].replace('(', '').replace(')', '').replace(',', '').replace('-','').replace('\\'', '')"
   ]
  },
  {
   "cell_type": "code",
   "execution_count": null,
   "id": "55285c316c66ae08",
   "metadata": {},
   "outputs": [],
   "source": []
  },
  {
   "cell_type": "code",
   "execution_count": null,
   "id": "4018aa17",
   "metadata": {},
   "outputs": [],
   "source": [
    "print(corpus[0])"
   ]
  },
  {
   "cell_type": "code",
   "execution_count": null,
   "id": "246a5847a2d2f344",
   "metadata": {},
   "outputs": [],
   "source": [
    "query = \"너가 너무 그립다\""
   ]
  },
  {
   "cell_type": "code",
   "execution_count": null,
   "id": "9def3f0f0492599e",
   "metadata": {},
   "outputs": [],
   "source": [
    "from sklearn.feature_extraction.text import TfidfVectorizer\n",
    "\n",
    "tfidf = TfidfVectorizer()"
   ]
  },
  {
   "cell_type": "code",
   "execution_count": null,
   "id": "929b90cde6ac75eb",
   "metadata": {},
   "outputs": [],
   "source": [
    "corpus.append(query)\n",
    "tfidf_matrix = tfidf.fit_transform(corpus)"
   ]
  },
  {
   "cell_type": "code",
   "execution_count": null,
   "id": "70528b059029a577",
   "metadata": {},
   "outputs": [],
   "source": [
    "print(tfidf_matrix.shape)"
   ]
  },
  {
   "cell_type": "code",
   "execution_count": null,
   "id": "b12ef69b33cf70ba",
   "metadata": {},
   "outputs": [],
   "source": [
    "from sklearn.model_selection import train_test_split\n",
    "from sklearn.metrics import mean_squared_error"
   ]
  },
  {
   "cell_type": "code",
   "execution_count": null,
   "id": "77d36786e9d486c0",
   "metadata": {},
   "outputs": [],
   "source": [
    "X = tfidf_matrix[:-1]\n",
    "y = df['r']"
   ]
  },
  {
   "cell_type": "code",
   "execution_count": null,
   "id": "392183bda49be0fc",
   "metadata": {},
   "outputs": [],
   "source": [
    "from pycaret.regression import *\n",
    "\n",
    "optimizer = setup(X, target=y, train_size = 0.8)"
   ]
  },
  {
   "cell_type": "code",
   "execution_count": null,
   "id": "c03b4ca3",
   "metadata": {},
   "outputs": [],
   "source": [
    "comp = compare_models(sort='RMSE')"
   ]
  },
  {
   "cell_type": "code",
   "execution_count": null,
   "id": "9d07511b",
   "metadata": {},
   "outputs": [],
   "source": [
    "## 형태소 분리\n",
    "contents_tokens = [Okt().morphs(sent, stem=True) for sent in corpus]\n",
    "new_corpus = []\n",
    "\n",
    "for cont in tqdm(contents_tokens):\n",
    "    sentence = ''\n",
    "    for word in cont:\n",
    "        sentence = sentence + ' ' + word\n",
    "    new_corpus.append(sentence)\n",
    "    \n",
    "query = \"바람이 쌀쌀 부는 겨울\"\n",
    "tokenized_query = Okt().morphs(query, stem=True)\n",
    "\n",
    "for word in tokenized_query:\n",
    "    sentence = ''\n",
    "    for word in cont:\n",
    "        sentence = sentence + ' ' + word\n",
    "new_corpus.append(sentence)"
   ]
  },
  {
   "cell_type": "code",
   "execution_count": 9,
   "id": "2abd479c",
   "metadata": {
    "ExecuteTime": {
     "end_time": "2024-12-03T07:41:07.604978Z",
     "start_time": "2024-12-03T07:41:07.409035Z"
    }
   },
   "outputs": [],
   "source": [
    "from sklearn.feature_extraction.text import TfidfVectorizer\n",
    "\n",
    "tfidf = TfidfVectorizer()\n",
    "tfidf_matrix = tfidf.fit_transform(new_corpus)"
   ]
  },
  {
   "cell_type": "code",
   "execution_count": 10,
   "id": "2141314a",
   "metadata": {
    "ExecuteTime": {
     "end_time": "2024-12-03T07:41:08.381406Z",
     "start_time": "2024-12-03T07:41:08.379203Z"
    }
   },
   "outputs": [
    {
     "name": "stdout",
     "output_type": "stream",
     "text": [
      " 여기다 이미 제법 겨울 이야 초록 을 감추다 roadside 아무 도 눈 이 온 걸 모르다 그 하얗다 골목 그게 많이 기억나다 Uh 기다림 은 많이 하다 맘 이 가다 곳 그렇다 건 처음 부터 너 뿐 인 걸 있다 혼자 는 그만하다 싶다 But dont know if this is what you want too So I need to know Are you down to ride ? 새벽녘 별 과 피어 난 눈꽃 이 흩날리다 곳 에 내다 달려오다 포근하다 안다 상상 하다 그 길 Would you be there for me ? 서울 은 지금 펑펑 눈 이 오다 니 가 없다 차라리 추다 게 나아 Rockabye baby 눈 뜰 때 쯤 엔 니 옆 에 있다 테 니 Now Im in my feels babe 코끝 이 찡하다 우리 추억 이 가슴 터지다 만큼 많다 머뭇거리다 시간 은 없다 when Im on ya 같이 뛰어들다 if we dont baby Im a gonner Are you down to ride ? 새벽녘 별 과 피어 난 눈꽃 이 흩날리다 곳 에 내다 달려오다 포근하다 안다 상상 하다 그 길 Would you be there for me ? Me me Would you be there for me ? Be there for me Me me Would you be there for me ? Be there for me 앨범 속 널 보고 또 보다 보다 둘 이 차다 많이 도 돌아다니다 다니다 너 만 알다 hashtag 넌 나 만의 bae 다시 넘치다 우리 만의 like like ooh Look 발 디디다 틈 없이 붐비다 명동 혼자 걷다 보다 석양 이 진 남산 아래 반짝이다 별 의 도시 Ill be there for you 약속 하다 If youre there for me 그건 이 밤 이 아름답다 이 유일 테 니 Are you down to ride ? 새벽녘 별 과 피어 난 눈꽃 이 흩날리다 곳 에 내다 달려오다 포근하다 안다 상상 하다 그 길 Would you be there for me ? I wanna know would you be there for me baby If I need you now ? I wanna know if youd be there for me 내 맘 은 벌써 거기 야 I wanna know would you be there for me baby If I need you now ? I wanna know if youd be there for me 그 세상 은 더 빛 이 나 Are you down to ride ? 새벽 별 과 눈꽃 속 의 Would you be there for me ? 이제 다 오다 점점 추다 거란 매년 겨울 속 에 Would you be there for me ? Me me Would you be there for me ? Hoohoohoo Me me there for me ? Yeahyeah Would you be there for me ?\n"
     ]
    }
   ],
   "source": [
    "print(new_corpus[-2])"
   ]
  },
  {
   "cell_type": "code",
   "execution_count": null,
   "id": "c3e86a32",
   "metadata": {},
   "outputs": [],
   "source": [
    "X = tfidf_matrix[:-1]\n",
    "y = df['r']\n",
    "from pycaret.regression import *\n",
    "\n",
    "optimizer = setup(X, target=y, train_size = 0.8)\n"
   ]
  },
  {
   "cell_type": "code",
   "execution_count": null,
   "id": "e224730c",
   "metadata": {},
   "outputs": [],
   "source": [
    "comp = compare_models(sort='RMSE')"
   ]
  },
  {
   "cell_type": "code",
   "execution_count": null,
   "id": "7a9285ba52d38836",
   "metadata": {},
   "outputs": [],
   "source": [
    "ada = create_model('ada', fold=5)"
   ]
  },
  {
   "cell_type": "code",
   "execution_count": null,
   "id": "be4c82b07af7fe2d",
   "metadata": {},
   "outputs": [],
   "source": [
    "tune = tune_model(ada, fold=5, optimize='MSE')"
   ]
  },
  {
   "cell_type": "code",
   "execution_count": null,
   "id": "7af45b214f1373f",
   "metadata": {},
   "outputs": [],
   "source": [
    "saved = save_model(tune, './ada')"
   ]
  },
  {
   "cell_type": "markdown",
   "id": "41ae75e8b441d123",
   "metadata": {},
   "source": [
    "## SentenceTransformer를 이용한 회귀"
   ]
  },
  {
   "cell_type": "code",
   "execution_count": 7,
   "id": "9aeaf27f08ac0c2f",
   "metadata": {},
   "outputs": [],
   "source": [
    "import torch\n",
    "corpus_embeddings = torch.load(\"sbert_embeddings.pt\")"
   ]
  },
  {
   "cell_type": "code",
   "execution_count": 21,
   "id": "5011e454bc079277",
   "metadata": {},
   "outputs": [],
   "source": [
    "X = corpus_embeddings\n",
    "y = df['r']"
   ]
  },
  {
   "cell_type": "code",
   "execution_count": 36,
   "id": "fcb1d988",
   "metadata": {},
   "outputs": [],
   "source": [
    "y = df['g']"
   ]
  },
  {
   "cell_type": "code",
   "execution_count": 41,
   "id": "45a705b0",
   "metadata": {},
   "outputs": [],
   "source": [
    "y = df['b']"
   ]
  },
  {
   "cell_type": "code",
   "execution_count": 22,
   "id": "db6d065b74f68b02",
   "metadata": {},
   "outputs": [
    {
     "data": {
      "text/html": [
       "<style type=\"text/css\">\n",
       "#T_78954_row8_col1 {\n",
       "  background-color: lightgreen;\n",
       "}\n",
       "</style>\n",
       "<table id=\"T_78954\">\n",
       "  <thead>\n",
       "    <tr>\n",
       "      <th class=\"blank level0\" >&nbsp;</th>\n",
       "      <th id=\"T_78954_level0_col0\" class=\"col_heading level0 col0\" >Description</th>\n",
       "      <th id=\"T_78954_level0_col1\" class=\"col_heading level0 col1\" >Value</th>\n",
       "    </tr>\n",
       "  </thead>\n",
       "  <tbody>\n",
       "    <tr>\n",
       "      <th id=\"T_78954_level0_row0\" class=\"row_heading level0 row0\" >0</th>\n",
       "      <td id=\"T_78954_row0_col0\" class=\"data row0 col0\" >Session id</td>\n",
       "      <td id=\"T_78954_row0_col1\" class=\"data row0 col1\" >7966</td>\n",
       "    </tr>\n",
       "    <tr>\n",
       "      <th id=\"T_78954_level0_row1\" class=\"row_heading level0 row1\" >1</th>\n",
       "      <td id=\"T_78954_row1_col0\" class=\"data row1 col0\" >Target</td>\n",
       "      <td id=\"T_78954_row1_col1\" class=\"data row1 col1\" >r</td>\n",
       "    </tr>\n",
       "    <tr>\n",
       "      <th id=\"T_78954_level0_row2\" class=\"row_heading level0 row2\" >2</th>\n",
       "      <td id=\"T_78954_row2_col0\" class=\"data row2 col0\" >Target type</td>\n",
       "      <td id=\"T_78954_row2_col1\" class=\"data row2 col1\" >Regression</td>\n",
       "    </tr>\n",
       "    <tr>\n",
       "      <th id=\"T_78954_level0_row3\" class=\"row_heading level0 row3\" >3</th>\n",
       "      <td id=\"T_78954_row3_col0\" class=\"data row3 col0\" >Original data shape</td>\n",
       "      <td id=\"T_78954_row3_col1\" class=\"data row3 col1\" >(1674, 769)</td>\n",
       "    </tr>\n",
       "    <tr>\n",
       "      <th id=\"T_78954_level0_row4\" class=\"row_heading level0 row4\" >4</th>\n",
       "      <td id=\"T_78954_row4_col0\" class=\"data row4 col0\" >Transformed data shape</td>\n",
       "      <td id=\"T_78954_row4_col1\" class=\"data row4 col1\" >(1674, 769)</td>\n",
       "    </tr>\n",
       "    <tr>\n",
       "      <th id=\"T_78954_level0_row5\" class=\"row_heading level0 row5\" >5</th>\n",
       "      <td id=\"T_78954_row5_col0\" class=\"data row5 col0\" >Transformed train set shape</td>\n",
       "      <td id=\"T_78954_row5_col1\" class=\"data row5 col1\" >(1339, 769)</td>\n",
       "    </tr>\n",
       "    <tr>\n",
       "      <th id=\"T_78954_level0_row6\" class=\"row_heading level0 row6\" >6</th>\n",
       "      <td id=\"T_78954_row6_col0\" class=\"data row6 col0\" >Transformed test set shape</td>\n",
       "      <td id=\"T_78954_row6_col1\" class=\"data row6 col1\" >(335, 769)</td>\n",
       "    </tr>\n",
       "    <tr>\n",
       "      <th id=\"T_78954_level0_row7\" class=\"row_heading level0 row7\" >7</th>\n",
       "      <td id=\"T_78954_row7_col0\" class=\"data row7 col0\" >Numeric features</td>\n",
       "      <td id=\"T_78954_row7_col1\" class=\"data row7 col1\" >768</td>\n",
       "    </tr>\n",
       "    <tr>\n",
       "      <th id=\"T_78954_level0_row8\" class=\"row_heading level0 row8\" >8</th>\n",
       "      <td id=\"T_78954_row8_col0\" class=\"data row8 col0\" >Preprocess</td>\n",
       "      <td id=\"T_78954_row8_col1\" class=\"data row8 col1\" >True</td>\n",
       "    </tr>\n",
       "    <tr>\n",
       "      <th id=\"T_78954_level0_row9\" class=\"row_heading level0 row9\" >9</th>\n",
       "      <td id=\"T_78954_row9_col0\" class=\"data row9 col0\" >Imputation type</td>\n",
       "      <td id=\"T_78954_row9_col1\" class=\"data row9 col1\" >simple</td>\n",
       "    </tr>\n",
       "    <tr>\n",
       "      <th id=\"T_78954_level0_row10\" class=\"row_heading level0 row10\" >10</th>\n",
       "      <td id=\"T_78954_row10_col0\" class=\"data row10 col0\" >Numeric imputation</td>\n",
       "      <td id=\"T_78954_row10_col1\" class=\"data row10 col1\" >mean</td>\n",
       "    </tr>\n",
       "    <tr>\n",
       "      <th id=\"T_78954_level0_row11\" class=\"row_heading level0 row11\" >11</th>\n",
       "      <td id=\"T_78954_row11_col0\" class=\"data row11 col0\" >Categorical imputation</td>\n",
       "      <td id=\"T_78954_row11_col1\" class=\"data row11 col1\" >mode</td>\n",
       "    </tr>\n",
       "    <tr>\n",
       "      <th id=\"T_78954_level0_row12\" class=\"row_heading level0 row12\" >12</th>\n",
       "      <td id=\"T_78954_row12_col0\" class=\"data row12 col0\" >Fold Generator</td>\n",
       "      <td id=\"T_78954_row12_col1\" class=\"data row12 col1\" >KFold</td>\n",
       "    </tr>\n",
       "    <tr>\n",
       "      <th id=\"T_78954_level0_row13\" class=\"row_heading level0 row13\" >13</th>\n",
       "      <td id=\"T_78954_row13_col0\" class=\"data row13 col0\" >Fold Number</td>\n",
       "      <td id=\"T_78954_row13_col1\" class=\"data row13 col1\" >10</td>\n",
       "    </tr>\n",
       "    <tr>\n",
       "      <th id=\"T_78954_level0_row14\" class=\"row_heading level0 row14\" >14</th>\n",
       "      <td id=\"T_78954_row14_col0\" class=\"data row14 col0\" >CPU Jobs</td>\n",
       "      <td id=\"T_78954_row14_col1\" class=\"data row14 col1\" >-1</td>\n",
       "    </tr>\n",
       "    <tr>\n",
       "      <th id=\"T_78954_level0_row15\" class=\"row_heading level0 row15\" >15</th>\n",
       "      <td id=\"T_78954_row15_col0\" class=\"data row15 col0\" >Use GPU</td>\n",
       "      <td id=\"T_78954_row15_col1\" class=\"data row15 col1\" >False</td>\n",
       "    </tr>\n",
       "    <tr>\n",
       "      <th id=\"T_78954_level0_row16\" class=\"row_heading level0 row16\" >16</th>\n",
       "      <td id=\"T_78954_row16_col0\" class=\"data row16 col0\" >Log Experiment</td>\n",
       "      <td id=\"T_78954_row16_col1\" class=\"data row16 col1\" >False</td>\n",
       "    </tr>\n",
       "    <tr>\n",
       "      <th id=\"T_78954_level0_row17\" class=\"row_heading level0 row17\" >17</th>\n",
       "      <td id=\"T_78954_row17_col0\" class=\"data row17 col0\" >Experiment Name</td>\n",
       "      <td id=\"T_78954_row17_col1\" class=\"data row17 col1\" >reg-default-name</td>\n",
       "    </tr>\n",
       "    <tr>\n",
       "      <th id=\"T_78954_level0_row18\" class=\"row_heading level0 row18\" >18</th>\n",
       "      <td id=\"T_78954_row18_col0\" class=\"data row18 col0\" >USI</td>\n",
       "      <td id=\"T_78954_row18_col1\" class=\"data row18 col1\" >06e9</td>\n",
       "    </tr>\n",
       "  </tbody>\n",
       "</table>\n"
      ],
      "text/plain": [
       "<pandas.io.formats.style.Styler at 0x33d21b8b0>"
      ]
     },
     "metadata": {},
     "output_type": "display_data"
    }
   ],
   "source": [
    "from pycaret.regression import *\n",
    "optimizer = setup(X, target=y, train_size = 0.8)"
   ]
  },
  {
   "cell_type": "code",
   "execution_count": 34,
   "id": "5778692d05b8093d",
   "metadata": {},
   "outputs": [
    {
     "data": {
      "text/html": [],
      "text/plain": [
       "<IPython.core.display.HTML object>"
      ]
     },
     "metadata": {},
     "output_type": "display_data"
    },
    {
     "data": {
      "text/html": [
       "<style type=\"text/css\">\n",
       "#T_706a6 th {\n",
       "  text-align: left;\n",
       "}\n",
       "#T_706a6_row0_col0, #T_706a6_row0_col1, #T_706a6_row0_col5, #T_706a6_row0_col6, #T_706a6_row1_col0, #T_706a6_row1_col1, #T_706a6_row1_col2, #T_706a6_row1_col3, #T_706a6_row1_col4, #T_706a6_row1_col5, #T_706a6_row1_col6, #T_706a6_row2_col0, #T_706a6_row2_col1, #T_706a6_row2_col2, #T_706a6_row2_col3, #T_706a6_row2_col4, #T_706a6_row2_col5, #T_706a6_row2_col6, #T_706a6_row3_col0, #T_706a6_row3_col1, #T_706a6_row3_col2, #T_706a6_row3_col3, #T_706a6_row3_col4, #T_706a6_row3_col5, #T_706a6_row3_col6, #T_706a6_row4_col0, #T_706a6_row4_col1, #T_706a6_row4_col2, #T_706a6_row4_col3, #T_706a6_row4_col4, #T_706a6_row4_col5, #T_706a6_row4_col6, #T_706a6_row5_col0, #T_706a6_row5_col1, #T_706a6_row5_col2, #T_706a6_row5_col3, #T_706a6_row5_col4, #T_706a6_row5_col6, #T_706a6_row6_col0, #T_706a6_row6_col1, #T_706a6_row6_col2, #T_706a6_row6_col3, #T_706a6_row6_col4, #T_706a6_row6_col5, #T_706a6_row6_col6, #T_706a6_row7_col0, #T_706a6_row7_col2, #T_706a6_row7_col3, #T_706a6_row7_col4, #T_706a6_row7_col5, #T_706a6_row7_col6, #T_706a6_row8_col0, #T_706a6_row8_col1, #T_706a6_row8_col2, #T_706a6_row8_col3, #T_706a6_row8_col4, #T_706a6_row8_col5, #T_706a6_row8_col6, #T_706a6_row9_col0, #T_706a6_row9_col1, #T_706a6_row9_col2, #T_706a6_row9_col3, #T_706a6_row9_col4, #T_706a6_row9_col5, #T_706a6_row9_col6, #T_706a6_row10_col0, #T_706a6_row10_col1, #T_706a6_row10_col2, #T_706a6_row10_col3, #T_706a6_row10_col4, #T_706a6_row10_col5, #T_706a6_row10_col6, #T_706a6_row11_col0, #T_706a6_row11_col1, #T_706a6_row11_col2, #T_706a6_row11_col3, #T_706a6_row11_col4, #T_706a6_row11_col5, #T_706a6_row11_col6, #T_706a6_row12_col0, #T_706a6_row12_col1, #T_706a6_row12_col2, #T_706a6_row12_col3, #T_706a6_row12_col4, #T_706a6_row12_col5, #T_706a6_row12_col6, #T_706a6_row13_col0, #T_706a6_row13_col1, #T_706a6_row13_col2, #T_706a6_row13_col3, #T_706a6_row13_col4, #T_706a6_row13_col5, #T_706a6_row14_col0, #T_706a6_row14_col1, #T_706a6_row14_col2, #T_706a6_row14_col3, #T_706a6_row14_col4, #T_706a6_row14_col5, #T_706a6_row14_col6, #T_706a6_row15_col0, #T_706a6_row15_col1, #T_706a6_row15_col2, #T_706a6_row15_col3, #T_706a6_row15_col4, #T_706a6_row15_col5, #T_706a6_row15_col6, #T_706a6_row16_col0, #T_706a6_row16_col1, #T_706a6_row16_col2, #T_706a6_row16_col3, #T_706a6_row16_col4, #T_706a6_row16_col5, #T_706a6_row16_col6, #T_706a6_row17_col0, #T_706a6_row17_col1, #T_706a6_row17_col2, #T_706a6_row17_col3, #T_706a6_row17_col4, #T_706a6_row17_col5, #T_706a6_row17_col6 {\n",
       "  text-align: left;\n",
       "}\n",
       "#T_706a6_row0_col2, #T_706a6_row0_col3, #T_706a6_row0_col4, #T_706a6_row5_col5, #T_706a6_row7_col1, #T_706a6_row13_col6 {\n",
       "  text-align: left;\n",
       "  background-color: yellow;\n",
       "}\n",
       "#T_706a6_row0_col7, #T_706a6_row2_col7, #T_706a6_row3_col7, #T_706a6_row4_col7, #T_706a6_row5_col7, #T_706a6_row6_col7, #T_706a6_row7_col7, #T_706a6_row8_col7, #T_706a6_row9_col7, #T_706a6_row10_col7, #T_706a6_row11_col7, #T_706a6_row12_col7, #T_706a6_row13_col7, #T_706a6_row14_col7, #T_706a6_row15_col7, #T_706a6_row16_col7, #T_706a6_row17_col7 {\n",
       "  text-align: left;\n",
       "  background-color: lightgrey;\n",
       "}\n",
       "#T_706a6_row1_col7 {\n",
       "  text-align: left;\n",
       "  background-color: yellow;\n",
       "  background-color: lightgrey;\n",
       "}\n",
       "</style>\n",
       "<table id=\"T_706a6\">\n",
       "  <thead>\n",
       "    <tr>\n",
       "      <th class=\"blank level0\" >&nbsp;</th>\n",
       "      <th id=\"T_706a6_level0_col0\" class=\"col_heading level0 col0\" >Model</th>\n",
       "      <th id=\"T_706a6_level0_col1\" class=\"col_heading level0 col1\" >MAE</th>\n",
       "      <th id=\"T_706a6_level0_col2\" class=\"col_heading level0 col2\" >MSE</th>\n",
       "      <th id=\"T_706a6_level0_col3\" class=\"col_heading level0 col3\" >RMSE</th>\n",
       "      <th id=\"T_706a6_level0_col4\" class=\"col_heading level0 col4\" >R2</th>\n",
       "      <th id=\"T_706a6_level0_col5\" class=\"col_heading level0 col5\" >RMSLE</th>\n",
       "      <th id=\"T_706a6_level0_col6\" class=\"col_heading level0 col6\" >MAPE</th>\n",
       "      <th id=\"T_706a6_level0_col7\" class=\"col_heading level0 col7\" >TT (Sec)</th>\n",
       "    </tr>\n",
       "  </thead>\n",
       "  <tbody>\n",
       "    <tr>\n",
       "      <th id=\"T_706a6_level0_row0\" class=\"row_heading level0 row0\" >br</th>\n",
       "      <td id=\"T_706a6_row0_col0\" class=\"data row0 col0\" >Bayesian Ridge</td>\n",
       "      <td id=\"T_706a6_row0_col1\" class=\"data row0 col1\" >78.3854</td>\n",
       "      <td id=\"T_706a6_row0_col2\" class=\"data row0 col2\" >7159.0457</td>\n",
       "      <td id=\"T_706a6_row0_col3\" class=\"data row0 col3\" >84.5850</td>\n",
       "      <td id=\"T_706a6_row0_col4\" class=\"data row0 col4\" >0.0000</td>\n",
       "      <td id=\"T_706a6_row0_col5\" class=\"data row0 col5\" >1.1274</td>\n",
       "      <td id=\"T_706a6_row0_col6\" class=\"data row0 col6\" >2.5006</td>\n",
       "      <td id=\"T_706a6_row0_col7\" class=\"data row0 col7\" >0.0630</td>\n",
       "    </tr>\n",
       "    <tr>\n",
       "      <th id=\"T_706a6_level0_row1\" class=\"row_heading level0 row1\" >en</th>\n",
       "      <td id=\"T_706a6_row1_col0\" class=\"data row1 col0\" >Elastic Net</td>\n",
       "      <td id=\"T_706a6_row1_col1\" class=\"data row1 col1\" >78.4272</td>\n",
       "      <td id=\"T_706a6_row1_col2\" class=\"data row1 col2\" >7160.3939</td>\n",
       "      <td id=\"T_706a6_row1_col3\" class=\"data row1 col3\" >84.5913</td>\n",
       "      <td id=\"T_706a6_row1_col4\" class=\"data row1 col4\" >-0.0001</td>\n",
       "      <td id=\"T_706a6_row1_col5\" class=\"data row1 col5\" >1.1276</td>\n",
       "      <td id=\"T_706a6_row1_col6\" class=\"data row1 col6\" >2.5017</td>\n",
       "      <td id=\"T_706a6_row1_col7\" class=\"data row1 col7\" >0.0250</td>\n",
       "    </tr>\n",
       "    <tr>\n",
       "      <th id=\"T_706a6_level0_row2\" class=\"row_heading level0 row2\" >lasso</th>\n",
       "      <td id=\"T_706a6_row2_col0\" class=\"data row2 col0\" >Lasso Regression</td>\n",
       "      <td id=\"T_706a6_row2_col1\" class=\"data row2 col1\" >78.2745</td>\n",
       "      <td id=\"T_706a6_row2_col2\" class=\"data row2 col2\" >7162.5984</td>\n",
       "      <td id=\"T_706a6_row2_col3\" class=\"data row2 col3\" >84.6010</td>\n",
       "      <td id=\"T_706a6_row2_col4\" class=\"data row2 col4\" >-0.0003</td>\n",
       "      <td id=\"T_706a6_row2_col5\" class=\"data row2 col5\" >1.1267</td>\n",
       "      <td id=\"T_706a6_row2_col6\" class=\"data row2 col6\" >2.4991</td>\n",
       "      <td id=\"T_706a6_row2_col7\" class=\"data row2 col7\" >0.0290</td>\n",
       "    </tr>\n",
       "    <tr>\n",
       "      <th id=\"T_706a6_level0_row3\" class=\"row_heading level0 row3\" >llar</th>\n",
       "      <td id=\"T_706a6_row3_col0\" class=\"data row3 col0\" >Lasso Least Angle Regression</td>\n",
       "      <td id=\"T_706a6_row3_col1\" class=\"data row3 col1\" >78.2745</td>\n",
       "      <td id=\"T_706a6_row3_col2\" class=\"data row3 col2\" >7162.6009</td>\n",
       "      <td id=\"T_706a6_row3_col3\" class=\"data row3 col3\" >84.6010</td>\n",
       "      <td id=\"T_706a6_row3_col4\" class=\"data row3 col4\" >-0.0003</td>\n",
       "      <td id=\"T_706a6_row3_col5\" class=\"data row3 col5\" >1.1267</td>\n",
       "      <td id=\"T_706a6_row3_col6\" class=\"data row3 col6\" >2.4991</td>\n",
       "      <td id=\"T_706a6_row3_col7\" class=\"data row3 col7\" >0.0370</td>\n",
       "    </tr>\n",
       "    <tr>\n",
       "      <th id=\"T_706a6_level0_row4\" class=\"row_heading level0 row4\" >dummy</th>\n",
       "      <td id=\"T_706a6_row4_col0\" class=\"data row4 col0\" >Dummy Regressor</td>\n",
       "      <td id=\"T_706a6_row4_col1\" class=\"data row4 col1\" >79.2034</td>\n",
       "      <td id=\"T_706a6_row4_col2\" class=\"data row4 col2\" >7227.4507</td>\n",
       "      <td id=\"T_706a6_row4_col3\" class=\"data row4 col3\" >84.9788</td>\n",
       "      <td id=\"T_706a6_row4_col4\" class=\"data row4 col4\" >-0.0090</td>\n",
       "      <td id=\"T_706a6_row4_col5\" class=\"data row4 col5\" >1.1337</td>\n",
       "      <td id=\"T_706a6_row4_col6\" class=\"data row4 col6\" >2.5388</td>\n",
       "      <td id=\"T_706a6_row4_col7\" class=\"data row4 col7\" >0.0310</td>\n",
       "    </tr>\n",
       "    <tr>\n",
       "      <th id=\"T_706a6_level0_row5\" class=\"row_heading level0 row5\" >ada</th>\n",
       "      <td id=\"T_706a6_row5_col0\" class=\"data row5 col0\" >AdaBoost Regressor</td>\n",
       "      <td id=\"T_706a6_row5_col1\" class=\"data row5 col1\" >79.0180</td>\n",
       "      <td id=\"T_706a6_row5_col2\" class=\"data row5 col2\" >7254.0793</td>\n",
       "      <td id=\"T_706a6_row5_col3\" class=\"data row5 col3\" >85.1282</td>\n",
       "      <td id=\"T_706a6_row5_col4\" class=\"data row5 col4\" >-0.0124</td>\n",
       "      <td id=\"T_706a6_row5_col5\" class=\"data row5 col5\" >1.1237</td>\n",
       "      <td id=\"T_706a6_row5_col6\" class=\"data row5 col6\" >2.4575</td>\n",
       "      <td id=\"T_706a6_row5_col7\" class=\"data row5 col7\" >1.5690</td>\n",
       "    </tr>\n",
       "    <tr>\n",
       "      <th id=\"T_706a6_level0_row6\" class=\"row_heading level0 row6\" >rf</th>\n",
       "      <td id=\"T_706a6_row6_col0\" class=\"data row6 col0\" >Random Forest Regressor</td>\n",
       "      <td id=\"T_706a6_row6_col1\" class=\"data row6 col1\" >78.2399</td>\n",
       "      <td id=\"T_706a6_row6_col2\" class=\"data row6 col2\" >7266.6238</td>\n",
       "      <td id=\"T_706a6_row6_col3\" class=\"data row6 col3\" >85.2115</td>\n",
       "      <td id=\"T_706a6_row6_col4\" class=\"data row6 col4\" >-0.0150</td>\n",
       "      <td id=\"T_706a6_row6_col5\" class=\"data row6 col5\" >1.1288</td>\n",
       "      <td id=\"T_706a6_row6_col6\" class=\"data row6 col6\" >2.4990</td>\n",
       "      <td id=\"T_706a6_row6_col7\" class=\"data row6 col7\" >5.8410</td>\n",
       "    </tr>\n",
       "    <tr>\n",
       "      <th id=\"T_706a6_level0_row7\" class=\"row_heading level0 row7\" >et</th>\n",
       "      <td id=\"T_706a6_row7_col0\" class=\"data row7 col0\" >Extra Trees Regressor</td>\n",
       "      <td id=\"T_706a6_row7_col1\" class=\"data row7 col1\" >78.0696</td>\n",
       "      <td id=\"T_706a6_row7_col2\" class=\"data row7 col2\" >7304.7170</td>\n",
       "      <td id=\"T_706a6_row7_col3\" class=\"data row7 col3\" >85.4272</td>\n",
       "      <td id=\"T_706a6_row7_col4\" class=\"data row7 col4\" >-0.0201</td>\n",
       "      <td id=\"T_706a6_row7_col5\" class=\"data row7 col5\" >1.1314</td>\n",
       "      <td id=\"T_706a6_row7_col6\" class=\"data row7 col6\" >2.4955</td>\n",
       "      <td id=\"T_706a6_row7_col7\" class=\"data row7 col7\" >2.2380</td>\n",
       "    </tr>\n",
       "    <tr>\n",
       "      <th id=\"T_706a6_level0_row8\" class=\"row_heading level0 row8\" >gbr</th>\n",
       "      <td id=\"T_706a6_row8_col0\" class=\"data row8 col0\" >Gradient Boosting Regressor</td>\n",
       "      <td id=\"T_706a6_row8_col1\" class=\"data row8 col1\" >78.7331</td>\n",
       "      <td id=\"T_706a6_row8_col2\" class=\"data row8 col2\" >7555.4079</td>\n",
       "      <td id=\"T_706a6_row8_col3\" class=\"data row8 col3\" >86.8866</td>\n",
       "      <td id=\"T_706a6_row8_col4\" class=\"data row8 col4\" >-0.0552</td>\n",
       "      <td id=\"T_706a6_row8_col5\" class=\"data row8 col5\" >1.1312</td>\n",
       "      <td id=\"T_706a6_row8_col6\" class=\"data row8 col6\" >2.4710</td>\n",
       "      <td id=\"T_706a6_row8_col7\" class=\"data row8 col7\" >3.8110</td>\n",
       "    </tr>\n",
       "    <tr>\n",
       "      <th id=\"T_706a6_level0_row9\" class=\"row_heading level0 row9\" >lightgbm</th>\n",
       "      <td id=\"T_706a6_row9_col0\" class=\"data row9 col0\" >Light Gradient Boosting Machine</td>\n",
       "      <td id=\"T_706a6_row9_col1\" class=\"data row9 col1\" >78.6693</td>\n",
       "      <td id=\"T_706a6_row9_col2\" class=\"data row9 col2\" >7770.6271</td>\n",
       "      <td id=\"T_706a6_row9_col3\" class=\"data row9 col3\" >88.1251</td>\n",
       "      <td id=\"T_706a6_row9_col4\" class=\"data row9 col4\" >-0.0859</td>\n",
       "      <td id=\"T_706a6_row9_col5\" class=\"data row9 col5\" >1.1378</td>\n",
       "      <td id=\"T_706a6_row9_col6\" class=\"data row9 col6\" >2.4839</td>\n",
       "      <td id=\"T_706a6_row9_col7\" class=\"data row9 col7\" >1.0410</td>\n",
       "    </tr>\n",
       "    <tr>\n",
       "      <th id=\"T_706a6_level0_row10\" class=\"row_heading level0 row10\" >knn</th>\n",
       "      <td id=\"T_706a6_row10_col0\" class=\"data row10 col0\" >K Neighbors Regressor</td>\n",
       "      <td id=\"T_706a6_row10_col1\" class=\"data row10 col1\" >79.9629</td>\n",
       "      <td id=\"T_706a6_row10_col2\" class=\"data row10 col2\" >8356.7404</td>\n",
       "      <td id=\"T_706a6_row10_col3\" class=\"data row10 col3\" >91.3203</td>\n",
       "      <td id=\"T_706a6_row10_col4\" class=\"data row10 col4\" >-0.1660</td>\n",
       "      <td id=\"T_706a6_row10_col5\" class=\"data row10 col5\" >1.1527</td>\n",
       "      <td id=\"T_706a6_row10_col6\" class=\"data row10 col6\" >2.4591</td>\n",
       "      <td id=\"T_706a6_row10_col7\" class=\"data row10 col7\" >0.0290</td>\n",
       "    </tr>\n",
       "    <tr>\n",
       "      <th id=\"T_706a6_level0_row11\" class=\"row_heading level0 row11\" >omp</th>\n",
       "      <td id=\"T_706a6_row11_col0\" class=\"data row11 col0\" >Orthogonal Matching Pursuit</td>\n",
       "      <td id=\"T_706a6_row11_col1\" class=\"data row11 col1\" >81.9143</td>\n",
       "      <td id=\"T_706a6_row11_col2\" class=\"data row11 col2\" >8867.6688</td>\n",
       "      <td id=\"T_706a6_row11_col3\" class=\"data row11 col3\" >94.1263</td>\n",
       "      <td id=\"T_706a6_row11_col4\" class=\"data row11 col4\" >-0.2407</td>\n",
       "      <td id=\"T_706a6_row11_col5\" class=\"data row11 col5\" >1.1753</td>\n",
       "      <td id=\"T_706a6_row11_col6\" class=\"data row11 col6\" >2.5311</td>\n",
       "      <td id=\"T_706a6_row11_col7\" class=\"data row11 col7\" >0.0570</td>\n",
       "    </tr>\n",
       "    <tr>\n",
       "      <th id=\"T_706a6_level0_row12\" class=\"row_heading level0 row12\" >ridge</th>\n",
       "      <td id=\"T_706a6_row12_col0\" class=\"data row12 col0\" >Ridge Regression</td>\n",
       "      <td id=\"T_706a6_row12_col1\" class=\"data row12 col1\" >86.0919</td>\n",
       "      <td id=\"T_706a6_row12_col2\" class=\"data row12 col2\" >10590.5832</td>\n",
       "      <td id=\"T_706a6_row12_col3\" class=\"data row12 col3\" >102.7507</td>\n",
       "      <td id=\"T_706a6_row12_col4\" class=\"data row12 col4\" >-0.4812</td>\n",
       "      <td id=\"T_706a6_row12_col5\" class=\"data row12 col5\" >1.2580</td>\n",
       "      <td id=\"T_706a6_row12_col6\" class=\"data row12 col6\" >2.5047</td>\n",
       "      <td id=\"T_706a6_row12_col7\" class=\"data row12 col7\" >0.0340</td>\n",
       "    </tr>\n",
       "    <tr>\n",
       "      <th id=\"T_706a6_level0_row13\" class=\"row_heading level0 row13\" >par</th>\n",
       "      <td id=\"T_706a6_row13_col0\" class=\"data row13 col0\" >Passive Aggressive Regressor</td>\n",
       "      <td id=\"T_706a6_row13_col1\" class=\"data row13 col1\" >93.5302</td>\n",
       "      <td id=\"T_706a6_row13_col2\" class=\"data row13 col2\" >12797.0486</td>\n",
       "      <td id=\"T_706a6_row13_col3\" class=\"data row13 col3\" >112.5889</td>\n",
       "      <td id=\"T_706a6_row13_col4\" class=\"data row13 col4\" >-0.7969</td>\n",
       "      <td id=\"T_706a6_row13_col5\" class=\"data row13 col5\" >1.3765</td>\n",
       "      <td id=\"T_706a6_row13_col6\" class=\"data row13 col6\" >2.4297</td>\n",
       "      <td id=\"T_706a6_row13_col7\" class=\"data row13 col7\" >0.0560</td>\n",
       "    </tr>\n",
       "    <tr>\n",
       "      <th id=\"T_706a6_level0_row14\" class=\"row_heading level0 row14\" >huber</th>\n",
       "      <td id=\"T_706a6_row14_col0\" class=\"data row14 col0\" >Huber Regressor</td>\n",
       "      <td id=\"T_706a6_row14_col1\" class=\"data row14 col1\" >93.7229</td>\n",
       "      <td id=\"T_706a6_row14_col2\" class=\"data row14 col2\" >13214.9317</td>\n",
       "      <td id=\"T_706a6_row14_col3\" class=\"data row14 col3\" >114.7352</td>\n",
       "      <td id=\"T_706a6_row14_col4\" class=\"data row14 col4\" >-0.8448</td>\n",
       "      <td id=\"T_706a6_row14_col5\" class=\"data row14 col5\" >1.3477</td>\n",
       "      <td id=\"T_706a6_row14_col6\" class=\"data row14 col6\" >2.6650</td>\n",
       "      <td id=\"T_706a6_row14_col7\" class=\"data row14 col7\" >0.2010</td>\n",
       "    </tr>\n",
       "    <tr>\n",
       "      <th id=\"T_706a6_level0_row15\" class=\"row_heading level0 row15\" >dt</th>\n",
       "      <td id=\"T_706a6_row15_col0\" class=\"data row15 col0\" >Decision Tree Regressor</td>\n",
       "      <td id=\"T_706a6_row15_col1\" class=\"data row15 col1\" >89.7620</td>\n",
       "      <td id=\"T_706a6_row15_col2\" class=\"data row15 col2\" >13190.4869</td>\n",
       "      <td id=\"T_706a6_row15_col3\" class=\"data row15 col3\" >114.7616</td>\n",
       "      <td id=\"T_706a6_row15_col4\" class=\"data row15 col4\" >-0.8438</td>\n",
       "      <td id=\"T_706a6_row15_col5\" class=\"data row15 col5\" >1.4298</td>\n",
       "      <td id=\"T_706a6_row15_col6\" class=\"data row15 col6\" >2.5534</td>\n",
       "      <td id=\"T_706a6_row15_col7\" class=\"data row15 col7\" >0.1400</td>\n",
       "    </tr>\n",
       "    <tr>\n",
       "      <th id=\"T_706a6_level0_row16\" class=\"row_heading level0 row16\" >lr</th>\n",
       "      <td id=\"T_706a6_row16_col0\" class=\"data row16 col0\" >Linear Regression</td>\n",
       "      <td id=\"T_706a6_row16_col1\" class=\"data row16 col1\" >113.9882</td>\n",
       "      <td id=\"T_706a6_row16_col2\" class=\"data row16 col2\" >19996.2882</td>\n",
       "      <td id=\"T_706a6_row16_col3\" class=\"data row16 col3\" >141.2584</td>\n",
       "      <td id=\"T_706a6_row16_col4\" class=\"data row16 col4\" >-1.8037</td>\n",
       "      <td id=\"T_706a6_row16_col5\" class=\"data row16 col5\" >1.4023</td>\n",
       "      <td id=\"T_706a6_row16_col6\" class=\"data row16 col6\" >2.9599</td>\n",
       "      <td id=\"T_706a6_row16_col7\" class=\"data row16 col7\" >0.0640</td>\n",
       "    </tr>\n",
       "    <tr>\n",
       "      <th id=\"T_706a6_level0_row17\" class=\"row_heading level0 row17\" >lar</th>\n",
       "      <td id=\"T_706a6_row17_col0\" class=\"data row17 col0\" >Least Angle Regression</td>\n",
       "      <td id=\"T_706a6_row17_col1\" class=\"data row17 col1\" >180.7397</td>\n",
       "      <td id=\"T_706a6_row17_col2\" class=\"data row17 col2\" >57652.3828</td>\n",
       "      <td id=\"T_706a6_row17_col3\" class=\"data row17 col3\" >228.3578</td>\n",
       "      <td id=\"T_706a6_row17_col4\" class=\"data row17 col4\" >-7.1044</td>\n",
       "      <td id=\"T_706a6_row17_col5\" class=\"data row17 col5\" >1.5606</td>\n",
       "      <td id=\"T_706a6_row17_col6\" class=\"data row17 col6\" >4.6512</td>\n",
       "      <td id=\"T_706a6_row17_col7\" class=\"data row17 col7\" >0.0550</td>\n",
       "    </tr>\n",
       "  </tbody>\n",
       "</table>\n"
      ],
      "text/plain": [
       "<pandas.io.formats.style.Styler at 0x16023f820>"
      ]
     },
     "metadata": {},
     "output_type": "display_data"
    },
    {
     "data": {
      "text/html": [],
      "text/plain": [
       "<IPython.core.display.HTML object>"
      ]
     },
     "metadata": {},
     "output_type": "display_data"
    }
   ],
   "source": [
    "comp = compare_models(sort='MSE')"
   ]
  },
  {
   "cell_type": "code",
   "execution_count": 35,
   "id": "8f975a2e",
   "metadata": {},
   "outputs": [
    {
     "data": {
      "image/png": "[encoded data removed]",
      "text/plain": [
       "<Figure size 1000x600 with 1 Axes>"
      ]
     },
     "metadata": {},
     "output_type": "display_data"
    }
   ],
   "source": [
    "import matplotlib.pyplot as plt\n",
    "import seaborn as sns\n",
    "\n",
    "results_df = pull()\n",
    "\n",
    "top_5_results = results_df[['Model', 'MSE']].head(5)\n",
    "\n",
    "plt.figure(figsize=(10, 6))\n",
    "sns.barplot(x='MSE', y='Model', data=top_5_results, palette='viridis')\n",
    "plt.title('Top 5 Models by MSE(sentence transformer)')\n",
    "plt.xlabel('MSE (Mean Square Error)')\n",
    "plt.ylabel('Model')\n",
    "plt.xlim(7000, 7300)\n",
    "plt.show()"
   ]
  },
  {
   "cell_type": "code",
   "execution_count": 29,
   "id": "2edaaf6da0d20504",
   "metadata": {},
   "outputs": [
    {
     "data": {
      "text/html": [],
      "text/plain": [
       "<IPython.core.display.HTML object>"
      ]
     },
     "metadata": {},
     "output_type": "display_data"
    },
    {
     "data": {
      "text/html": [
       "<style type=\"text/css\">\n",
       "#T_1c4af_row10_col0, #T_1c4af_row10_col1, #T_1c4af_row10_col2, #T_1c4af_row10_col3, #T_1c4af_row10_col4, #T_1c4af_row10_col5 {\n",
       "  background: yellow;\n",
       "}\n",
       "</style>\n",
       "<table id=\"T_1c4af\">\n",
       "  <thead>\n",
       "    <tr>\n",
       "      <th class=\"blank level0\" >&nbsp;</th>\n",
       "      <th id=\"T_1c4af_level0_col0\" class=\"col_heading level0 col0\" >MAE</th>\n",
       "      <th id=\"T_1c4af_level0_col1\" class=\"col_heading level0 col1\" >MSE</th>\n",
       "      <th id=\"T_1c4af_level0_col2\" class=\"col_heading level0 col2\" >RMSE</th>\n",
       "      <th id=\"T_1c4af_level0_col3\" class=\"col_heading level0 col3\" >R2</th>\n",
       "      <th id=\"T_1c4af_level0_col4\" class=\"col_heading level0 col4\" >RMSLE</th>\n",
       "      <th id=\"T_1c4af_level0_col5\" class=\"col_heading level0 col5\" >MAPE</th>\n",
       "    </tr>\n",
       "    <tr>\n",
       "      <th class=\"index_name level0\" >Fold</th>\n",
       "      <th class=\"blank col0\" >&nbsp;</th>\n",
       "      <th class=\"blank col1\" >&nbsp;</th>\n",
       "      <th class=\"blank col2\" >&nbsp;</th>\n",
       "      <th class=\"blank col3\" >&nbsp;</th>\n",
       "      <th class=\"blank col4\" >&nbsp;</th>\n",
       "      <th class=\"blank col5\" >&nbsp;</th>\n",
       "    </tr>\n",
       "  </thead>\n",
       "  <tbody>\n",
       "    <tr>\n",
       "      <th id=\"T_1c4af_level0_row0\" class=\"row_heading level0 row0\" >0</th>\n",
       "      <td id=\"T_1c4af_row0_col0\" class=\"data row0 col0\" >81.3670</td>\n",
       "      <td id=\"T_1c4af_row0_col1\" class=\"data row0 col1\" >7576.7656</td>\n",
       "      <td id=\"T_1c4af_row0_col2\" class=\"data row0 col2\" >87.0446</td>\n",
       "      <td id=\"T_1c4af_row0_col3\" class=\"data row0 col3\" >0.0061</td>\n",
       "      <td id=\"T_1c4af_row0_col4\" class=\"data row0 col4\" >1.2278</td>\n",
       "      <td id=\"T_1c4af_row0_col5\" class=\"data row0 col5\" >2.9687</td>\n",
       "    </tr>\n",
       "    <tr>\n",
       "      <th id=\"T_1c4af_level0_row1\" class=\"row_heading level0 row1\" >1</th>\n",
       "      <td id=\"T_1c4af_row1_col0\" class=\"data row1 col0\" >78.5199</td>\n",
       "      <td id=\"T_1c4af_row1_col1\" class=\"data row1 col1\" >6981.1187</td>\n",
       "      <td id=\"T_1c4af_row1_col2\" class=\"data row1 col2\" >83.5531</td>\n",
       "      <td id=\"T_1c4af_row1_col3\" class=\"data row1 col3\" >0.0103</td>\n",
       "      <td id=\"T_1c4af_row1_col4\" class=\"data row1 col4\" >0.9869</td>\n",
       "      <td id=\"T_1c4af_row1_col5\" class=\"data row1 col5\" >1.7601</td>\n",
       "    </tr>\n",
       "    <tr>\n",
       "      <th id=\"T_1c4af_level0_row2\" class=\"row_heading level0 row2\" >2</th>\n",
       "      <td id=\"T_1c4af_row2_col0\" class=\"data row2 col0\" >74.5672</td>\n",
       "      <td id=\"T_1c4af_row2_col1\" class=\"data row2 col1\" >6736.3779</td>\n",
       "      <td id=\"T_1c4af_row2_col2\" class=\"data row2 col2\" >82.0754</td>\n",
       "      <td id=\"T_1c4af_row2_col3\" class=\"data row2 col3\" >0.0068</td>\n",
       "      <td id=\"T_1c4af_row2_col4\" class=\"data row2 col4\" >1.1037</td>\n",
       "      <td id=\"T_1c4af_row2_col5\" class=\"data row2 col5\" >2.4724</td>\n",
       "    </tr>\n",
       "    <tr>\n",
       "      <th id=\"T_1c4af_level0_row3\" class=\"row_heading level0 row3\" >3</th>\n",
       "      <td id=\"T_1c4af_row3_col0\" class=\"data row3 col0\" >81.8817</td>\n",
       "      <td id=\"T_1c4af_row3_col1\" class=\"data row3 col1\" >7713.6890</td>\n",
       "      <td id=\"T_1c4af_row3_col2\" class=\"data row3 col2\" >87.8276</td>\n",
       "      <td id=\"T_1c4af_row3_col3\" class=\"data row3 col3\" >-0.0138</td>\n",
       "      <td id=\"T_1c4af_row3_col4\" class=\"data row3 col4\" >1.2182</td>\n",
       "      <td id=\"T_1c4af_row3_col5\" class=\"data row3 col5\" >2.9267</td>\n",
       "    </tr>\n",
       "    <tr>\n",
       "      <th id=\"T_1c4af_level0_row4\" class=\"row_heading level0 row4\" >4</th>\n",
       "      <td id=\"T_1c4af_row4_col0\" class=\"data row4 col0\" >74.5767</td>\n",
       "      <td id=\"T_1c4af_row4_col1\" class=\"data row4 col1\" >6618.2754</td>\n",
       "      <td id=\"T_1c4af_row4_col2\" class=\"data row4 col2\" >81.3528</td>\n",
       "      <td id=\"T_1c4af_row4_col3\" class=\"data row4 col3\" >-0.0089</td>\n",
       "      <td id=\"T_1c4af_row4_col4\" class=\"data row4 col4\" >1.1356</td>\n",
       "      <td id=\"T_1c4af_row4_col5\" class=\"data row4 col5\" >2.6394</td>\n",
       "    </tr>\n",
       "    <tr>\n",
       "      <th id=\"T_1c4af_level0_row5\" class=\"row_heading level0 row5\" >5</th>\n",
       "      <td id=\"T_1c4af_row5_col0\" class=\"data row5 col0\" >76.5169</td>\n",
       "      <td id=\"T_1c4af_row5_col1\" class=\"data row5 col1\" >6896.2593</td>\n",
       "      <td id=\"T_1c4af_row5_col2\" class=\"data row5 col2\" >83.0437</td>\n",
       "      <td id=\"T_1c4af_row5_col3\" class=\"data row5 col3\" >-0.0101</td>\n",
       "      <td id=\"T_1c4af_row5_col4\" class=\"data row5 col4\" >1.1170</td>\n",
       "      <td id=\"T_1c4af_row5_col5\" class=\"data row5 col5\" >2.4948</td>\n",
       "    </tr>\n",
       "    <tr>\n",
       "      <th id=\"T_1c4af_level0_row6\" class=\"row_heading level0 row6\" >6</th>\n",
       "      <td id=\"T_1c4af_row6_col0\" class=\"data row6 col0\" >80.0359</td>\n",
       "      <td id=\"T_1c4af_row6_col1\" class=\"data row6 col1\" >7441.3105</td>\n",
       "      <td id=\"T_1c4af_row6_col2\" class=\"data row6 col2\" >86.2630</td>\n",
       "      <td id=\"T_1c4af_row6_col3\" class=\"data row6 col3\" >0.0248</td>\n",
       "      <td id=\"T_1c4af_row6_col4\" class=\"data row6 col4\" >1.1791</td>\n",
       "      <td id=\"T_1c4af_row6_col5\" class=\"data row6 col5\" >2.6404</td>\n",
       "    </tr>\n",
       "    <tr>\n",
       "      <th id=\"T_1c4af_level0_row7\" class=\"row_heading level0 row7\" >7</th>\n",
       "      <td id=\"T_1c4af_row7_col0\" class=\"data row7 col0\" >78.3099</td>\n",
       "      <td id=\"T_1c4af_row7_col1\" class=\"data row7 col1\" >7144.2129</td>\n",
       "      <td id=\"T_1c4af_row7_col2\" class=\"data row7 col2\" >84.5234</td>\n",
       "      <td id=\"T_1c4af_row7_col3\" class=\"data row7 col3\" >-0.0076</td>\n",
       "      <td id=\"T_1c4af_row7_col4\" class=\"data row7 col4\" >1.0557</td>\n",
       "      <td id=\"T_1c4af_row7_col5\" class=\"data row7 col5\" >2.0629</td>\n",
       "    </tr>\n",
       "    <tr>\n",
       "      <th id=\"T_1c4af_level0_row8\" class=\"row_heading level0 row8\" >8</th>\n",
       "      <td id=\"T_1c4af_row8_col0\" class=\"data row8 col0\" >77.0866</td>\n",
       "      <td id=\"T_1c4af_row8_col1\" class=\"data row8 col1\" >6993.4067</td>\n",
       "      <td id=\"T_1c4af_row8_col2\" class=\"data row8 col2\" >83.6266</td>\n",
       "      <td id=\"T_1c4af_row8_col3\" class=\"data row8 col3\" >-0.0305</td>\n",
       "      <td id=\"T_1c4af_row8_col4\" class=\"data row8 col4\" >1.0695</td>\n",
       "      <td id=\"T_1c4af_row8_col5\" class=\"data row8 col5\" >2.1888</td>\n",
       "    </tr>\n",
       "    <tr>\n",
       "      <th id=\"T_1c4af_level0_row9\" class=\"row_heading level0 row9\" >9</th>\n",
       "      <td id=\"T_1c4af_row9_col0\" class=\"data row9 col0\" >80.9920</td>\n",
       "      <td id=\"T_1c4af_row9_col1\" class=\"data row9 col1\" >7489.0405</td>\n",
       "      <td id=\"T_1c4af_row9_col2\" class=\"data row9 col2\" >86.5392</td>\n",
       "      <td id=\"T_1c4af_row9_col3\" class=\"data row9 col3\" >0.0233</td>\n",
       "      <td id=\"T_1c4af_row9_col4\" class=\"data row9 col4\" >1.1802</td>\n",
       "      <td id=\"T_1c4af_row9_col5\" class=\"data row9 col5\" >2.8517</td>\n",
       "    </tr>\n",
       "    <tr>\n",
       "      <th id=\"T_1c4af_level0_row10\" class=\"row_heading level0 row10\" >Mean</th>\n",
       "      <td id=\"T_1c4af_row10_col0\" class=\"data row10 col0\" >78.3854</td>\n",
       "      <td id=\"T_1c4af_row10_col1\" class=\"data row10 col1\" >7159.0457</td>\n",
       "      <td id=\"T_1c4af_row10_col2\" class=\"data row10 col2\" >84.5850</td>\n",
       "      <td id=\"T_1c4af_row10_col3\" class=\"data row10 col3\" >0.0000</td>\n",
       "      <td id=\"T_1c4af_row10_col4\" class=\"data row10 col4\" >1.1274</td>\n",
       "      <td id=\"T_1c4af_row10_col5\" class=\"data row10 col5\" >2.5006</td>\n",
       "    </tr>\n",
       "    <tr>\n",
       "      <th id=\"T_1c4af_level0_row11\" class=\"row_heading level0 row11\" >Std</th>\n",
       "      <td id=\"T_1c4af_row11_col0\" class=\"data row11 col0\" >2.5479</td>\n",
       "      <td id=\"T_1c4af_row11_col1\" class=\"data row11 col1\" >356.3903</td>\n",
       "      <td id=\"T_1c4af_row11_col2\" class=\"data row11 col2\" >2.1049</td>\n",
       "      <td id=\"T_1c4af_row11_col3\" class=\"data row11 col3\" >0.0165</td>\n",
       "      <td id=\"T_1c4af_row11_col4\" class=\"data row11 col4\" >0.0726</td>\n",
       "      <td id=\"T_1c4af_row11_col5\" class=\"data row11 col5\" >0.3743</td>\n",
       "    </tr>\n",
       "  </tbody>\n",
       "</table>\n"
      ],
      "text/plain": [
       "<pandas.io.formats.style.Styler at 0x16053ebb0>"
      ]
     },
     "metadata": {},
     "output_type": "display_data"
    },
    {
     "data": {
      "text/html": [],
      "text/plain": [
       "<IPython.core.display.HTML object>"
      ]
     },
     "metadata": {},
     "output_type": "display_data"
    }
   ],
   "source": [
    "br = create_model('br', fold=10)"
   ]
  },
  {
   "cell_type": "code",
   "execution_count": 30,
   "id": "3358a4f061a12017",
   "metadata": {},
   "outputs": [
    {
     "data": {
      "text/html": [],
      "text/plain": [
       "<IPython.core.display.HTML object>"
      ]
     },
     "metadata": {},
     "output_type": "display_data"
    },
    {
     "data": {
      "text/html": [
       "<style type=\"text/css\">\n",
       "#T_997c4_row10_col0, #T_997c4_row10_col1, #T_997c4_row10_col2, #T_997c4_row10_col3, #T_997c4_row10_col4, #T_997c4_row10_col5 {\n",
       "  background: yellow;\n",
       "}\n",
       "</style>\n",
       "<table id=\"T_997c4\">\n",
       "  <thead>\n",
       "    <tr>\n",
       "      <th class=\"blank level0\" >&nbsp;</th>\n",
       "      <th id=\"T_997c4_level0_col0\" class=\"col_heading level0 col0\" >MAE</th>\n",
       "      <th id=\"T_997c4_level0_col1\" class=\"col_heading level0 col1\" >MSE</th>\n",
       "      <th id=\"T_997c4_level0_col2\" class=\"col_heading level0 col2\" >RMSE</th>\n",
       "      <th id=\"T_997c4_level0_col3\" class=\"col_heading level0 col3\" >R2</th>\n",
       "      <th id=\"T_997c4_level0_col4\" class=\"col_heading level0 col4\" >RMSLE</th>\n",
       "      <th id=\"T_997c4_level0_col5\" class=\"col_heading level0 col5\" >MAPE</th>\n",
       "    </tr>\n",
       "    <tr>\n",
       "      <th class=\"index_name level0\" >Fold</th>\n",
       "      <th class=\"blank col0\" >&nbsp;</th>\n",
       "      <th class=\"blank col1\" >&nbsp;</th>\n",
       "      <th class=\"blank col2\" >&nbsp;</th>\n",
       "      <th class=\"blank col3\" >&nbsp;</th>\n",
       "      <th class=\"blank col4\" >&nbsp;</th>\n",
       "      <th class=\"blank col5\" >&nbsp;</th>\n",
       "    </tr>\n",
       "  </thead>\n",
       "  <tbody>\n",
       "    <tr>\n",
       "      <th id=\"T_997c4_level0_row0\" class=\"row_heading level0 row0\" >0</th>\n",
       "      <td id=\"T_997c4_row0_col0\" class=\"data row0 col0\" >114.7054</td>\n",
       "      <td id=\"T_997c4_row0_col1\" class=\"data row0 col1\" >19978.1191</td>\n",
       "      <td id=\"T_997c4_row0_col2\" class=\"data row0 col2\" >141.3440</td>\n",
       "      <td id=\"T_997c4_row0_col3\" class=\"data row0 col3\" >-1.6207</td>\n",
       "      <td id=\"T_997c4_row0_col4\" class=\"data row0 col4\" >1.4124</td>\n",
       "      <td id=\"T_997c4_row0_col5\" class=\"data row0 col5\" >2.8671</td>\n",
       "    </tr>\n",
       "    <tr>\n",
       "      <th id=\"T_997c4_level0_row1\" class=\"row_heading level0 row1\" >1</th>\n",
       "      <td id=\"T_997c4_row1_col0\" class=\"data row1 col0\" >98.5639</td>\n",
       "      <td id=\"T_997c4_row1_col1\" class=\"data row1 col1\" >15935.0713</td>\n",
       "      <td id=\"T_997c4_row1_col2\" class=\"data row1 col2\" >126.2342</td>\n",
       "      <td id=\"T_997c4_row1_col3\" class=\"data row1 col3\" >-1.2591</td>\n",
       "      <td id=\"T_997c4_row1_col4\" class=\"data row1 col4\" >1.3415</td>\n",
       "      <td id=\"T_997c4_row1_col5\" class=\"data row1 col5\" >1.9091</td>\n",
       "    </tr>\n",
       "    <tr>\n",
       "      <th id=\"T_997c4_level0_row2\" class=\"row_heading level0 row2\" >2</th>\n",
       "      <td id=\"T_997c4_row2_col0\" class=\"data row2 col0\" >111.9499</td>\n",
       "      <td id=\"T_997c4_row2_col1\" class=\"data row2 col1\" >20215.3711</td>\n",
       "      <td id=\"T_997c4_row2_col2\" class=\"data row2 col2\" >142.1808</td>\n",
       "      <td id=\"T_997c4_row2_col3\" class=\"data row2 col3\" >-1.9805</td>\n",
       "      <td id=\"T_997c4_row2_col4\" class=\"data row2 col4\" >1.3692</td>\n",
       "      <td id=\"T_997c4_row2_col5\" class=\"data row2 col5\" >3.2852</td>\n",
       "    </tr>\n",
       "    <tr>\n",
       "      <th id=\"T_997c4_level0_row3\" class=\"row_heading level0 row3\" >3</th>\n",
       "      <td id=\"T_997c4_row3_col0\" class=\"data row3 col0\" >116.8886</td>\n",
       "      <td id=\"T_997c4_row3_col1\" class=\"data row3 col1\" >22152.2773</td>\n",
       "      <td id=\"T_997c4_row3_col2\" class=\"data row3 col2\" >148.8364</td>\n",
       "      <td id=\"T_997c4_row3_col3\" class=\"data row3 col3\" >-1.9114</td>\n",
       "      <td id=\"T_997c4_row3_col4\" class=\"data row3 col4\" >1.3792</td>\n",
       "      <td id=\"T_997c4_row3_col5\" class=\"data row3 col5\" >3.4505</td>\n",
       "    </tr>\n",
       "    <tr>\n",
       "      <th id=\"T_997c4_level0_row4\" class=\"row_heading level0 row4\" >4</th>\n",
       "      <td id=\"T_997c4_row4_col0\" class=\"data row4 col0\" >121.3430</td>\n",
       "      <td id=\"T_997c4_row4_col1\" class=\"data row4 col1\" >21687.0078</td>\n",
       "      <td id=\"T_997c4_row4_col2\" class=\"data row4 col2\" >147.2651</td>\n",
       "      <td id=\"T_997c4_row4_col3\" class=\"data row4 col3\" >-2.3062</td>\n",
       "      <td id=\"T_997c4_row4_col4\" class=\"data row4 col4\" >1.5295</td>\n",
       "      <td id=\"T_997c4_row4_col5\" class=\"data row4 col5\" >2.9167</td>\n",
       "    </tr>\n",
       "    <tr>\n",
       "      <th id=\"T_997c4_level0_row5\" class=\"row_heading level0 row5\" >5</th>\n",
       "      <td id=\"T_997c4_row5_col0\" class=\"data row5 col0\" >117.6005</td>\n",
       "      <td id=\"T_997c4_row5_col1\" class=\"data row5 col1\" >22435.8066</td>\n",
       "      <td id=\"T_997c4_row5_col2\" class=\"data row5 col2\" >149.7859</td>\n",
       "      <td id=\"T_997c4_row5_col3\" class=\"data row5 col3\" >-2.2863</td>\n",
       "      <td id=\"T_997c4_row5_col4\" class=\"data row5 col4\" >1.3672</td>\n",
       "      <td id=\"T_997c4_row5_col5\" class=\"data row5 col5\" >2.9987</td>\n",
       "    </tr>\n",
       "    <tr>\n",
       "      <th id=\"T_997c4_level0_row6\" class=\"row_heading level0 row6\" >6</th>\n",
       "      <td id=\"T_997c4_row6_col0\" class=\"data row6 col0\" >110.4950</td>\n",
       "      <td id=\"T_997c4_row6_col1\" class=\"data row6 col1\" >18756.9434</td>\n",
       "      <td id=\"T_997c4_row6_col2\" class=\"data row6 col2\" >136.9560</td>\n",
       "      <td id=\"T_997c4_row6_col3\" class=\"data row6 col3\" >-1.4581</td>\n",
       "      <td id=\"T_997c4_row6_col4\" class=\"data row6 col4\" >1.3715</td>\n",
       "      <td id=\"T_997c4_row6_col5\" class=\"data row6 col5\" >3.5449</td>\n",
       "    </tr>\n",
       "    <tr>\n",
       "      <th id=\"T_997c4_level0_row7\" class=\"row_heading level0 row7\" >7</th>\n",
       "      <td id=\"T_997c4_row7_col0\" class=\"data row7 col0\" >117.4478</td>\n",
       "      <td id=\"T_997c4_row7_col1\" class=\"data row7 col1\" >19149.6348</td>\n",
       "      <td id=\"T_997c4_row7_col2\" class=\"data row7 col2\" >138.3822</td>\n",
       "      <td id=\"T_997c4_row7_col3\" class=\"data row7 col3\" >-1.7007</td>\n",
       "      <td id=\"T_997c4_row7_col4\" class=\"data row7 col4\" >1.2922</td>\n",
       "      <td id=\"T_997c4_row7_col5\" class=\"data row7 col5\" >2.5453</td>\n",
       "    </tr>\n",
       "    <tr>\n",
       "      <th id=\"T_997c4_level0_row8\" class=\"row_heading level0 row8\" >8</th>\n",
       "      <td id=\"T_997c4_row8_col0\" class=\"data row8 col0\" >118.0786</td>\n",
       "      <td id=\"T_997c4_row8_col1\" class=\"data row8 col1\" >20205.6914</td>\n",
       "      <td id=\"T_997c4_row8_col2\" class=\"data row8 col2\" >142.1467</td>\n",
       "      <td id=\"T_997c4_row8_col3\" class=\"data row8 col3\" >-1.9774</td>\n",
       "      <td id=\"T_997c4_row8_col4\" class=\"data row8 col4\" >1.4592</td>\n",
       "      <td id=\"T_997c4_row8_col5\" class=\"data row8 col5\" >2.9427</td>\n",
       "    </tr>\n",
       "    <tr>\n",
       "      <th id=\"T_997c4_level0_row9\" class=\"row_heading level0 row9\" >9</th>\n",
       "      <td id=\"T_997c4_row9_col0\" class=\"data row9 col0\" >112.8087</td>\n",
       "      <td id=\"T_997c4_row9_col1\" class=\"data row9 col1\" >19446.9590</td>\n",
       "      <td id=\"T_997c4_row9_col2\" class=\"data row9 col2\" >139.4523</td>\n",
       "      <td id=\"T_997c4_row9_col3\" class=\"data row9 col3\" >-1.5361</td>\n",
       "      <td id=\"T_997c4_row9_col4\" class=\"data row9 col4\" >1.5015</td>\n",
       "      <td id=\"T_997c4_row9_col5\" class=\"data row9 col5\" >3.1390</td>\n",
       "    </tr>\n",
       "    <tr>\n",
       "      <th id=\"T_997c4_level0_row10\" class=\"row_heading level0 row10\" >Mean</th>\n",
       "      <td id=\"T_997c4_row10_col0\" class=\"data row10 col0\" >113.9882</td>\n",
       "      <td id=\"T_997c4_row10_col1\" class=\"data row10 col1\" >19996.2882</td>\n",
       "      <td id=\"T_997c4_row10_col2\" class=\"data row10 col2\" >141.2584</td>\n",
       "      <td id=\"T_997c4_row10_col3\" class=\"data row10 col3\" >-1.8037</td>\n",
       "      <td id=\"T_997c4_row10_col4\" class=\"data row10 col4\" >1.4023</td>\n",
       "      <td id=\"T_997c4_row10_col5\" class=\"data row10 col5\" >2.9599</td>\n",
       "    </tr>\n",
       "    <tr>\n",
       "      <th id=\"T_997c4_level0_row11\" class=\"row_heading level0 row11\" >Std</th>\n",
       "      <td id=\"T_997c4_row11_col0\" class=\"data row11 col0\" >6.0036</td>\n",
       "      <td id=\"T_997c4_row11_col1\" class=\"data row11 col1\" >1805.4997</td>\n",
       "      <td id=\"T_997c4_row11_col2\" class=\"data row11 col2\" >6.5088</td>\n",
       "      <td id=\"T_997c4_row11_col3\" class=\"data row11 col3\" >0.3302</td>\n",
       "      <td id=\"T_997c4_row11_col4\" class=\"data row11 col4\" >0.0700</td>\n",
       "      <td id=\"T_997c4_row11_col5\" class=\"data row11 col5\" >0.4482</td>\n",
       "    </tr>\n",
       "  </tbody>\n",
       "</table>\n"
      ],
      "text/plain": [
       "<pandas.io.formats.style.Styler at 0x3525aef10>"
      ]
     },
     "metadata": {},
     "output_type": "display_data"
    },
    {
     "data": {
      "text/html": [],
      "text/plain": [
       "<IPython.core.display.HTML object>"
      ]
     },
     "metadata": {},
     "output_type": "display_data"
    },
    {
     "name": "stdout",
     "output_type": "stream",
     "text": [
      "Fitting 10 folds for each of 2 candidates, totalling 20 fits\n",
      "Original model was better than the tuned model, hence it will be returned. NOTE: The display metrics are for the tuned model (not the original one).\n"
     ]
    }
   ],
   "source": [
    "en_tune = tune_model(lr, optimize='RMSE')"
   ]
  },
  {
   "cell_type": "code",
   "execution_count": 31,
   "id": "5ff2aef9",
   "metadata": {},
   "outputs": [
    {
     "data": {
      "text/html": [
       "<style type=\"text/css\">\n",
       "</style>\n",
       "<table id=\"T_6b3db\">\n",
       "  <thead>\n",
       "    <tr>\n",
       "      <th class=\"blank level0\" >&nbsp;</th>\n",
       "      <th id=\"T_6b3db_level0_col0\" class=\"col_heading level0 col0\" >Model</th>\n",
       "      <th id=\"T_6b3db_level0_col1\" class=\"col_heading level0 col1\" >MAE</th>\n",
       "      <th id=\"T_6b3db_level0_col2\" class=\"col_heading level0 col2\" >MSE</th>\n",
       "      <th id=\"T_6b3db_level0_col3\" class=\"col_heading level0 col3\" >RMSE</th>\n",
       "      <th id=\"T_6b3db_level0_col4\" class=\"col_heading level0 col4\" >R2</th>\n",
       "      <th id=\"T_6b3db_level0_col5\" class=\"col_heading level0 col5\" >RMSLE</th>\n",
       "      <th id=\"T_6b3db_level0_col6\" class=\"col_heading level0 col6\" >MAPE</th>\n",
       "    </tr>\n",
       "  </thead>\n",
       "  <tbody>\n",
       "    <tr>\n",
       "      <th id=\"T_6b3db_level0_row0\" class=\"row_heading level0 row0\" >0</th>\n",
       "      <td id=\"T_6b3db_row0_col0\" class=\"data row0 col0\" >Bayesian Ridge</td>\n",
       "      <td id=\"T_6b3db_row0_col1\" class=\"data row0 col1\" >78.7973</td>\n",
       "      <td id=\"T_6b3db_row0_col2\" class=\"data row0 col2\" >7186.8823</td>\n",
       "      <td id=\"T_6b3db_row0_col3\" class=\"data row0 col3\" >84.7755</td>\n",
       "      <td id=\"T_6b3db_row0_col4\" class=\"data row0 col4\" >0.0018</td>\n",
       "      <td id=\"T_6b3db_row0_col5\" class=\"data row0 col5\" >1.1404</td>\n",
       "      <td id=\"T_6b3db_row0_col6\" class=\"data row0 col6\" >2.5439</td>\n",
       "    </tr>\n",
       "  </tbody>\n",
       "</table>\n"
      ],
      "text/plain": [
       "<pandas.io.formats.style.Styler at 0x16001ebe0>"
      ]
     },
     "metadata": {},
     "output_type": "display_data"
    },
    {
     "name": "stdout",
     "output_type": "stream",
     "text": [
      "      feature_1  feature_2  feature_3  feature_4  feature_5  feature_6  \\\n",
      "523   -0.335311  -0.301845  -0.050029  -0.082974   0.097344  -0.232508   \n",
      "167   -0.142456  -0.265719  -0.123073  -0.257284   0.138385  -0.448003   \n",
      "657    0.052513  -0.394534   0.420434  -0.357165   0.185742  -0.241329   \n",
      "488   -0.162201  -0.430819  -0.098416  -0.163720  -0.129160   0.138204   \n",
      "1669  -0.269403  -0.485502   0.271871   0.213263   0.004627  -0.445964   \n",
      "...         ...        ...        ...        ...        ...        ...   \n",
      "1242  -0.157613  -0.447656   0.354918  -0.392770   0.041752  -0.134288   \n",
      "838   -0.119391  -0.092947  -0.191903  -1.120426   0.390865  -0.035952   \n",
      "214   -0.428093  -0.523788   0.026406  -0.193761   0.048432  -0.328809   \n",
      "378   -0.067904  -0.401485  -0.300757  -0.700640   0.290774  -0.457848   \n",
      "1664  -0.152488  -0.217577  -0.060340  -0.363106  -0.124643  -0.349259   \n",
      "\n",
      "      feature_7  feature_8  feature_9  feature_10  ...  feature_761  \\\n",
      "523    0.063744   0.062519   0.372977   -0.246314  ...    -0.142038   \n",
      "167    0.134509   0.135623   0.430113    0.062997  ...    -0.166031   \n",
      "657    0.192518   0.534430   0.471149   -0.440156  ...    -0.287402   \n",
      "488    0.555437   0.335294   0.599330   -0.134743  ...     0.130818   \n",
      "1669   0.289431   0.386194   0.637731   -0.177678  ...    -0.566997   \n",
      "...         ...        ...        ...         ...  ...          ...   \n",
      "1242   0.574656  -0.104908   0.012270   -0.160160  ...     0.025809   \n",
      "838    0.125850  -0.214968   1.202758    0.249854  ...     0.157769   \n",
      "214   -0.107314   0.326384   0.359700   -0.109524  ...    -0.226819   \n",
      "378    0.566921  -0.145306   0.299920   -0.038157  ...    -0.034497   \n",
      "1664   0.390955   0.129194   0.308030   -0.214676  ...     0.023786   \n",
      "\n",
      "      feature_762  feature_763  feature_764  feature_765  feature_766  \\\n",
      "523      0.101054     0.079555    -0.206158    -0.066730    -0.138823   \n",
      "167      0.119930    -0.243514    -0.017137    -0.188467    -0.279032   \n",
      "657      0.152270    -0.095534     0.558175    -0.162902     0.006492   \n",
      "488     -0.301649    -0.040728    -0.062579    -0.172831     0.166066   \n",
      "1669     0.288436    -0.256034     0.224740    -0.423166     0.232869   \n",
      "...           ...          ...          ...          ...          ...   \n",
      "1242     0.278758    -0.242373     0.014703    -0.112412     0.307112   \n",
      "838      0.409788    -0.545842     0.381358    -0.184436     0.332199   \n",
      "214      0.399021     0.135860    -0.216673    -0.332535     0.098830   \n",
      "378      0.042947     0.200518     0.028027     0.452579     0.038733   \n",
      "1664     0.467470    -0.064491    -0.086675     0.092903     0.177803   \n",
      "\n",
      "      feature_767  feature_768      r  prediction_label  \n",
      "523     -0.225309    -0.342102   16.0        138.007095  \n",
      "167     -0.100752    -0.342998   30.0        128.709717  \n",
      "657     -0.014891    -0.314326  181.0        115.809334  \n",
      "488     -0.145590     0.193785  188.0        127.651443  \n",
      "1669    -0.676931    -0.325917   74.0        134.736069  \n",
      "...           ...          ...    ...               ...  \n",
      "1242     0.014771    -0.270120   88.0        127.164490  \n",
      "838      0.282070     0.042237  203.0        119.657516  \n",
      "214     -0.293348    -0.229456   13.0        136.675095  \n",
      "378     -0.056743    -0.275255  208.0        134.639557  \n",
      "1664     0.040673    -0.592186   13.0        117.713860  \n",
      "\n",
      "[335 rows x 770 columns]\n"
     ]
    }
   ],
   "source": [
    "print(predict_model(br))"
   ]
  },
  {
   "cell_type": "code",
   "execution_count": null,
   "id": "d6939667386aa5db",
   "metadata": {},
   "outputs": [],
   "source": [
    "saved_en = save_model(en_tune, './en_sent')"
   ]
  },
  {
   "cell_type": "code",
   "execution_count": null,
   "id": "dcd2895533e6d6bf",
   "metadata": {},
   "outputs": [],
   "source": [
    "load_en = load_model('./en_sent')\n",
    "load_en['trained_model']"
   ]
  },
  {
   "cell_type": "code",
   "execution_count": 37,
   "id": "a80863b2",
   "metadata": {},
   "outputs": [
    {
     "data": {
      "text/html": [
       "<style type=\"text/css\">\n",
       "#T_82922_row8_col1 {\n",
       "  background-color: lightgreen;\n",
       "}\n",
       "</style>\n",
       "<table id=\"T_82922\">\n",
       "  <thead>\n",
       "    <tr>\n",
       "      <th class=\"blank level0\" >&nbsp;</th>\n",
       "      <th id=\"T_82922_level0_col0\" class=\"col_heading level0 col0\" >Description</th>\n",
       "      <th id=\"T_82922_level0_col1\" class=\"col_heading level0 col1\" >Value</th>\n",
       "    </tr>\n",
       "  </thead>\n",
       "  <tbody>\n",
       "    <tr>\n",
       "      <th id=\"T_82922_level0_row0\" class=\"row_heading level0 row0\" >0</th>\n",
       "      <td id=\"T_82922_row0_col0\" class=\"data row0 col0\" >Session id</td>\n",
       "      <td id=\"T_82922_row0_col1\" class=\"data row0 col1\" >3488</td>\n",
       "    </tr>\n",
       "    <tr>\n",
       "      <th id=\"T_82922_level0_row1\" class=\"row_heading level0 row1\" >1</th>\n",
       "      <td id=\"T_82922_row1_col0\" class=\"data row1 col0\" >Target</td>\n",
       "      <td id=\"T_82922_row1_col1\" class=\"data row1 col1\" >g</td>\n",
       "    </tr>\n",
       "    <tr>\n",
       "      <th id=\"T_82922_level0_row2\" class=\"row_heading level0 row2\" >2</th>\n",
       "      <td id=\"T_82922_row2_col0\" class=\"data row2 col0\" >Target type</td>\n",
       "      <td id=\"T_82922_row2_col1\" class=\"data row2 col1\" >Regression</td>\n",
       "    </tr>\n",
       "    <tr>\n",
       "      <th id=\"T_82922_level0_row3\" class=\"row_heading level0 row3\" >3</th>\n",
       "      <td id=\"T_82922_row3_col0\" class=\"data row3 col0\" >Original data shape</td>\n",
       "      <td id=\"T_82922_row3_col1\" class=\"data row3 col1\" >(1674, 769)</td>\n",
       "    </tr>\n",
       "    <tr>\n",
       "      <th id=\"T_82922_level0_row4\" class=\"row_heading level0 row4\" >4</th>\n",
       "      <td id=\"T_82922_row4_col0\" class=\"data row4 col0\" >Transformed data shape</td>\n",
       "      <td id=\"T_82922_row4_col1\" class=\"data row4 col1\" >(1674, 769)</td>\n",
       "    </tr>\n",
       "    <tr>\n",
       "      <th id=\"T_82922_level0_row5\" class=\"row_heading level0 row5\" >5</th>\n",
       "      <td id=\"T_82922_row5_col0\" class=\"data row5 col0\" >Transformed train set shape</td>\n",
       "      <td id=\"T_82922_row5_col1\" class=\"data row5 col1\" >(1339, 769)</td>\n",
       "    </tr>\n",
       "    <tr>\n",
       "      <th id=\"T_82922_level0_row6\" class=\"row_heading level0 row6\" >6</th>\n",
       "      <td id=\"T_82922_row6_col0\" class=\"data row6 col0\" >Transformed test set shape</td>\n",
       "      <td id=\"T_82922_row6_col1\" class=\"data row6 col1\" >(335, 769)</td>\n",
       "    </tr>\n",
       "    <tr>\n",
       "      <th id=\"T_82922_level0_row7\" class=\"row_heading level0 row7\" >7</th>\n",
       "      <td id=\"T_82922_row7_col0\" class=\"data row7 col0\" >Numeric features</td>\n",
       "      <td id=\"T_82922_row7_col1\" class=\"data row7 col1\" >768</td>\n",
       "    </tr>\n",
       "    <tr>\n",
       "      <th id=\"T_82922_level0_row8\" class=\"row_heading level0 row8\" >8</th>\n",
       "      <td id=\"T_82922_row8_col0\" class=\"data row8 col0\" >Preprocess</td>\n",
       "      <td id=\"T_82922_row8_col1\" class=\"data row8 col1\" >True</td>\n",
       "    </tr>\n",
       "    <tr>\n",
       "      <th id=\"T_82922_level0_row9\" class=\"row_heading level0 row9\" >9</th>\n",
       "      <td id=\"T_82922_row9_col0\" class=\"data row9 col0\" >Imputation type</td>\n",
       "      <td id=\"T_82922_row9_col1\" class=\"data row9 col1\" >simple</td>\n",
       "    </tr>\n",
       "    <tr>\n",
       "      <th id=\"T_82922_level0_row10\" class=\"row_heading level0 row10\" >10</th>\n",
       "      <td id=\"T_82922_row10_col0\" class=\"data row10 col0\" >Numeric imputation</td>\n",
       "      <td id=\"T_82922_row10_col1\" class=\"data row10 col1\" >mean</td>\n",
       "    </tr>\n",
       "    <tr>\n",
       "      <th id=\"T_82922_level0_row11\" class=\"row_heading level0 row11\" >11</th>\n",
       "      <td id=\"T_82922_row11_col0\" class=\"data row11 col0\" >Categorical imputation</td>\n",
       "      <td id=\"T_82922_row11_col1\" class=\"data row11 col1\" >mode</td>\n",
       "    </tr>\n",
       "    <tr>\n",
       "      <th id=\"T_82922_level0_row12\" class=\"row_heading level0 row12\" >12</th>\n",
       "      <td id=\"T_82922_row12_col0\" class=\"data row12 col0\" >Fold Generator</td>\n",
       "      <td id=\"T_82922_row12_col1\" class=\"data row12 col1\" >KFold</td>\n",
       "    </tr>\n",
       "    <tr>\n",
       "      <th id=\"T_82922_level0_row13\" class=\"row_heading level0 row13\" >13</th>\n",
       "      <td id=\"T_82922_row13_col0\" class=\"data row13 col0\" >Fold Number</td>\n",
       "      <td id=\"T_82922_row13_col1\" class=\"data row13 col1\" >10</td>\n",
       "    </tr>\n",
       "    <tr>\n",
       "      <th id=\"T_82922_level0_row14\" class=\"row_heading level0 row14\" >14</th>\n",
       "      <td id=\"T_82922_row14_col0\" class=\"data row14 col0\" >CPU Jobs</td>\n",
       "      <td id=\"T_82922_row14_col1\" class=\"data row14 col1\" >-1</td>\n",
       "    </tr>\n",
       "    <tr>\n",
       "      <th id=\"T_82922_level0_row15\" class=\"row_heading level0 row15\" >15</th>\n",
       "      <td id=\"T_82922_row15_col0\" class=\"data row15 col0\" >Use GPU</td>\n",
       "      <td id=\"T_82922_row15_col1\" class=\"data row15 col1\" >False</td>\n",
       "    </tr>\n",
       "    <tr>\n",
       "      <th id=\"T_82922_level0_row16\" class=\"row_heading level0 row16\" >16</th>\n",
       "      <td id=\"T_82922_row16_col0\" class=\"data row16 col0\" >Log Experiment</td>\n",
       "      <td id=\"T_82922_row16_col1\" class=\"data row16 col1\" >False</td>\n",
       "    </tr>\n",
       "    <tr>\n",
       "      <th id=\"T_82922_level0_row17\" class=\"row_heading level0 row17\" >17</th>\n",
       "      <td id=\"T_82922_row17_col0\" class=\"data row17 col0\" >Experiment Name</td>\n",
       "      <td id=\"T_82922_row17_col1\" class=\"data row17 col1\" >reg-default-name</td>\n",
       "    </tr>\n",
       "    <tr>\n",
       "      <th id=\"T_82922_level0_row18\" class=\"row_heading level0 row18\" >18</th>\n",
       "      <td id=\"T_82922_row18_col0\" class=\"data row18 col0\" >USI</td>\n",
       "      <td id=\"T_82922_row18_col1\" class=\"data row18 col1\" >594f</td>\n",
       "    </tr>\n",
       "  </tbody>\n",
       "</table>\n"
      ],
      "text/plain": [
       "<pandas.io.formats.style.Styler at 0x33d1dc9d0>"
      ]
     },
     "metadata": {},
     "output_type": "display_data"
    },
    {
     "data": {
      "text/html": [],
      "text/plain": [
       "<IPython.core.display.HTML object>"
      ]
     },
     "metadata": {},
     "output_type": "display_data"
    },
    {
     "data": {
      "text/html": [
       "<style type=\"text/css\">\n",
       "#T_b6ef4 th {\n",
       "  text-align: left;\n",
       "}\n",
       "#T_b6ef4_row0_col0, #T_b6ef4_row0_col1, #T_b6ef4_row0_col5, #T_b6ef4_row0_col6, #T_b6ef4_row1_col0, #T_b6ef4_row1_col1, #T_b6ef4_row1_col2, #T_b6ef4_row1_col3, #T_b6ef4_row1_col4, #T_b6ef4_row1_col5, #T_b6ef4_row1_col6, #T_b6ef4_row2_col0, #T_b6ef4_row2_col1, #T_b6ef4_row2_col2, #T_b6ef4_row2_col3, #T_b6ef4_row2_col4, #T_b6ef4_row2_col5, #T_b6ef4_row2_col6, #T_b6ef4_row3_col0, #T_b6ef4_row3_col1, #T_b6ef4_row3_col2, #T_b6ef4_row3_col3, #T_b6ef4_row3_col4, #T_b6ef4_row3_col5, #T_b6ef4_row3_col6, #T_b6ef4_row4_col0, #T_b6ef4_row4_col2, #T_b6ef4_row4_col3, #T_b6ef4_row4_col4, #T_b6ef4_row4_col6, #T_b6ef4_row5_col0, #T_b6ef4_row5_col1, #T_b6ef4_row5_col2, #T_b6ef4_row5_col3, #T_b6ef4_row5_col4, #T_b6ef4_row5_col5, #T_b6ef4_row5_col6, #T_b6ef4_row6_col0, #T_b6ef4_row6_col1, #T_b6ef4_row6_col2, #T_b6ef4_row6_col3, #T_b6ef4_row6_col4, #T_b6ef4_row6_col5, #T_b6ef4_row6_col6, #T_b6ef4_row7_col0, #T_b6ef4_row7_col1, #T_b6ef4_row7_col2, #T_b6ef4_row7_col3, #T_b6ef4_row7_col4, #T_b6ef4_row7_col5, #T_b6ef4_row7_col6, #T_b6ef4_row8_col0, #T_b6ef4_row8_col1, #T_b6ef4_row8_col2, #T_b6ef4_row8_col3, #T_b6ef4_row8_col4, #T_b6ef4_row8_col5, #T_b6ef4_row9_col0, #T_b6ef4_row9_col1, #T_b6ef4_row9_col2, #T_b6ef4_row9_col3, #T_b6ef4_row9_col4, #T_b6ef4_row9_col5, #T_b6ef4_row9_col6, #T_b6ef4_row10_col0, #T_b6ef4_row10_col1, #T_b6ef4_row10_col2, #T_b6ef4_row10_col3, #T_b6ef4_row10_col4, #T_b6ef4_row10_col5, #T_b6ef4_row10_col6, #T_b6ef4_row11_col0, #T_b6ef4_row11_col1, #T_b6ef4_row11_col2, #T_b6ef4_row11_col3, #T_b6ef4_row11_col4, #T_b6ef4_row11_col5, #T_b6ef4_row11_col6, #T_b6ef4_row12_col0, #T_b6ef4_row12_col1, #T_b6ef4_row12_col2, #T_b6ef4_row12_col3, #T_b6ef4_row12_col4, #T_b6ef4_row12_col5, #T_b6ef4_row12_col6, #T_b6ef4_row13_col0, #T_b6ef4_row13_col1, #T_b6ef4_row13_col2, #T_b6ef4_row13_col3, #T_b6ef4_row13_col4, #T_b6ef4_row13_col5, #T_b6ef4_row13_col6, #T_b6ef4_row14_col0, #T_b6ef4_row14_col1, #T_b6ef4_row14_col2, #T_b6ef4_row14_col3, #T_b6ef4_row14_col4, #T_b6ef4_row14_col5, #T_b6ef4_row14_col6, #T_b6ef4_row15_col0, #T_b6ef4_row15_col1, #T_b6ef4_row15_col2, #T_b6ef4_row15_col3, #T_b6ef4_row15_col4, #T_b6ef4_row15_col5, #T_b6ef4_row15_col6, #T_b6ef4_row16_col0, #T_b6ef4_row16_col1, #T_b6ef4_row16_col2, #T_b6ef4_row16_col3, #T_b6ef4_row16_col4, #T_b6ef4_row16_col5, #T_b6ef4_row16_col6, #T_b6ef4_row17_col0, #T_b6ef4_row17_col1, #T_b6ef4_row17_col2, #T_b6ef4_row17_col3, #T_b6ef4_row17_col4, #T_b6ef4_row17_col5, #T_b6ef4_row17_col6 {\n",
       "  text-align: left;\n",
       "}\n",
       "#T_b6ef4_row0_col2, #T_b6ef4_row0_col3, #T_b6ef4_row0_col4, #T_b6ef4_row4_col1, #T_b6ef4_row4_col5, #T_b6ef4_row8_col6 {\n",
       "  text-align: left;\n",
       "  background-color: yellow;\n",
       "}\n",
       "#T_b6ef4_row0_col7, #T_b6ef4_row1_col7, #T_b6ef4_row2_col7, #T_b6ef4_row4_col7, #T_b6ef4_row5_col7, #T_b6ef4_row6_col7, #T_b6ef4_row7_col7, #T_b6ef4_row8_col7, #T_b6ef4_row9_col7, #T_b6ef4_row10_col7, #T_b6ef4_row11_col7, #T_b6ef4_row12_col7, #T_b6ef4_row13_col7, #T_b6ef4_row14_col7, #T_b6ef4_row15_col7, #T_b6ef4_row16_col7, #T_b6ef4_row17_col7 {\n",
       "  text-align: left;\n",
       "  background-color: lightgrey;\n",
       "}\n",
       "#T_b6ef4_row3_col7 {\n",
       "  text-align: left;\n",
       "  background-color: yellow;\n",
       "  background-color: lightgrey;\n",
       "}\n",
       "</style>\n",
       "<table id=\"T_b6ef4\">\n",
       "  <thead>\n",
       "    <tr>\n",
       "      <th class=\"blank level0\" >&nbsp;</th>\n",
       "      <th id=\"T_b6ef4_level0_col0\" class=\"col_heading level0 col0\" >Model</th>\n",
       "      <th id=\"T_b6ef4_level0_col1\" class=\"col_heading level0 col1\" >MAE</th>\n",
       "      <th id=\"T_b6ef4_level0_col2\" class=\"col_heading level0 col2\" >MSE</th>\n",
       "      <th id=\"T_b6ef4_level0_col3\" class=\"col_heading level0 col3\" >RMSE</th>\n",
       "      <th id=\"T_b6ef4_level0_col4\" class=\"col_heading level0 col4\" >R2</th>\n",
       "      <th id=\"T_b6ef4_level0_col5\" class=\"col_heading level0 col5\" >RMSLE</th>\n",
       "      <th id=\"T_b6ef4_level0_col6\" class=\"col_heading level0 col6\" >MAPE</th>\n",
       "      <th id=\"T_b6ef4_level0_col7\" class=\"col_heading level0 col7\" >TT (Sec)</th>\n",
       "    </tr>\n",
       "  </thead>\n",
       "  <tbody>\n",
       "    <tr>\n",
       "      <th id=\"T_b6ef4_level0_row0\" class=\"row_heading level0 row0\" >en</th>\n",
       "      <td id=\"T_b6ef4_row0_col0\" class=\"data row0 col0\" >Elastic Net</td>\n",
       "      <td id=\"T_b6ef4_row0_col1\" class=\"data row0 col1\" >69.3544</td>\n",
       "      <td id=\"T_b6ef4_row0_col2\" class=\"data row0 col2\" >5855.8356</td>\n",
       "      <td id=\"T_b6ef4_row0_col3\" class=\"data row0 col3\" >76.5042</td>\n",
       "      <td id=\"T_b6ef4_row0_col4\" class=\"data row0 col4\" >0.0142</td>\n",
       "      <td id=\"T_b6ef4_row0_col5\" class=\"data row0 col5\" >1.0543</td>\n",
       "      <td id=\"T_b6ef4_row0_col6\" class=\"data row0 col6\" >2.0988</td>\n",
       "      <td id=\"T_b6ef4_row0_col7\" class=\"data row0 col7\" >0.0240</td>\n",
       "    </tr>\n",
       "    <tr>\n",
       "      <th id=\"T_b6ef4_level0_row1\" class=\"row_heading level0 row1\" >br</th>\n",
       "      <td id=\"T_b6ef4_row1_col0\" class=\"data row1 col0\" >Bayesian Ridge</td>\n",
       "      <td id=\"T_b6ef4_row1_col1\" class=\"data row1 col1\" >69.2754</td>\n",
       "      <td id=\"T_b6ef4_row1_col2\" class=\"data row1 col2\" >5858.5323</td>\n",
       "      <td id=\"T_b6ef4_row1_col3\" class=\"data row1 col3\" >76.5212</td>\n",
       "      <td id=\"T_b6ef4_row1_col4\" class=\"data row1 col4\" >0.0137</td>\n",
       "      <td id=\"T_b6ef4_row1_col5\" class=\"data row1 col5\" >1.0532</td>\n",
       "      <td id=\"T_b6ef4_row1_col6\" class=\"data row1 col6\" >2.0890</td>\n",
       "      <td id=\"T_b6ef4_row1_col7\" class=\"data row1 col7\" >0.0650</td>\n",
       "    </tr>\n",
       "    <tr>\n",
       "      <th id=\"T_b6ef4_level0_row2\" class=\"row_heading level0 row2\" >llar</th>\n",
       "      <td id=\"T_b6ef4_row2_col0\" class=\"data row2 col0\" >Lasso Least Angle Regression</td>\n",
       "      <td id=\"T_b6ef4_row2_col1\" class=\"data row2 col1\" >69.6748</td>\n",
       "      <td id=\"T_b6ef4_row2_col2\" class=\"data row2 col2\" >5920.9314</td>\n",
       "      <td id=\"T_b6ef4_row2_col3\" class=\"data row2 col3\" >76.9270</td>\n",
       "      <td id=\"T_b6ef4_row2_col4\" class=\"data row2 col4\" >0.0032</td>\n",
       "      <td id=\"T_b6ef4_row2_col5\" class=\"data row2 col5\" >1.0559</td>\n",
       "      <td id=\"T_b6ef4_row2_col6\" class=\"data row2 col6\" >2.0966</td>\n",
       "      <td id=\"T_b6ef4_row2_col7\" class=\"data row2 col7\" >0.0230</td>\n",
       "    </tr>\n",
       "    <tr>\n",
       "      <th id=\"T_b6ef4_level0_row3\" class=\"row_heading level0 row3\" >lasso</th>\n",
       "      <td id=\"T_b6ef4_row3_col0\" class=\"data row3 col0\" >Lasso Regression</td>\n",
       "      <td id=\"T_b6ef4_row3_col1\" class=\"data row3 col1\" >69.6749</td>\n",
       "      <td id=\"T_b6ef4_row3_col2\" class=\"data row3 col2\" >5920.9325</td>\n",
       "      <td id=\"T_b6ef4_row3_col3\" class=\"data row3 col3\" >76.9270</td>\n",
       "      <td id=\"T_b6ef4_row3_col4\" class=\"data row3 col4\" >0.0032</td>\n",
       "      <td id=\"T_b6ef4_row3_col5\" class=\"data row3 col5\" >1.0559</td>\n",
       "      <td id=\"T_b6ef4_row3_col6\" class=\"data row3 col6\" >2.0966</td>\n",
       "      <td id=\"T_b6ef4_row3_col7\" class=\"data row3 col7\" >0.0220</td>\n",
       "    </tr>\n",
       "    <tr>\n",
       "      <th id=\"T_b6ef4_level0_row4\" class=\"row_heading level0 row4\" >et</th>\n",
       "      <td id=\"T_b6ef4_row4_col0\" class=\"data row4 col0\" >Extra Trees Regressor</td>\n",
       "      <td id=\"T_b6ef4_row4_col1\" class=\"data row4 col1\" >69.2279</td>\n",
       "      <td id=\"T_b6ef4_row4_col2\" class=\"data row4 col2\" >5934.3655</td>\n",
       "      <td id=\"T_b6ef4_row4_col3\" class=\"data row4 col3\" >77.0006</td>\n",
       "      <td id=\"T_b6ef4_row4_col4\" class=\"data row4 col4\" >0.0008</td>\n",
       "      <td id=\"T_b6ef4_row4_col5\" class=\"data row4 col5\" >1.0504</td>\n",
       "      <td id=\"T_b6ef4_row4_col6\" class=\"data row4 col6\" >2.0677</td>\n",
       "      <td id=\"T_b6ef4_row4_col7\" class=\"data row4 col7\" >2.0780</td>\n",
       "    </tr>\n",
       "    <tr>\n",
       "      <th id=\"T_b6ef4_level0_row5\" class=\"row_heading level0 row5\" >rf</th>\n",
       "      <td id=\"T_b6ef4_row5_col0\" class=\"data row5 col0\" >Random Forest Regressor</td>\n",
       "      <td id=\"T_b6ef4_row5_col1\" class=\"data row5 col1\" >69.3650</td>\n",
       "      <td id=\"T_b6ef4_row5_col2\" class=\"data row5 col2\" >5944.9840</td>\n",
       "      <td id=\"T_b6ef4_row5_col3\" class=\"data row5 col3\" >77.0820</td>\n",
       "      <td id=\"T_b6ef4_row5_col4\" class=\"data row5 col4\" >-0.0013</td>\n",
       "      <td id=\"T_b6ef4_row5_col5\" class=\"data row5 col5\" >1.0557</td>\n",
       "      <td id=\"T_b6ef4_row5_col6\" class=\"data row5 col6\" >2.0965</td>\n",
       "      <td id=\"T_b6ef4_row5_col7\" class=\"data row5 col7\" >5.7790</td>\n",
       "    </tr>\n",
       "    <tr>\n",
       "      <th id=\"T_b6ef4_level0_row6\" class=\"row_heading level0 row6\" >ada</th>\n",
       "      <td id=\"T_b6ef4_row6_col0\" class=\"data row6 col0\" >AdaBoost Regressor</td>\n",
       "      <td id=\"T_b6ef4_row6_col1\" class=\"data row6 col1\" >69.9511</td>\n",
       "      <td id=\"T_b6ef4_row6_col2\" class=\"data row6 col2\" >5958.8307</td>\n",
       "      <td id=\"T_b6ef4_row6_col3\" class=\"data row6 col3\" >77.1735</td>\n",
       "      <td id=\"T_b6ef4_row6_col4\" class=\"data row6 col4\" >-0.0033</td>\n",
       "      <td id=\"T_b6ef4_row6_col5\" class=\"data row6 col5\" >1.0727</td>\n",
       "      <td id=\"T_b6ef4_row6_col6\" class=\"data row6 col6\" >2.1941</td>\n",
       "      <td id=\"T_b6ef4_row6_col7\" class=\"data row6 col7\" >1.4930</td>\n",
       "    </tr>\n",
       "    <tr>\n",
       "      <th id=\"T_b6ef4_level0_row7\" class=\"row_heading level0 row7\" >dummy</th>\n",
       "      <td id=\"T_b6ef4_row7_col0\" class=\"data row7 col0\" >Dummy Regressor</td>\n",
       "      <td id=\"T_b6ef4_row7_col1\" class=\"data row7 col1\" >70.2768</td>\n",
       "      <td id=\"T_b6ef4_row7_col2\" class=\"data row7 col2\" >5995.3936</td>\n",
       "      <td id=\"T_b6ef4_row7_col3\" class=\"data row7 col3\" >77.4104</td>\n",
       "      <td id=\"T_b6ef4_row7_col4\" class=\"data row7 col4\" >-0.0092</td>\n",
       "      <td id=\"T_b6ef4_row7_col5\" class=\"data row7 col5\" >1.0654</td>\n",
       "      <td id=\"T_b6ef4_row7_col6\" class=\"data row7 col6\" >2.1615</td>\n",
       "      <td id=\"T_b6ef4_row7_col7\" class=\"data row7 col7\" >0.0360</td>\n",
       "    </tr>\n",
       "    <tr>\n",
       "      <th id=\"T_b6ef4_level0_row8\" class=\"row_heading level0 row8\" >gbr</th>\n",
       "      <td id=\"T_b6ef4_row8_col0\" class=\"data row8 col0\" >Gradient Boosting Regressor</td>\n",
       "      <td id=\"T_b6ef4_row8_col1\" class=\"data row8 col1\" >69.9681</td>\n",
       "      <td id=\"T_b6ef4_row8_col2\" class=\"data row8 col2\" >6187.4881</td>\n",
       "      <td id=\"T_b6ef4_row8_col3\" class=\"data row8 col3\" >78.6335</td>\n",
       "      <td id=\"T_b6ef4_row8_col4\" class=\"data row8 col4\" >-0.0423</td>\n",
       "      <td id=\"T_b6ef4_row8_col5\" class=\"data row8 col5\" >1.0581</td>\n",
       "      <td id=\"T_b6ef4_row8_col6\" class=\"data row8 col6\" >2.0653</td>\n",
       "      <td id=\"T_b6ef4_row8_col7\" class=\"data row8 col7\" >3.8290</td>\n",
       "    </tr>\n",
       "    <tr>\n",
       "      <th id=\"T_b6ef4_level0_row9\" class=\"row_heading level0 row9\" >lightgbm</th>\n",
       "      <td id=\"T_b6ef4_row9_col0\" class=\"data row9 col0\" >Light Gradient Boosting Machine</td>\n",
       "      <td id=\"T_b6ef4_row9_col1\" class=\"data row9 col1\" >70.3331</td>\n",
       "      <td id=\"T_b6ef4_row9_col2\" class=\"data row9 col2\" >6345.4208</td>\n",
       "      <td id=\"T_b6ef4_row9_col3\" class=\"data row9 col3\" >79.6363</td>\n",
       "      <td id=\"T_b6ef4_row9_col4\" class=\"data row9 col4\" >-0.0693</td>\n",
       "      <td id=\"T_b6ef4_row9_col5\" class=\"data row9 col5\" >1.0677</td>\n",
       "      <td id=\"T_b6ef4_row9_col6\" class=\"data row9 col6\" >2.1170</td>\n",
       "      <td id=\"T_b6ef4_row9_col7\" class=\"data row9 col7\" >1.0270</td>\n",
       "    </tr>\n",
       "    <tr>\n",
       "      <th id=\"T_b6ef4_level0_row10\" class=\"row_heading level0 row10\" >knn</th>\n",
       "      <td id=\"T_b6ef4_row10_col0\" class=\"data row10 col0\" >K Neighbors Regressor</td>\n",
       "      <td id=\"T_b6ef4_row10_col1\" class=\"data row10 col1\" >72.1235</td>\n",
       "      <td id=\"T_b6ef4_row10_col2\" class=\"data row10 col2\" >6994.2307</td>\n",
       "      <td id=\"T_b6ef4_row10_col3\" class=\"data row10 col3\" >83.5926</td>\n",
       "      <td id=\"T_b6ef4_row10_col4\" class=\"data row10 col4\" >-0.1772</td>\n",
       "      <td id=\"T_b6ef4_row10_col5\" class=\"data row10 col5\" >1.0881</td>\n",
       "      <td id=\"T_b6ef4_row10_col6\" class=\"data row10 col6\" >2.0762</td>\n",
       "      <td id=\"T_b6ef4_row10_col7\" class=\"data row10 col7\" >0.0300</td>\n",
       "    </tr>\n",
       "    <tr>\n",
       "      <th id=\"T_b6ef4_level0_row11\" class=\"row_heading level0 row11\" >omp</th>\n",
       "      <td id=\"T_b6ef4_row11_col0\" class=\"data row11 col0\" >Orthogonal Matching Pursuit</td>\n",
       "      <td id=\"T_b6ef4_row11_col1\" class=\"data row11 col1\" >73.0134</td>\n",
       "      <td id=\"T_b6ef4_row11_col2\" class=\"data row11 col2\" >7258.5607</td>\n",
       "      <td id=\"T_b6ef4_row11_col3\" class=\"data row11 col3\" >85.1110</td>\n",
       "      <td id=\"T_b6ef4_row11_col4\" class=\"data row11 col4\" >-0.2230</td>\n",
       "      <td id=\"T_b6ef4_row11_col5\" class=\"data row11 col5\" >1.1267</td>\n",
       "      <td id=\"T_b6ef4_row11_col6\" class=\"data row11 col6\" >2.0899</td>\n",
       "      <td id=\"T_b6ef4_row11_col7\" class=\"data row11 col7\" >0.0300</td>\n",
       "    </tr>\n",
       "    <tr>\n",
       "      <th id=\"T_b6ef4_level0_row12\" class=\"row_heading level0 row12\" >ridge</th>\n",
       "      <td id=\"T_b6ef4_row12_col0\" class=\"data row12 col0\" >Ridge Regression</td>\n",
       "      <td id=\"T_b6ef4_row12_col1\" class=\"data row12 col1\" >77.3486</td>\n",
       "      <td id=\"T_b6ef4_row12_col2\" class=\"data row12 col2\" >8537.5045</td>\n",
       "      <td id=\"T_b6ef4_row12_col3\" class=\"data row12 col3\" >92.2626</td>\n",
       "      <td id=\"T_b6ef4_row12_col4\" class=\"data row12 col4\" >-0.4362</td>\n",
       "      <td id=\"T_b6ef4_row12_col5\" class=\"data row12 col5\" >1.2099</td>\n",
       "      <td id=\"T_b6ef4_row12_col6\" class=\"data row12 col6\" >2.1311</td>\n",
       "      <td id=\"T_b6ef4_row12_col7\" class=\"data row12 col7\" >0.0270</td>\n",
       "    </tr>\n",
       "    <tr>\n",
       "      <th id=\"T_b6ef4_level0_row13\" class=\"row_heading level0 row13\" >par</th>\n",
       "      <td id=\"T_b6ef4_row13_col0\" class=\"data row13 col0\" >Passive Aggressive Regressor</td>\n",
       "      <td id=\"T_b6ef4_row13_col1\" class=\"data row13 col1\" >80.3412</td>\n",
       "      <td id=\"T_b6ef4_row13_col2\" class=\"data row13 col2\" >9824.7853</td>\n",
       "      <td id=\"T_b6ef4_row13_col3\" class=\"data row13 col3\" >98.7588</td>\n",
       "      <td id=\"T_b6ef4_row13_col4\" class=\"data row13 col4\" >-0.6553</td>\n",
       "      <td id=\"T_b6ef4_row13_col5\" class=\"data row13 col5\" >1.2480</td>\n",
       "      <td id=\"T_b6ef4_row13_col6\" class=\"data row13 col6\" >2.0878</td>\n",
       "      <td id=\"T_b6ef4_row13_col7\" class=\"data row13 col7\" >0.0410</td>\n",
       "    </tr>\n",
       "    <tr>\n",
       "      <th id=\"T_b6ef4_level0_row14\" class=\"row_heading level0 row14\" >huber</th>\n",
       "      <td id=\"T_b6ef4_row14_col0\" class=\"data row14 col0\" >Huber Regressor</td>\n",
       "      <td id=\"T_b6ef4_row14_col1\" class=\"data row14 col1\" >83.7872</td>\n",
       "      <td id=\"T_b6ef4_row14_col2\" class=\"data row14 col2\" >10486.2625</td>\n",
       "      <td id=\"T_b6ef4_row14_col3\" class=\"data row14 col3\" >102.2698</td>\n",
       "      <td id=\"T_b6ef4_row14_col4\" class=\"data row14 col4\" >-0.7644</td>\n",
       "      <td id=\"T_b6ef4_row14_col5\" class=\"data row14 col5\" >1.2916</td>\n",
       "      <td id=\"T_b6ef4_row14_col6\" class=\"data row14 col6\" >2.2083</td>\n",
       "      <td id=\"T_b6ef4_row14_col7\" class=\"data row14 col7\" >0.1460</td>\n",
       "    </tr>\n",
       "    <tr>\n",
       "      <th id=\"T_b6ef4_level0_row15\" class=\"row_heading level0 row15\" >dt</th>\n",
       "      <td id=\"T_b6ef4_row15_col0\" class=\"data row15 col0\" >Decision Tree Regressor</td>\n",
       "      <td id=\"T_b6ef4_row15_col1\" class=\"data row15 col1\" >85.1895</td>\n",
       "      <td id=\"T_b6ef4_row15_col2\" class=\"data row15 col2\" >11326.0219</td>\n",
       "      <td id=\"T_b6ef4_row15_col3\" class=\"data row15 col3\" >106.3390</td>\n",
       "      <td id=\"T_b6ef4_row15_col4\" class=\"data row15 col4\" >-0.9067</td>\n",
       "      <td id=\"T_b6ef4_row15_col5\" class=\"data row15 col5\" >1.3704</td>\n",
       "      <td id=\"T_b6ef4_row15_col6\" class=\"data row15 col6\" >2.3586</td>\n",
       "      <td id=\"T_b6ef4_row15_col7\" class=\"data row15 col7\" >0.1250</td>\n",
       "    </tr>\n",
       "    <tr>\n",
       "      <th id=\"T_b6ef4_level0_row16\" class=\"row_heading level0 row16\" >lr</th>\n",
       "      <td id=\"T_b6ef4_row16_col0\" class=\"data row16 col0\" >Linear Regression</td>\n",
       "      <td id=\"T_b6ef4_row16_col1\" class=\"data row16 col1\" >104.0576</td>\n",
       "      <td id=\"T_b6ef4_row16_col2\" class=\"data row16 col2\" >16626.7647</td>\n",
       "      <td id=\"T_b6ef4_row16_col3\" class=\"data row16 col3\" >128.6351</td>\n",
       "      <td id=\"T_b6ef4_row16_col4\" class=\"data row16 col4\" >-1.7954</td>\n",
       "      <td id=\"T_b6ef4_row16_col5\" class=\"data row16 col5\" >1.3837</td>\n",
       "      <td id=\"T_b6ef4_row16_col6\" class=\"data row16 col6\" >2.6687</td>\n",
       "      <td id=\"T_b6ef4_row16_col7\" class=\"data row16 col7\" >0.2830</td>\n",
       "    </tr>\n",
       "    <tr>\n",
       "      <th id=\"T_b6ef4_level0_row17\" class=\"row_heading level0 row17\" >lar</th>\n",
       "      <td id=\"T_b6ef4_row17_col0\" class=\"data row17 col0\" >Least Angle Regression</td>\n",
       "      <td id=\"T_b6ef4_row17_col1\" class=\"data row17 col1\" >174.7015</td>\n",
       "      <td id=\"T_b6ef4_row17_col2\" class=\"data row17 col2\" >53310.4881</td>\n",
       "      <td id=\"T_b6ef4_row17_col3\" class=\"data row17 col3\" >217.4165</td>\n",
       "      <td id=\"T_b6ef4_row17_col4\" class=\"data row17 col4\" >-8.1396</td>\n",
       "      <td id=\"T_b6ef4_row17_col5\" class=\"data row17 col5\" >1.5392</td>\n",
       "      <td id=\"T_b6ef4_row17_col6\" class=\"data row17 col6\" >4.6579</td>\n",
       "      <td id=\"T_b6ef4_row17_col7\" class=\"data row17 col7\" >0.0520</td>\n",
       "    </tr>\n",
       "  </tbody>\n",
       "</table>\n"
      ],
      "text/plain": [
       "<pandas.io.formats.style.Styler at 0x33d1fe910>"
      ]
     },
     "metadata": {},
     "output_type": "display_data"
    },
    {
     "data": {
      "text/html": [],
      "text/plain": [
       "<IPython.core.display.HTML object>"
      ]
     },
     "metadata": {},
     "output_type": "display_data"
    }
   ],
   "source": [
    "#g\n",
    "\n",
    "from pycaret.regression import *\n",
    "optimizer = setup(X, target=y, train_size = 0.8)\n",
    "comp = compare_models(sort='MSE')"
   ]
  },
  {
   "cell_type": "code",
   "execution_count": 39,
   "id": "7e8c4d20",
   "metadata": {},
   "outputs": [
    {
     "data": {
      "image/png": "[encoded data removed]",
      "text/plain": [
       "<Figure size 1000x600 with 1 Axes>"
      ]
     },
     "metadata": {},
     "output_type": "display_data"
    }
   ],
   "source": [
    "import matplotlib.pyplot as plt\n",
    "import seaborn as sns\n",
    "\n",
    "results_df = pull()\n",
    "\n",
    "top_5_results = results_df[['Model', 'MSE']].head(5)\n",
    "\n",
    "plt.figure(figsize=(10, 6))\n",
    "sns.barplot(x='MSE', y='Model', data=top_5_results, palette='viridis')\n",
    "plt.title('Top 5 Models by MSE(sentence transformer)')\n",
    "plt.xlabel('MSE (Mean Square Error)')\n",
    "plt.ylabel('Model')\n",
    "plt.xlim(5700, 6000)\n",
    "plt.show()"
   ]
  },
  {
   "cell_type": "code",
   "execution_count": 42,
   "id": "2a0d76e0",
   "metadata": {},
   "outputs": [
    {
     "data": {
      "text/html": [
       "<style type=\"text/css\">\n",
       "#T_c262a_row8_col1 {\n",
       "  background-color: lightgreen;\n",
       "}\n",
       "</style>\n",
       "<table id=\"T_c262a\">\n",
       "  <thead>\n",
       "    <tr>\n",
       "      <th class=\"blank level0\" >&nbsp;</th>\n",
       "      <th id=\"T_c262a_level0_col0\" class=\"col_heading level0 col0\" >Description</th>\n",
       "      <th id=\"T_c262a_level0_col1\" class=\"col_heading level0 col1\" >Value</th>\n",
       "    </tr>\n",
       "  </thead>\n",
       "  <tbody>\n",
       "    <tr>\n",
       "      <th id=\"T_c262a_level0_row0\" class=\"row_heading level0 row0\" >0</th>\n",
       "      <td id=\"T_c262a_row0_col0\" class=\"data row0 col0\" >Session id</td>\n",
       "      <td id=\"T_c262a_row0_col1\" class=\"data row0 col1\" >2909</td>\n",
       "    </tr>\n",
       "    <tr>\n",
       "      <th id=\"T_c262a_level0_row1\" class=\"row_heading level0 row1\" >1</th>\n",
       "      <td id=\"T_c262a_row1_col0\" class=\"data row1 col0\" >Target</td>\n",
       "      <td id=\"T_c262a_row1_col1\" class=\"data row1 col1\" >b</td>\n",
       "    </tr>\n",
       "    <tr>\n",
       "      <th id=\"T_c262a_level0_row2\" class=\"row_heading level0 row2\" >2</th>\n",
       "      <td id=\"T_c262a_row2_col0\" class=\"data row2 col0\" >Target type</td>\n",
       "      <td id=\"T_c262a_row2_col1\" class=\"data row2 col1\" >Regression</td>\n",
       "    </tr>\n",
       "    <tr>\n",
       "      <th id=\"T_c262a_level0_row3\" class=\"row_heading level0 row3\" >3</th>\n",
       "      <td id=\"T_c262a_row3_col0\" class=\"data row3 col0\" >Original data shape</td>\n",
       "      <td id=\"T_c262a_row3_col1\" class=\"data row3 col1\" >(1674, 769)</td>\n",
       "    </tr>\n",
       "    <tr>\n",
       "      <th id=\"T_c262a_level0_row4\" class=\"row_heading level0 row4\" >4</th>\n",
       "      <td id=\"T_c262a_row4_col0\" class=\"data row4 col0\" >Transformed data shape</td>\n",
       "      <td id=\"T_c262a_row4_col1\" class=\"data row4 col1\" >(1674, 769)</td>\n",
       "    </tr>\n",
       "    <tr>\n",
       "      <th id=\"T_c262a_level0_row5\" class=\"row_heading level0 row5\" >5</th>\n",
       "      <td id=\"T_c262a_row5_col0\" class=\"data row5 col0\" >Transformed train set shape</td>\n",
       "      <td id=\"T_c262a_row5_col1\" class=\"data row5 col1\" >(1339, 769)</td>\n",
       "    </tr>\n",
       "    <tr>\n",
       "      <th id=\"T_c262a_level0_row6\" class=\"row_heading level0 row6\" >6</th>\n",
       "      <td id=\"T_c262a_row6_col0\" class=\"data row6 col0\" >Transformed test set shape</td>\n",
       "      <td id=\"T_c262a_row6_col1\" class=\"data row6 col1\" >(335, 769)</td>\n",
       "    </tr>\n",
       "    <tr>\n",
       "      <th id=\"T_c262a_level0_row7\" class=\"row_heading level0 row7\" >7</th>\n",
       "      <td id=\"T_c262a_row7_col0\" class=\"data row7 col0\" >Numeric features</td>\n",
       "      <td id=\"T_c262a_row7_col1\" class=\"data row7 col1\" >768</td>\n",
       "    </tr>\n",
       "    <tr>\n",
       "      <th id=\"T_c262a_level0_row8\" class=\"row_heading level0 row8\" >8</th>\n",
       "      <td id=\"T_c262a_row8_col0\" class=\"data row8 col0\" >Preprocess</td>\n",
       "      <td id=\"T_c262a_row8_col1\" class=\"data row8 col1\" >True</td>\n",
       "    </tr>\n",
       "    <tr>\n",
       "      <th id=\"T_c262a_level0_row9\" class=\"row_heading level0 row9\" >9</th>\n",
       "      <td id=\"T_c262a_row9_col0\" class=\"data row9 col0\" >Imputation type</td>\n",
       "      <td id=\"T_c262a_row9_col1\" class=\"data row9 col1\" >simple</td>\n",
       "    </tr>\n",
       "    <tr>\n",
       "      <th id=\"T_c262a_level0_row10\" class=\"row_heading level0 row10\" >10</th>\n",
       "      <td id=\"T_c262a_row10_col0\" class=\"data row10 col0\" >Numeric imputation</td>\n",
       "      <td id=\"T_c262a_row10_col1\" class=\"data row10 col1\" >mean</td>\n",
       "    </tr>\n",
       "    <tr>\n",
       "      <th id=\"T_c262a_level0_row11\" class=\"row_heading level0 row11\" >11</th>\n",
       "      <td id=\"T_c262a_row11_col0\" class=\"data row11 col0\" >Categorical imputation</td>\n",
       "      <td id=\"T_c262a_row11_col1\" class=\"data row11 col1\" >mode</td>\n",
       "    </tr>\n",
       "    <tr>\n",
       "      <th id=\"T_c262a_level0_row12\" class=\"row_heading level0 row12\" >12</th>\n",
       "      <td id=\"T_c262a_row12_col0\" class=\"data row12 col0\" >Fold Generator</td>\n",
       "      <td id=\"T_c262a_row12_col1\" class=\"data row12 col1\" >KFold</td>\n",
       "    </tr>\n",
       "    <tr>\n",
       "      <th id=\"T_c262a_level0_row13\" class=\"row_heading level0 row13\" >13</th>\n",
       "      <td id=\"T_c262a_row13_col0\" class=\"data row13 col0\" >Fold Number</td>\n",
       "      <td id=\"T_c262a_row13_col1\" class=\"data row13 col1\" >10</td>\n",
       "    </tr>\n",
       "    <tr>\n",
       "      <th id=\"T_c262a_level0_row14\" class=\"row_heading level0 row14\" >14</th>\n",
       "      <td id=\"T_c262a_row14_col0\" class=\"data row14 col0\" >CPU Jobs</td>\n",
       "      <td id=\"T_c262a_row14_col1\" class=\"data row14 col1\" >-1</td>\n",
       "    </tr>\n",
       "    <tr>\n",
       "      <th id=\"T_c262a_level0_row15\" class=\"row_heading level0 row15\" >15</th>\n",
       "      <td id=\"T_c262a_row15_col0\" class=\"data row15 col0\" >Use GPU</td>\n",
       "      <td id=\"T_c262a_row15_col1\" class=\"data row15 col1\" >False</td>\n",
       "    </tr>\n",
       "    <tr>\n",
       "      <th id=\"T_c262a_level0_row16\" class=\"row_heading level0 row16\" >16</th>\n",
       "      <td id=\"T_c262a_row16_col0\" class=\"data row16 col0\" >Log Experiment</td>\n",
       "      <td id=\"T_c262a_row16_col1\" class=\"data row16 col1\" >False</td>\n",
       "    </tr>\n",
       "    <tr>\n",
       "      <th id=\"T_c262a_level0_row17\" class=\"row_heading level0 row17\" >17</th>\n",
       "      <td id=\"T_c262a_row17_col0\" class=\"data row17 col0\" >Experiment Name</td>\n",
       "      <td id=\"T_c262a_row17_col1\" class=\"data row17 col1\" >reg-default-name</td>\n",
       "    </tr>\n",
       "    <tr>\n",
       "      <th id=\"T_c262a_level0_row18\" class=\"row_heading level0 row18\" >18</th>\n",
       "      <td id=\"T_c262a_row18_col0\" class=\"data row18 col0\" >USI</td>\n",
       "      <td id=\"T_c262a_row18_col1\" class=\"data row18 col1\" >10db</td>\n",
       "    </tr>\n",
       "  </tbody>\n",
       "</table>\n"
      ],
      "text/plain": [
       "<pandas.io.formats.style.Styler at 0x33d6a8610>"
      ]
     },
     "metadata": {},
     "output_type": "display_data"
    },
    {
     "data": {
      "text/html": [],
      "text/plain": [
       "<IPython.core.display.HTML object>"
      ]
     },
     "metadata": {},
     "output_type": "display_data"
    },
    {
     "data": {
      "text/html": [
       "<style type=\"text/css\">\n",
       "#T_d362a th {\n",
       "  text-align: left;\n",
       "}\n",
       "#T_d362a_row0_col0, #T_d362a_row0_col1, #T_d362a_row0_col5, #T_d362a_row0_col6, #T_d362a_row1_col0, #T_d362a_row1_col1, #T_d362a_row1_col2, #T_d362a_row1_col5, #T_d362a_row1_col6, #T_d362a_row2_col0, #T_d362a_row2_col1, #T_d362a_row2_col2, #T_d362a_row2_col3, #T_d362a_row2_col4, #T_d362a_row2_col5, #T_d362a_row2_col6, #T_d362a_row3_col0, #T_d362a_row3_col1, #T_d362a_row3_col2, #T_d362a_row3_col3, #T_d362a_row3_col4, #T_d362a_row3_col5, #T_d362a_row3_col6, #T_d362a_row4_col0, #T_d362a_row4_col2, #T_d362a_row4_col3, #T_d362a_row4_col4, #T_d362a_row4_col5, #T_d362a_row4_col6, #T_d362a_row5_col0, #T_d362a_row5_col1, #T_d362a_row5_col2, #T_d362a_row5_col3, #T_d362a_row5_col4, #T_d362a_row6_col0, #T_d362a_row6_col1, #T_d362a_row6_col2, #T_d362a_row6_col3, #T_d362a_row6_col4, #T_d362a_row6_col5, #T_d362a_row6_col6, #T_d362a_row7_col0, #T_d362a_row7_col1, #T_d362a_row7_col2, #T_d362a_row7_col3, #T_d362a_row7_col4, #T_d362a_row7_col5, #T_d362a_row7_col6, #T_d362a_row8_col0, #T_d362a_row8_col1, #T_d362a_row8_col2, #T_d362a_row8_col3, #T_d362a_row8_col4, #T_d362a_row8_col5, #T_d362a_row8_col6, #T_d362a_row9_col0, #T_d362a_row9_col1, #T_d362a_row9_col2, #T_d362a_row9_col3, #T_d362a_row9_col4, #T_d362a_row9_col5, #T_d362a_row9_col6, #T_d362a_row10_col0, #T_d362a_row10_col1, #T_d362a_row10_col2, #T_d362a_row10_col3, #T_d362a_row10_col4, #T_d362a_row10_col5, #T_d362a_row10_col6, #T_d362a_row11_col0, #T_d362a_row11_col1, #T_d362a_row11_col2, #T_d362a_row11_col3, #T_d362a_row11_col4, #T_d362a_row11_col5, #T_d362a_row11_col6, #T_d362a_row12_col0, #T_d362a_row12_col1, #T_d362a_row12_col2, #T_d362a_row12_col3, #T_d362a_row12_col4, #T_d362a_row12_col5, #T_d362a_row12_col6, #T_d362a_row13_col0, #T_d362a_row13_col1, #T_d362a_row13_col2, #T_d362a_row13_col3, #T_d362a_row13_col4, #T_d362a_row13_col5, #T_d362a_row13_col6, #T_d362a_row14_col0, #T_d362a_row14_col1, #T_d362a_row14_col2, #T_d362a_row14_col3, #T_d362a_row14_col4, #T_d362a_row14_col5, #T_d362a_row14_col6, #T_d362a_row15_col0, #T_d362a_row15_col1, #T_d362a_row15_col2, #T_d362a_row15_col3, #T_d362a_row15_col4, #T_d362a_row15_col5, #T_d362a_row15_col6, #T_d362a_row16_col0, #T_d362a_row16_col1, #T_d362a_row16_col2, #T_d362a_row16_col3, #T_d362a_row16_col4, #T_d362a_row16_col5, #T_d362a_row16_col6, #T_d362a_row17_col0, #T_d362a_row17_col1, #T_d362a_row17_col2, #T_d362a_row17_col3, #T_d362a_row17_col4, #T_d362a_row17_col5, #T_d362a_row17_col6 {\n",
       "  text-align: left;\n",
       "}\n",
       "#T_d362a_row0_col2, #T_d362a_row0_col3, #T_d362a_row0_col4, #T_d362a_row1_col3, #T_d362a_row1_col4, #T_d362a_row4_col1, #T_d362a_row5_col5, #T_d362a_row5_col6 {\n",
       "  text-align: left;\n",
       "  background-color: yellow;\n",
       "}\n",
       "#T_d362a_row0_col7, #T_d362a_row1_col7, #T_d362a_row3_col7, #T_d362a_row4_col7, #T_d362a_row5_col7, #T_d362a_row6_col7, #T_d362a_row7_col7, #T_d362a_row8_col7, #T_d362a_row9_col7, #T_d362a_row10_col7, #T_d362a_row11_col7, #T_d362a_row12_col7, #T_d362a_row13_col7, #T_d362a_row14_col7, #T_d362a_row15_col7, #T_d362a_row16_col7, #T_d362a_row17_col7 {\n",
       "  text-align: left;\n",
       "  background-color: lightgrey;\n",
       "}\n",
       "#T_d362a_row2_col7 {\n",
       "  text-align: left;\n",
       "  background-color: yellow;\n",
       "  background-color: lightgrey;\n",
       "}\n",
       "</style>\n",
       "<table id=\"T_d362a\">\n",
       "  <thead>\n",
       "    <tr>\n",
       "      <th class=\"blank level0\" >&nbsp;</th>\n",
       "      <th id=\"T_d362a_level0_col0\" class=\"col_heading level0 col0\" >Model</th>\n",
       "      <th id=\"T_d362a_level0_col1\" class=\"col_heading level0 col1\" >MAE</th>\n",
       "      <th id=\"T_d362a_level0_col2\" class=\"col_heading level0 col2\" >MSE</th>\n",
       "      <th id=\"T_d362a_level0_col3\" class=\"col_heading level0 col3\" >RMSE</th>\n",
       "      <th id=\"T_d362a_level0_col4\" class=\"col_heading level0 col4\" >R2</th>\n",
       "      <th id=\"T_d362a_level0_col5\" class=\"col_heading level0 col5\" >RMSLE</th>\n",
       "      <th id=\"T_d362a_level0_col6\" class=\"col_heading level0 col6\" >MAPE</th>\n",
       "      <th id=\"T_d362a_level0_col7\" class=\"col_heading level0 col7\" >TT (Sec)</th>\n",
       "    </tr>\n",
       "  </thead>\n",
       "  <tbody>\n",
       "    <tr>\n",
       "      <th id=\"T_d362a_level0_row0\" class=\"row_heading level0 row0\" >llar</th>\n",
       "      <td id=\"T_d362a_row0_col0\" class=\"data row0 col0\" >Lasso Least Angle Regression</td>\n",
       "      <td id=\"T_d362a_row0_col1\" class=\"data row0 col1\" >70.7804</td>\n",
       "      <td id=\"T_d362a_row0_col2\" class=\"data row0 col2\" >6075.7124</td>\n",
       "      <td id=\"T_d362a_row0_col3\" class=\"data row0 col3\" >77.8903</td>\n",
       "      <td id=\"T_d362a_row0_col4\" class=\"data row0 col4\" >0.0105</td>\n",
       "      <td id=\"T_d362a_row0_col5\" class=\"data row0 col5\" >1.0454</td>\n",
       "      <td id=\"T_d362a_row0_col6\" class=\"data row0 col6\" >2.0579</td>\n",
       "      <td id=\"T_d362a_row0_col7\" class=\"data row0 col7\" >0.0300</td>\n",
       "    </tr>\n",
       "    <tr>\n",
       "      <th id=\"T_d362a_level0_row1\" class=\"row_heading level0 row1\" >lasso</th>\n",
       "      <td id=\"T_d362a_row1_col0\" class=\"data row1 col0\" >Lasso Regression</td>\n",
       "      <td id=\"T_d362a_row1_col1\" class=\"data row1 col1\" >70.7804</td>\n",
       "      <td id=\"T_d362a_row1_col2\" class=\"data row1 col2\" >6075.7143</td>\n",
       "      <td id=\"T_d362a_row1_col3\" class=\"data row1 col3\" >77.8903</td>\n",
       "      <td id=\"T_d362a_row1_col4\" class=\"data row1 col4\" >0.0105</td>\n",
       "      <td id=\"T_d362a_row1_col5\" class=\"data row1 col5\" >1.0454</td>\n",
       "      <td id=\"T_d362a_row1_col6\" class=\"data row1 col6\" >2.0579</td>\n",
       "      <td id=\"T_d362a_row1_col7\" class=\"data row1 col7\" >0.0280</td>\n",
       "    </tr>\n",
       "    <tr>\n",
       "      <th id=\"T_d362a_level0_row2\" class=\"row_heading level0 row2\" >en</th>\n",
       "      <td id=\"T_d362a_row2_col0\" class=\"data row2 col0\" >Elastic Net</td>\n",
       "      <td id=\"T_d362a_row2_col1\" class=\"data row2 col1\" >70.9775</td>\n",
       "      <td id=\"T_d362a_row2_col2\" class=\"data row2 col2\" >6086.7070</td>\n",
       "      <td id=\"T_d362a_row2_col3\" class=\"data row2 col3\" >77.9624</td>\n",
       "      <td id=\"T_d362a_row2_col4\" class=\"data row2 col4\" >0.0088</td>\n",
       "      <td id=\"T_d362a_row2_col5\" class=\"data row2 col5\" >1.0471</td>\n",
       "      <td id=\"T_d362a_row2_col6\" class=\"data row2 col6\" >2.0675</td>\n",
       "      <td id=\"T_d362a_row2_col7\" class=\"data row2 col7\" >0.0250</td>\n",
       "    </tr>\n",
       "    <tr>\n",
       "      <th id=\"T_d362a_level0_row3\" class=\"row_heading level0 row3\" >br</th>\n",
       "      <td id=\"T_d362a_row3_col0\" class=\"data row3 col0\" >Bayesian Ridge</td>\n",
       "      <td id=\"T_d362a_row3_col1\" class=\"data row3 col1\" >70.9890</td>\n",
       "      <td id=\"T_d362a_row3_col2\" class=\"data row3 col2\" >6096.1548</td>\n",
       "      <td id=\"T_d362a_row3_col3\" class=\"data row3 col3\" >78.0219</td>\n",
       "      <td id=\"T_d362a_row3_col4\" class=\"data row3 col4\" >0.0073</td>\n",
       "      <td id=\"T_d362a_row3_col5\" class=\"data row3 col5\" >1.0469</td>\n",
       "      <td id=\"T_d362a_row3_col6\" class=\"data row3 col6\" >2.0642</td>\n",
       "      <td id=\"T_d362a_row3_col7\" class=\"data row3 col7\" >0.0710</td>\n",
       "    </tr>\n",
       "    <tr>\n",
       "      <th id=\"T_d362a_level0_row4\" class=\"row_heading level0 row4\" >rf</th>\n",
       "      <td id=\"T_d362a_row4_col0\" class=\"data row4 col0\" >Random Forest Regressor</td>\n",
       "      <td id=\"T_d362a_row4_col1\" class=\"data row4 col1\" >70.3991</td>\n",
       "      <td id=\"T_d362a_row4_col2\" class=\"data row4 col2\" >6124.2771</td>\n",
       "      <td id=\"T_d362a_row4_col3\" class=\"data row4 col3\" >78.2057</td>\n",
       "      <td id=\"T_d362a_row4_col4\" class=\"data row4 col4\" >0.0019</td>\n",
       "      <td id=\"T_d362a_row4_col5\" class=\"data row4 col5\" >1.0446</td>\n",
       "      <td id=\"T_d362a_row4_col6\" class=\"data row4 col6\" >2.0405</td>\n",
       "      <td id=\"T_d362a_row4_col7\" class=\"data row4 col7\" >5.9870</td>\n",
       "    </tr>\n",
       "    <tr>\n",
       "      <th id=\"T_d362a_level0_row5\" class=\"row_heading level0 row5\" >et</th>\n",
       "      <td id=\"T_d362a_row5_col0\" class=\"data row5 col0\" >Extra Trees Regressor</td>\n",
       "      <td id=\"T_d362a_row5_col1\" class=\"data row5 col1\" >70.4143</td>\n",
       "      <td id=\"T_d362a_row5_col2\" class=\"data row5 col2\" >6151.3768</td>\n",
       "      <td id=\"T_d362a_row5_col3\" class=\"data row5 col3\" >78.3671</td>\n",
       "      <td id=\"T_d362a_row5_col4\" class=\"data row5 col4\" >-0.0015</td>\n",
       "      <td id=\"T_d362a_row5_col5\" class=\"data row5 col5\" >1.0413</td>\n",
       "      <td id=\"T_d362a_row5_col6\" class=\"data row5 col6\" >2.0230</td>\n",
       "      <td id=\"T_d362a_row5_col7\" class=\"data row5 col7\" >2.0560</td>\n",
       "    </tr>\n",
       "    <tr>\n",
       "      <th id=\"T_d362a_level0_row6\" class=\"row_heading level0 row6\" >ada</th>\n",
       "      <td id=\"T_d362a_row6_col0\" class=\"data row6 col0\" >AdaBoost Regressor</td>\n",
       "      <td id=\"T_d362a_row6_col1\" class=\"data row6 col1\" >71.4902</td>\n",
       "      <td id=\"T_d362a_row6_col2\" class=\"data row6 col2\" >6168.5454</td>\n",
       "      <td id=\"T_d362a_row6_col3\" class=\"data row6 col3\" >78.4898</td>\n",
       "      <td id=\"T_d362a_row6_col4\" class=\"data row6 col4\" >-0.0050</td>\n",
       "      <td id=\"T_d362a_row6_col5\" class=\"data row6 col5\" >1.0620</td>\n",
       "      <td id=\"T_d362a_row6_col6\" class=\"data row6 col6\" >2.1506</td>\n",
       "      <td id=\"T_d362a_row6_col7\" class=\"data row6 col7\" >1.5040</td>\n",
       "    </tr>\n",
       "    <tr>\n",
       "      <th id=\"T_d362a_level0_row7\" class=\"row_heading level0 row7\" >dummy</th>\n",
       "      <td id=\"T_d362a_row7_col0\" class=\"data row7 col0\" >Dummy Regressor</td>\n",
       "      <td id=\"T_d362a_row7_col1\" class=\"data row7 col1\" >71.6251</td>\n",
       "      <td id=\"T_d362a_row7_col2\" class=\"data row7 col2\" >6170.8457</td>\n",
       "      <td id=\"T_d362a_row7_col3\" class=\"data row7 col3\" >78.5003</td>\n",
       "      <td id=\"T_d362a_row7_col4\" class=\"data row7 col4\" >-0.0050</td>\n",
       "      <td id=\"T_d362a_row7_col5\" class=\"data row7 col5\" >1.0548</td>\n",
       "      <td id=\"T_d362a_row7_col6\" class=\"data row7 col6\" >2.1122</td>\n",
       "      <td id=\"T_d362a_row7_col7\" class=\"data row7 col7\" >0.0280</td>\n",
       "    </tr>\n",
       "    <tr>\n",
       "      <th id=\"T_d362a_level0_row8\" class=\"row_heading level0 row8\" >gbr</th>\n",
       "      <td id=\"T_d362a_row8_col0\" class=\"data row8 col0\" >Gradient Boosting Regressor</td>\n",
       "      <td id=\"T_d362a_row8_col1\" class=\"data row8 col1\" >71.5467</td>\n",
       "      <td id=\"T_d362a_row8_col2\" class=\"data row8 col2\" >6458.5025</td>\n",
       "      <td id=\"T_d362a_row8_col3\" class=\"data row8 col3\" >80.2907</td>\n",
       "      <td id=\"T_d362a_row8_col4\" class=\"data row8 col4\" >-0.0516</td>\n",
       "      <td id=\"T_d362a_row8_col5\" class=\"data row8 col5\" >1.0522</td>\n",
       "      <td id=\"T_d362a_row8_col6\" class=\"data row8 col6\" >2.0399</td>\n",
       "      <td id=\"T_d362a_row8_col7\" class=\"data row8 col7\" >4.1060</td>\n",
       "    </tr>\n",
       "    <tr>\n",
       "      <th id=\"T_d362a_level0_row9\" class=\"row_heading level0 row9\" >lightgbm</th>\n",
       "      <td id=\"T_d362a_row9_col0\" class=\"data row9 col0\" >Light Gradient Boosting Machine</td>\n",
       "      <td id=\"T_d362a_row9_col1\" class=\"data row9 col1\" >71.0477</td>\n",
       "      <td id=\"T_d362a_row9_col2\" class=\"data row9 col2\" >6555.4668</td>\n",
       "      <td id=\"T_d362a_row9_col3\" class=\"data row9 col3\" >80.8725</td>\n",
       "      <td id=\"T_d362a_row9_col4\" class=\"data row9 col4\" >-0.0679</td>\n",
       "      <td id=\"T_d362a_row9_col5\" class=\"data row9 col5\" >1.0521</td>\n",
       "      <td id=\"T_d362a_row9_col6\" class=\"data row9 col6\" >2.0244</td>\n",
       "      <td id=\"T_d362a_row9_col7\" class=\"data row9 col7\" >0.8510</td>\n",
       "    </tr>\n",
       "    <tr>\n",
       "      <th id=\"T_d362a_level0_row10\" class=\"row_heading level0 row10\" >knn</th>\n",
       "      <td id=\"T_d362a_row10_col0\" class=\"data row10 col0\" >K Neighbors Regressor</td>\n",
       "      <td id=\"T_d362a_row10_col1\" class=\"data row10 col1\" >73.3870</td>\n",
       "      <td id=\"T_d362a_row10_col2\" class=\"data row10 col2\" >7366.4759</td>\n",
       "      <td id=\"T_d362a_row10_col3\" class=\"data row10 col3\" >85.7711</td>\n",
       "      <td id=\"T_d362a_row10_col4\" class=\"data row10 col4\" >-0.2007</td>\n",
       "      <td id=\"T_d362a_row10_col5\" class=\"data row10 col5\" >1.0871</td>\n",
       "      <td id=\"T_d362a_row10_col6\" class=\"data row10 col6\" >2.1090</td>\n",
       "      <td id=\"T_d362a_row10_col7\" class=\"data row10 col7\" >0.0310</td>\n",
       "    </tr>\n",
       "    <tr>\n",
       "      <th id=\"T_d362a_level0_row11\" class=\"row_heading level0 row11\" >omp</th>\n",
       "      <td id=\"T_d362a_row11_col0\" class=\"data row11 col0\" >Orthogonal Matching Pursuit</td>\n",
       "      <td id=\"T_d362a_row11_col1\" class=\"data row11 col1\" >74.2909</td>\n",
       "      <td id=\"T_d362a_row11_col2\" class=\"data row11 col2\" >7439.5601</td>\n",
       "      <td id=\"T_d362a_row11_col3\" class=\"data row11 col3\" >86.1063</td>\n",
       "      <td id=\"T_d362a_row11_col4\" class=\"data row11 col4\" >-0.2103</td>\n",
       "      <td id=\"T_d362a_row11_col5\" class=\"data row11 col5\" >1.1166</td>\n",
       "      <td id=\"T_d362a_row11_col6\" class=\"data row11 col6\" >2.0694</td>\n",
       "      <td id=\"T_d362a_row11_col7\" class=\"data row11 col7\" >0.0320</td>\n",
       "    </tr>\n",
       "    <tr>\n",
       "      <th id=\"T_d362a_level0_row12\" class=\"row_heading level0 row12\" >ridge</th>\n",
       "      <td id=\"T_d362a_row12_col0\" class=\"data row12 col0\" >Ridge Regression</td>\n",
       "      <td id=\"T_d362a_row12_col1\" class=\"data row12 col1\" >77.5454</td>\n",
       "      <td id=\"T_d362a_row12_col2\" class=\"data row12 col2\" >8651.4088</td>\n",
       "      <td id=\"T_d362a_row12_col3\" class=\"data row12 col3\" >92.8892</td>\n",
       "      <td id=\"T_d362a_row12_col4\" class=\"data row12 col4\" >-0.4116</td>\n",
       "      <td id=\"T_d362a_row12_col5\" class=\"data row12 col5\" >1.1774</td>\n",
       "      <td id=\"T_d362a_row12_col6\" class=\"data row12 col6\" >2.0721</td>\n",
       "      <td id=\"T_d362a_row12_col7\" class=\"data row12 col7\" >0.0270</td>\n",
       "    </tr>\n",
       "    <tr>\n",
       "      <th id=\"T_d362a_level0_row13\" class=\"row_heading level0 row13\" >huber</th>\n",
       "      <td id=\"T_d362a_row13_col0\" class=\"data row13 col0\" >Huber Regressor</td>\n",
       "      <td id=\"T_d362a_row13_col1\" class=\"data row13 col1\" >82.0074</td>\n",
       "      <td id=\"T_d362a_row13_col2\" class=\"data row13 col2\" >10146.7513</td>\n",
       "      <td id=\"T_d362a_row13_col3\" class=\"data row13 col3\" >100.6231</td>\n",
       "      <td id=\"T_d362a_row13_col4\" class=\"data row13 col4\" >-0.6591</td>\n",
       "      <td id=\"T_d362a_row13_col5\" class=\"data row13 col5\" >1.2537</td>\n",
       "      <td id=\"T_d362a_row13_col6\" class=\"data row13 col6\" >2.0736</td>\n",
       "      <td id=\"T_d362a_row13_col7\" class=\"data row13 col7\" >0.1600</td>\n",
       "    </tr>\n",
       "    <tr>\n",
       "      <th id=\"T_d362a_level0_row14\" class=\"row_heading level0 row14\" >par</th>\n",
       "      <td id=\"T_d362a_row14_col0\" class=\"data row14 col0\" >Passive Aggressive Regressor</td>\n",
       "      <td id=\"T_d362a_row14_col1\" class=\"data row14 col1\" >85.3233</td>\n",
       "      <td id=\"T_d362a_row14_col2\" class=\"data row14 col2\" >10840.1713</td>\n",
       "      <td id=\"T_d362a_row14_col3\" class=\"data row14 col3\" >103.3102</td>\n",
       "      <td id=\"T_d362a_row14_col4\" class=\"data row14 col4\" >-0.7655</td>\n",
       "      <td id=\"T_d362a_row14_col5\" class=\"data row14 col5\" >1.2830</td>\n",
       "      <td id=\"T_d362a_row14_col6\" class=\"data row14 col6\" >2.5405</td>\n",
       "      <td id=\"T_d362a_row14_col7\" class=\"data row14 col7\" >0.0360</td>\n",
       "    </tr>\n",
       "    <tr>\n",
       "      <th id=\"T_d362a_level0_row15\" class=\"row_heading level0 row15\" >dt</th>\n",
       "      <td id=\"T_d362a_row15_col0\" class=\"data row15 col0\" >Decision Tree Regressor</td>\n",
       "      <td id=\"T_d362a_row15_col1\" class=\"data row15 col1\" >86.0159</td>\n",
       "      <td id=\"T_d362a_row15_col2\" class=\"data row15 col2\" >11756.7970</td>\n",
       "      <td id=\"T_d362a_row15_col3\" class=\"data row15 col3\" >108.2508</td>\n",
       "      <td id=\"T_d362a_row15_col4\" class=\"data row15 col4\" >-0.9224</td>\n",
       "      <td id=\"T_d362a_row15_col5\" class=\"data row15 col5\" >1.3426</td>\n",
       "      <td id=\"T_d362a_row15_col6\" class=\"data row15 col6\" >2.0286</td>\n",
       "      <td id=\"T_d362a_row15_col7\" class=\"data row15 col7\" >0.1380</td>\n",
       "    </tr>\n",
       "    <tr>\n",
       "      <th id=\"T_d362a_level0_row16\" class=\"row_heading level0 row16\" >lr</th>\n",
       "      <td id=\"T_d362a_row16_col0\" class=\"data row16 col0\" >Linear Regression</td>\n",
       "      <td id=\"T_d362a_row16_col1\" class=\"data row16 col1\" >104.9817</td>\n",
       "      <td id=\"T_d362a_row16_col2\" class=\"data row16 col2\" >16856.9796</td>\n",
       "      <td id=\"T_d362a_row16_col3\" class=\"data row16 col3\" >129.6242</td>\n",
       "      <td id=\"T_d362a_row16_col4\" class=\"data row16 col4\" >-1.7578</td>\n",
       "      <td id=\"T_d362a_row16_col5\" class=\"data row16 col5\" >1.4169</td>\n",
       "      <td id=\"T_d362a_row16_col6\" class=\"data row16 col6\" >2.7222</td>\n",
       "      <td id=\"T_d362a_row16_col7\" class=\"data row16 col7\" >0.0570</td>\n",
       "    </tr>\n",
       "    <tr>\n",
       "      <th id=\"T_d362a_level0_row17\" class=\"row_heading level0 row17\" >lar</th>\n",
       "      <td id=\"T_d362a_row17_col0\" class=\"data row17 col0\" >Least Angle Regression</td>\n",
       "      <td id=\"T_d362a_row17_col1\" class=\"data row17 col1\" >173.2022</td>\n",
       "      <td id=\"T_d362a_row17_col2\" class=\"data row17 col2\" >52534.2090</td>\n",
       "      <td id=\"T_d362a_row17_col3\" class=\"data row17 col3\" >220.5452</td>\n",
       "      <td id=\"T_d362a_row17_col4\" class=\"data row17 col4\" >-7.3805</td>\n",
       "      <td id=\"T_d362a_row17_col5\" class=\"data row17 col5\" >1.5571</td>\n",
       "      <td id=\"T_d362a_row17_col6\" class=\"data row17 col6\" >4.4231</td>\n",
       "      <td id=\"T_d362a_row17_col7\" class=\"data row17 col7\" >0.0530</td>\n",
       "    </tr>\n",
       "  </tbody>\n",
       "</table>\n"
      ],
      "text/plain": [
       "<pandas.io.formats.style.Styler at 0x1632f7040>"
      ]
     },
     "metadata": {},
     "output_type": "display_data"
    },
    {
     "data": {
      "text/html": [],
      "text/plain": [
       "<IPython.core.display.HTML object>"
      ]
     },
     "metadata": {},
     "output_type": "display_data"
    }
   ],
   "source": [
    "#b\n",
    "\n",
    "from pycaret.regression import *\n",
    "optimizer = setup(X, target=y, train_size = 0.8)\n",
    "comp = compare_models(sort='MSE')"
   ]
  },
  {
   "cell_type": "code",
   "execution_count": 44,
   "id": "82708e53",
   "metadata": {},
   "outputs": [
    {
     "data": {
      "image/png": "[encoded data removed]",
      "text/plain": [
       "<Figure size 1000x600 with 1 Axes>"
      ]
     },
     "metadata": {},
     "output_type": "display_data"
    }
   ],
   "source": [
    "import matplotlib.pyplot as plt\n",
    "import seaborn as sns\n",
    "\n",
    "results_df = pull()\n",
    "\n",
    "top_5_results = results_df[['Model', 'MSE']].head(5)\n",
    "\n",
    "plt.figure(figsize=(10, 6))\n",
    "sns.barplot(x='MSE', y='Model', data=top_5_results, palette='viridis')\n",
    "plt.title('Top 5 Models by MSE(sentence transformer)')\n",
    "plt.xlabel('MSE (Mean Square Error)')\n",
    "plt.ylabel('Model')\n",
    "plt.xlim(6000, 6100)\n",
    "plt.show()"
   ]
  },
  {
   "cell_type": "markdown",
   "id": "d43ad0a033f77a6e",
   "metadata": {},
   "source": [
    "## sentencetransformer로 임베딩된 벡터로 딥러닝"
   ]
  },
  {
   "cell_type": "code",
   "execution_count": null,
   "id": "7d7771e767962833",
   "metadata": {},
   "outputs": [],
   "source": [
    "import torch\n",
    "from torch import nn\n",
    "from torch.utils.data import DataLoader\n",
    "from torchvision import datasets, transforms"
   ]
  },
  {
   "cell_type": "code",
   "execution_count": null,
   "id": "c5633a913a2705ca",
   "metadata": {},
   "outputs": [],
   "source": [
    "device = (\n",
    "    \"cuda\"\n",
    "    if torch.cuda.is_available()\n",
    "    else \"mps\"\n",
    "    if torch.backends.mps.is_available()\n",
    "    else \"cpu\"\n",
    ")\n",
    "print(f\"Using {device} device\")"
   ]
  },
  {
   "cell_type": "code",
   "execution_count": null,
   "id": "f5805f486b975daa",
   "metadata": {},
   "outputs": [],
   "source": [
    "print(torch.__version__)"
   ]
  },
  {
   "cell_type": "code",
   "execution_count": null,
   "id": "e65ee84921ecaea",
   "metadata": {},
   "outputs": [],
   "source": [
    "import torch\n",
    "print(f\"MPS 장치를 지원하도록 build가 되었는가? {torch.backends.mps.is_built()}\")\n",
    "print(f\"MPS 장치가 사용 가능한가? {torch.backends.mps.is_available()}\") "
   ]
  },
  {
   "cell_type": "code",
   "execution_count": null,
   "id": "b3e1abda9eddf476",
   "metadata": {},
   "outputs": [],
   "source": []
  },
  {
   "cell_type": "markdown",
   "id": "c9d8bba3779067c7",
   "metadata": {},
   "source": [
    "## 사전 학습된 word2vec을 불러와 lstm으로 학습"
   ]
  },
  {
   "cell_type": "code",
   "execution_count": null,
   "id": "371d85f09b4d0c57",
   "metadata": {},
   "outputs": [],
   "source": [
    "ko_model = ('ko.bin')"
   ]
  },
  {
   "cell_type": "code",
   "execution_count": 11,
   "id": "bec9792b1bb7b54c",
   "metadata": {
    "ExecuteTime": {
     "end_time": "2024-12-03T10:55:23.763463Z",
     "start_time": "2024-12-03T10:55:23.760884Z"
    }
   },
   "outputs": [],
   "source": [
    "import gensim"
   ]
  },
  {
   "cell_type": "code",
   "execution_count": 12,
   "id": "a3c9c2ba5f5d3c01",
   "metadata": {
    "ExecuteTime": {
     "end_time": "2024-12-03T10:55:24.689112Z",
     "start_time": "2024-12-03T10:55:24.430459Z"
    }
   },
   "outputs": [],
   "source": [
    "ko_model = gensim.models.Word2Vec.load('./ko.bin')"
   ]
  },
  {
   "cell_type": "code",
   "execution_count": null,
   "id": "82b04258a08e042f",
   "metadata": {},
   "outputs": [],
   "source": [
    "print(len(ko_model.wv.vocab))"
   ]
  },
  {
   "cell_type": "code",
   "execution_count": 13,
   "id": "553a390d3b8f422e",
   "metadata": {
    "ExecuteTime": {
     "end_time": "2024-12-03T10:55:26.415275Z",
     "start_time": "2024-12-03T10:55:26.412753Z"
    }
   },
   "outputs": [],
   "source": [
    "from sklearn.model_selection import train_test_split"
   ]
  },
  {
   "cell_type": "code",
   "execution_count": 14,
   "id": "254dfdcd5c4a4b27",
   "metadata": {
    "ExecuteTime": {
     "end_time": "2024-12-03T10:55:27.053409Z",
     "start_time": "2024-12-03T10:55:27.050271Z"
    }
   },
   "outputs": [],
   "source": [
    "X = new_corpus\n",
    "y = df[['r', 'g', 'b']]"
   ]
  },
  {
   "cell_type": "code",
   "execution_count": 15,
   "id": "2a133bf5962b6511",
   "metadata": {
    "ExecuteTime": {
     "end_time": "2024-12-03T10:55:27.834872Z",
     "start_time": "2024-12-03T10:55:27.830783Z"
    }
   },
   "outputs": [],
   "source": [
    "X_train, y_train, X_test, y_test = train_test_split(X, y, test_size=0.2)"
   ]
  },
  {
   "cell_type": "code",
   "execution_count": 24,
   "id": "df792d6cd5d254cd",
   "metadata": {
    "ExecuteTime": {
     "end_time": "2024-12-03T10:56:10.936832Z",
     "start_time": "2024-12-03T10:56:10.878023Z"
    }
   },
   "outputs": [
    {
     "data": {
      "image/png": "[encoded data removed]",
      "text/plain": [
       "<Figure size 640x480 with 1 Axes>"
      ]
     },
     "metadata": {},
     "output_type": "display_data"
    }
   ],
   "source": [
    "import matplotlib.pyplot as plt\n",
    "\n",
    "plt.hist([len(sample) for sample in X_train], bins=50)\n",
    "plt.show()"
   ]
  },
  {
   "cell_type": "code",
   "execution_count": 25,
   "id": "1e958a400d22e395",
   "metadata": {
    "ExecuteTime": {
     "end_time": "2024-12-03T10:56:16.864752Z",
     "start_time": "2024-12-03T10:56:16.862093Z"
    }
   },
   "outputs": [
    {
     "name": "stdout",
     "output_type": "stream",
     "text": [
      "334.3383121732636\n"
     ]
    }
   ],
   "source": [
    "print(sum(map(len, X_train))/len(X_train))"
   ]
  },
  {
   "cell_type": "code",
   "execution_count": 18,
   "id": "2dc688250984638a",
   "metadata": {
    "ExecuteTime": {
     "end_time": "2024-12-03T10:55:36.519295Z",
     "start_time": "2024-12-03T10:55:32.812811Z"
    }
   },
   "outputs": [],
   "source": [
    "from tensorflow.keras.preprocessing.sequence import pad_sequences\n",
    "from tensorflow.keras.models import Sequential\n",
    "from tensorflow.keras.layers import Dense, LSTM, Embedding\n",
    "from tensorflow.keras.callbacks import EarlyStopping, ModelCheckpoint"
   ]
  },
  {
   "cell_type": "code",
   "execution_count": 26,
   "id": "6f254eca153f18be",
   "metadata": {
    "ExecuteTime": {
     "end_time": "2024-12-03T10:56:21.565253Z",
     "start_time": "2024-12-03T10:56:21.542085Z"
    }
   },
   "outputs": [
    {
     "ename": "ValueError",
     "evalue": "setting an array element with a sequence. The requested array has an inhomogeneous shape after 1 dimensions. The detected shape was (349,) + inhomogeneous part.",
     "output_type": "error",
     "traceback": [
      "\u001b[0;31m---------------------------------------------------------------------------\u001b[0m",
      "\u001b[0;31mValueError\u001b[0m                                Traceback (most recent call last)",
      "Cell \u001b[0;32mIn[26], line 2\u001b[0m\n\u001b[1;32m      1\u001b[0m max_len \u001b[38;5;241m=\u001b[39m \u001b[38;5;241m334\u001b[39m\n\u001b[0;32m----> 2\u001b[0m X_train \u001b[38;5;241m=\u001b[39m \u001b[43mpad_sequences\u001b[49m\u001b[43m(\u001b[49m\u001b[43mX_train\u001b[49m\u001b[43m,\u001b[49m\u001b[43m \u001b[49m\u001b[43mmaxlen\u001b[49m\u001b[38;5;241;43m=\u001b[39;49m\u001b[43mmax_len\u001b[49m\u001b[43m)\u001b[49m\n\u001b[1;32m      3\u001b[0m X_test \u001b[38;5;241m=\u001b[39m pad_sequences(X_test, maxlen\u001b[38;5;241m=\u001b[39mmax_len)\n",
      "File \u001b[0;32m/opt/anaconda3/lib/python3.9/site-packages/keras/src/utils/sequence_utils.py:92\u001b[0m, in \u001b[0;36mpad_sequences\u001b[0;34m(sequences, maxlen, dtype, padding, truncating, value)\u001b[0m\n\u001b[1;32m     90\u001b[0m     lengths\u001b[38;5;241m.\u001b[39mappend(\u001b[38;5;28mlen\u001b[39m(x))\n\u001b[1;32m     91\u001b[0m     \u001b[38;5;28;01mif\u001b[39;00m flag \u001b[38;5;129;01mand\u001b[39;00m \u001b[38;5;28mlen\u001b[39m(x):\n\u001b[0;32m---> 92\u001b[0m         sample_shape \u001b[38;5;241m=\u001b[39m \u001b[43mnp\u001b[49m\u001b[38;5;241;43m.\u001b[39;49m\u001b[43masarray\u001b[49m\u001b[43m(\u001b[49m\u001b[43mx\u001b[49m\u001b[43m)\u001b[49m\u001b[38;5;241m.\u001b[39mshape[\u001b[38;5;241m1\u001b[39m:]\n\u001b[1;32m     93\u001b[0m         flag \u001b[38;5;241m=\u001b[39m \u001b[38;5;28;01mFalse\u001b[39;00m\n\u001b[1;32m     94\u001b[0m \u001b[38;5;28;01mexcept\u001b[39;00m \u001b[38;5;167;01mTypeError\u001b[39;00m \u001b[38;5;28;01mas\u001b[39;00m e:\n",
      "\u001b[0;31mValueError\u001b[0m: setting an array element with a sequence. The requested array has an inhomogeneous shape after 1 dimensions. The detected shape was (349,) + inhomogeneous part."
     ]
    }
   ],
   "source": [
    "max_len = 334\n",
    "X_train = pad_sequences(X_train, maxlen=max_len)\n",
    "X_test = pad_sequences(X_test, maxlen=max_len)"
   ]
  },
  {
   "cell_type": "code",
   "execution_count": 31,
   "id": "79ccf0cf57419077",
   "metadata": {
    "ExecuteTime": {
     "end_time": "2024-12-03T10:56:38.149521Z",
     "start_time": "2024-12-03T10:56:38.147244Z"
    }
   },
   "outputs": [],
   "source": [
    "def pad_sequences_manual(sequences, maxlen=None):\n",
    "    padded_sequences = []\n",
    "    for seq in sequences:\n",
    "        if len(seq) > maxlen:\n",
    "            seq = seq[:maxlen]\n",
    "        elif len(seq) < maxlen:\n",
    "            padding_length = maxlen - len(seq)\n",
    "            seq = seq + \"0\" * padding_length\n",
    "        padded_sequences.append(seq)\n",
    "    return padded_sequences"
   ]
  },
  {
   "cell_type": "code",
   "execution_count": 32,
   "id": "3130073d24193141",
   "metadata": {
    "ExecuteTime": {
     "end_time": "2024-12-03T10:56:38.537266Z",
     "start_time": "2024-12-03T10:56:38.535084Z"
    }
   },
   "outputs": [],
   "source": [
    "X_train = pad_sequences_manual(X_train, max_len)\n",
    "X_test = pad_sequences_manual(X_test, max_len)"
   ]
  },
  {
   "cell_type": "code",
   "execution_count": 33,
   "id": "d855cdcca75e9219",
   "metadata": {
    "ExecuteTime": {
     "end_time": "2024-12-03T10:56:40.073548Z",
     "start_time": "2024-12-03T10:56:40.071290Z"
    }
   },
   "outputs": [],
   "source": [
    "import tensorflow"
   ]
  },
  {
   "cell_type": "code",
   "execution_count": 34,
   "id": "d877c756a48f49d8",
   "metadata": {
    "ExecuteTime": {
     "end_time": "2024-12-03T10:56:40.966080Z",
     "start_time": "2024-12-03T10:56:40.964393Z"
    }
   },
   "outputs": [],
   "source": [
    "earlystop_callback = tensorflow.keras.callbacks.EarlyStopping(monitor='val_loss', patience=5)"
   ]
  },
  {
   "cell_type": "code",
   "execution_count": 35,
   "id": "418113512222c673",
   "metadata": {
    "ExecuteTime": {
     "end_time": "2024-12-03T10:56:43.135920Z",
     "start_time": "2024-12-03T10:56:43.104791Z"
    }
   },
   "outputs": [
    {
     "name": "stderr",
     "output_type": "stream",
     "text": [
      "/opt/anaconda3/lib/python3.9/site-packages/keras/src/layers/core/embedding.py:90: UserWarning: Argument `input_length` is deprecated. Just remove it.\n",
      "  warnings.warn(\n"
     ]
    }
   ],
   "source": [
    "vocab_size = 30185\n",
    "hidden_units = 128\n",
    "num_output = 3\n",
    "embedding_dim = 128\n",
    "\n",
    "model = Sequential()\n",
    "model.add(Embedding(input_dim=vocab_size, output_dim=embedding_dim, input_length=max_len))\n",
    "model.add(LSTM(128))\n",
    "model.add(LSTM(64))\n",
    "model.add(Dense(num_output))"
   ]
  },
  {
   "cell_type": "code",
   "execution_count": 20,
   "id": "36f57daa07de31f1",
   "metadata": {
    "ExecuteTime": {
     "end_time": "2024-12-03T10:55:46.902512Z",
     "start_time": "2024-12-03T10:55:46.899360Z"
    }
   },
   "outputs": [],
   "source": [
    "def token_to_idx(doc, unk_idx):\n",
    "    idx_list = []\n",
    "    for token in doc.split(' '):\n",
    "        if token == '0':\n",
    "            idx_list.append(0)\n",
    "            continue\n",
    "        try:\n",
    "            idx_list.append(ko_model.wv[token])\n",
    "        except:\n",
    "            idx_list.append(unk_idx)\n",
    "    return idx_list"
   ]
  },
  {
   "cell_type": "code",
   "execution_count": 21,
   "id": "d87f539150d02e5",
   "metadata": {
    "ExecuteTime": {
     "end_time": "2024-12-03T10:55:48.562133Z",
     "start_time": "2024-12-03T10:55:47.644123Z"
    }
   },
   "outputs": [
    {
     "ename": "KeyError",
     "evalue": "0",
     "output_type": "error",
     "traceback": [
      "\u001b[0;31m---------------------------------------------------------------------------\u001b[0m",
      "\u001b[0;31mKeyError\u001b[0m                                  Traceback (most recent call last)",
      "File \u001b[0;32m/opt/anaconda3/lib/python3.9/site-packages/pandas/core/indexes/base.py:3805\u001b[0m, in \u001b[0;36mIndex.get_loc\u001b[0;34m(self, key)\u001b[0m\n\u001b[1;32m   3804\u001b[0m \u001b[38;5;28;01mtry\u001b[39;00m:\n\u001b[0;32m-> 3805\u001b[0m     \u001b[38;5;28;01mreturn\u001b[39;00m \u001b[38;5;28;43mself\u001b[39;49m\u001b[38;5;241;43m.\u001b[39;49m\u001b[43m_engine\u001b[49m\u001b[38;5;241;43m.\u001b[39;49m\u001b[43mget_loc\u001b[49m\u001b[43m(\u001b[49m\u001b[43mcasted_key\u001b[49m\u001b[43m)\u001b[49m\n\u001b[1;32m   3806\u001b[0m \u001b[38;5;28;01mexcept\u001b[39;00m \u001b[38;5;167;01mKeyError\u001b[39;00m \u001b[38;5;28;01mas\u001b[39;00m err:\n",
      "File \u001b[0;32mindex.pyx:167\u001b[0m, in \u001b[0;36mpandas._libs.index.IndexEngine.get_loc\u001b[0;34m()\u001b[0m\n",
      "File \u001b[0;32mindex.pyx:196\u001b[0m, in \u001b[0;36mpandas._libs.index.IndexEngine.get_loc\u001b[0;34m()\u001b[0m\n",
      "File \u001b[0;32mpandas/_libs/hashtable_class_helper.pxi:7081\u001b[0m, in \u001b[0;36mpandas._libs.hashtable.PyObjectHashTable.get_item\u001b[0;34m()\u001b[0m\n",
      "File \u001b[0;32mpandas/_libs/hashtable_class_helper.pxi:7089\u001b[0m, in \u001b[0;36mpandas._libs.hashtable.PyObjectHashTable.get_item\u001b[0;34m()\u001b[0m\n",
      "\u001b[0;31mKeyError\u001b[0m: 0",
      "\nThe above exception was the direct cause of the following exception:\n",
      "\u001b[0;31mKeyError\u001b[0m                                  Traceback (most recent call last)",
      "Cell \u001b[0;32mIn[21], line 4\u001b[0m\n\u001b[1;32m      2\u001b[0m     X_train[i] \u001b[38;5;241m=\u001b[39m token_to_idx(X_train[i], \u001b[38;5;241m0\u001b[39m)\n\u001b[1;32m      3\u001b[0m \u001b[38;5;28;01mfor\u001b[39;00m i \u001b[38;5;129;01min\u001b[39;00m \u001b[38;5;28mrange\u001b[39m(\u001b[38;5;28mlen\u001b[39m(X_test)):\n\u001b[0;32m----> 4\u001b[0m     X_test[i] \u001b[38;5;241m=\u001b[39m token_to_idx(\u001b[43mX_test\u001b[49m\u001b[43m[\u001b[49m\u001b[43mi\u001b[49m\u001b[43m]\u001b[49m, \u001b[38;5;241m0\u001b[39m)\n",
      "File \u001b[0;32m/opt/anaconda3/lib/python3.9/site-packages/pandas/core/frame.py:4102\u001b[0m, in \u001b[0;36mDataFrame.__getitem__\u001b[0;34m(self, key)\u001b[0m\n\u001b[1;32m   4100\u001b[0m \u001b[38;5;28;01mif\u001b[39;00m \u001b[38;5;28mself\u001b[39m\u001b[38;5;241m.\u001b[39mcolumns\u001b[38;5;241m.\u001b[39mnlevels \u001b[38;5;241m>\u001b[39m \u001b[38;5;241m1\u001b[39m:\n\u001b[1;32m   4101\u001b[0m     \u001b[38;5;28;01mreturn\u001b[39;00m \u001b[38;5;28mself\u001b[39m\u001b[38;5;241m.\u001b[39m_getitem_multilevel(key)\n\u001b[0;32m-> 4102\u001b[0m indexer \u001b[38;5;241m=\u001b[39m \u001b[38;5;28;43mself\u001b[39;49m\u001b[38;5;241;43m.\u001b[39;49m\u001b[43mcolumns\u001b[49m\u001b[38;5;241;43m.\u001b[39;49m\u001b[43mget_loc\u001b[49m\u001b[43m(\u001b[49m\u001b[43mkey\u001b[49m\u001b[43m)\u001b[49m\n\u001b[1;32m   4103\u001b[0m \u001b[38;5;28;01mif\u001b[39;00m is_integer(indexer):\n\u001b[1;32m   4104\u001b[0m     indexer \u001b[38;5;241m=\u001b[39m [indexer]\n",
      "File \u001b[0;32m/opt/anaconda3/lib/python3.9/site-packages/pandas/core/indexes/base.py:3812\u001b[0m, in \u001b[0;36mIndex.get_loc\u001b[0;34m(self, key)\u001b[0m\n\u001b[1;32m   3807\u001b[0m     \u001b[38;5;28;01mif\u001b[39;00m \u001b[38;5;28misinstance\u001b[39m(casted_key, \u001b[38;5;28mslice\u001b[39m) \u001b[38;5;129;01mor\u001b[39;00m (\n\u001b[1;32m   3808\u001b[0m         \u001b[38;5;28misinstance\u001b[39m(casted_key, abc\u001b[38;5;241m.\u001b[39mIterable)\n\u001b[1;32m   3809\u001b[0m         \u001b[38;5;129;01mand\u001b[39;00m \u001b[38;5;28many\u001b[39m(\u001b[38;5;28misinstance\u001b[39m(x, \u001b[38;5;28mslice\u001b[39m) \u001b[38;5;28;01mfor\u001b[39;00m x \u001b[38;5;129;01min\u001b[39;00m casted_key)\n\u001b[1;32m   3810\u001b[0m     ):\n\u001b[1;32m   3811\u001b[0m         \u001b[38;5;28;01mraise\u001b[39;00m InvalidIndexError(key)\n\u001b[0;32m-> 3812\u001b[0m     \u001b[38;5;28;01mraise\u001b[39;00m \u001b[38;5;167;01mKeyError\u001b[39;00m(key) \u001b[38;5;28;01mfrom\u001b[39;00m \u001b[38;5;21;01merr\u001b[39;00m\n\u001b[1;32m   3813\u001b[0m \u001b[38;5;28;01mexcept\u001b[39;00m \u001b[38;5;167;01mTypeError\u001b[39;00m:\n\u001b[1;32m   3814\u001b[0m     \u001b[38;5;66;03m# If we have a listlike key, _check_indexing_error will raise\u001b[39;00m\n\u001b[1;32m   3815\u001b[0m     \u001b[38;5;66;03m#  InvalidIndexError. Otherwise we fall through and re-raise\u001b[39;00m\n\u001b[1;32m   3816\u001b[0m     \u001b[38;5;66;03m#  the TypeError.\u001b[39;00m\n\u001b[1;32m   3817\u001b[0m     \u001b[38;5;28mself\u001b[39m\u001b[38;5;241m.\u001b[39m_check_indexing_error(key)\n",
      "\u001b[0;31mKeyError\u001b[0m: 0"
     ]
    }
   ],
   "source": [
    "for i in range(len(X_train)):\n",
    "    X_train[i] = token_to_idx(X_train[i], 0)\n",
    "for i in range(len(X_test)):\n",
    "    X_test[i] = token_to_idx(X_test[i], 0)"
   ]
  },
  {
   "cell_type": "code",
   "execution_count": 45,
   "id": "e50772079a034b1b",
   "metadata": {
    "ExecuteTime": {
     "end_time": "2024-12-03T07:45:26.450352Z",
     "start_time": "2024-12-03T07:45:26.448175Z"
    }
   },
   "outputs": [
    {
     "name": "stdout",
     "output_type": "stream",
     "text": [
      "82\n"
     ]
    }
   ],
   "source": [
    "print(len(X_train[3]))"
   ]
  },
  {
   "cell_type": "code",
   "execution_count": 32,
   "id": "50c4733172104a8c",
   "metadata": {
    "ExecuteTime": {
     "end_time": "2024-12-03T07:42:39.861929Z",
     "start_time": "2024-12-03T07:42:39.860060Z"
    }
   },
   "outputs": [
    {
     "name": "stdout",
     "output_type": "stream",
     "text": [
      "196\n"
     ]
    }
   ],
   "source": [
    "print(len(X_train[-1]))"
   ]
  },
  {
   "cell_type": "code",
   "execution_count": 36,
   "id": "811b1d491f3fb66e",
   "metadata": {
    "ExecuteTime": {
     "end_time": "2024-12-03T10:56:48.781182Z",
     "start_time": "2024-12-03T10:56:48.778682Z"
    }
   },
   "outputs": [],
   "source": [
    "from tensorflow.keras.optimizers import Adam"
   ]
  },
  {
   "cell_type": "code",
   "execution_count": 37,
   "id": "9e6b8662d2b4a198",
   "metadata": {
    "ExecuteTime": {
     "end_time": "2024-12-03T10:56:49.388090Z",
     "start_time": "2024-12-03T10:56:49.381009Z"
    }
   },
   "outputs": [],
   "source": [
    "model.compile(optimizer=Adam(), loss='mean_squared_error', metrics=['mse'])"
   ]
  },
  {
   "cell_type": "code",
   "execution_count": null,
   "id": "d6fe3ecb3966babd",
   "metadata": {
    "ExecuteTime": {
     "start_time": "2024-12-03T10:56:51.543098Z"
    },
    "jupyter": {
     "is_executing": true
    }
   },
   "outputs": [],
   "source": [
    "model.fit(X_train, y_train, epochs=1, batch_size=64, validation_data=(X_test, y_test), verbose=1, callbacks=[earlystop_callback])"
   ]
  }
 ],
 "metadata": {
  "kernelspec": {
   "display_name": "base",
   "language": "python",
   "name": "python3"
  },
  "language_info": {
   "codemirror_mode": {
    "name": "ipython",
    "version": 3
   },
   "file_extension": ".py",
   "mimetype": "text/x-python",
   "name": "python",
   "nbconvert_exporter": "python",
   "pygments_lexer": "ipython3",
   "version": "3.9.20"
  }
 },
 "nbformat": 4,
 "nbformat_minor": 5
}
