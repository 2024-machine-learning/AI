{
 "cells": [
  {
   "cell_type": "code",
   "id": "initial_id",
   "metadata": {
    "collapsed": true,
    "ExecuteTime": {
     "end_time": "2024-12-03T12:35:44.197877Z",
     "start_time": "2024-12-03T12:35:37.466693Z"
    }
   },
   "source": [
    "import gensim.models\n",
    "import pandas as pd\n",
    "\n",
    "df = pd.read_csv('./merged.csv')"
   ],
   "outputs": [],
   "execution_count": 1
  },
  {
   "cell_type": "code",
   "id": "a1ccd047a0f9b561",
   "metadata": {
    "ExecuteTime": {
     "end_time": "2024-12-03T12:35:44.203969Z",
     "start_time": "2024-12-03T12:35:44.200426Z"
    }
   },
   "source": "corpus = df['lyrics'].tolist()",
   "outputs": [],
   "execution_count": 2
  },
  {
   "metadata": {
    "ExecuteTime": {
     "end_time": "2024-12-03T07:40:20.823773Z",
     "start_time": "2024-12-03T07:40:20.821121Z"
    }
   },
   "cell_type": "code",
   "source": "print(len(corpus))",
   "id": "4de861428be2729d",
   "outputs": [
    {
     "name": "stdout",
     "output_type": "stream",
     "text": [
      "1674\n"
     ]
    }
   ],
   "execution_count": 194
  },
  {
   "metadata": {
    "ExecuteTime": {
     "end_time": "2024-12-03T12:36:04.993929Z",
     "start_time": "2024-12-03T12:35:52.185120Z"
    }
   },
   "cell_type": "code",
   "source": [
    "## 형태소 분리\n",
    "contents_tokens = [Okt().morphs(sent, stem=True) for sent in corpus]\n",
    "new_corpus = []\n",
    "\n",
    "for cont in tqdm(contents_tokens):\n",
    "    sentence = ''\n",
    "    for word in cont:\n",
    "        sentence = sentence + ' ' + word\n",
    "    new_corpus.append(sentence)\n"
   ],
   "id": "7a7b0b24e09e862f",
   "outputs": [
    {
     "name": "stderr",
     "output_type": "stream",
     "text": [
      "100%|██████████| 1674/1674 [00:00<00:00, 24220.86it/s]\n"
     ]
    }
   ],
   "execution_count": 6
  },
  {
   "metadata": {
    "ExecuteTime": {
     "end_time": "2024-12-03T12:31:44.755711Z",
     "start_time": "2024-12-03T12:31:44.745931Z"
    }
   },
   "cell_type": "code",
   "source": [
    "import numpy as np\n",
    "print(np.shape(new_corpus))"
   ],
   "id": "f6f14233d5d95711",
   "outputs": [
    {
     "name": "stdout",
     "output_type": "stream",
     "text": [
      "(1674,)\n"
     ]
    }
   ],
   "execution_count": 7
  },
  {
   "cell_type": "code",
   "id": "8753f4c06edf49be",
   "metadata": {
    "ExecuteTime": {
     "end_time": "2024-12-03T12:31:45.685361Z",
     "start_time": "2024-12-03T12:31:45.681792Z"
    }
   },
   "source": [
    "print(df.head())"
   ],
   "outputs": [
    {
     "name": "stdout",
     "output_type": "stream",
     "text": [
      "  artist_names  track_name                                             lyrics  \\\n",
      "0          IVE        I AM  다른 문을 열어, 따라갈 필요는 없어 넌 너의 길로, 난 나의 길로, mm 하루하루...   \n",
      "1          IVE      Kitsch  It's our time 우린 달라, 특별한 게 좋아 Oh, what a good ...   \n",
      "2        Jimin  Like Crazy  She's saying, \"Baby, 생각하지 마\" There's not a bad...   \n",
      "3        JISOO      FLOWER  Eh-eh-eh-eh Eh-eh-eh-eh A-B-C, Do-Re-Mi 만큼 착했던...   \n",
      "4     NewJeans         OMG  이 노래는 it's about you, baby Only you You, you, ...   \n",
      "\n",
      "       r      g      b  \n",
      "0   41.0   41.0   41.0  \n",
      "1   41.0   41.0   41.0  \n",
      "2  156.0  152.0  151.0  \n",
      "3   39.0   33.0    8.0  \n",
      "4  195.0  195.0  195.0  \n"
     ]
    }
   ],
   "execution_count": 8
  },
  {
   "cell_type": "markdown",
   "id": "161b0aefa137d608",
   "metadata": {},
   "source": [
    "## TF-IDF 벡터로 변환 후 여러 머신러닝 기법 비교"
   ]
  },
  {
   "cell_type": "code",
   "id": "7f60d11919a7dd21",
   "metadata": {
    "ExecuteTime": {
     "end_time": "2024-12-03T12:35:52.147860Z",
     "start_time": "2024-12-03T12:35:44.206363Z"
    }
   },
   "source": [
    "from nltk.tokenize import word_tokenize\n",
    "import nltk\n",
    "from tqdm import *"
   ],
   "outputs": [],
   "execution_count": 3
  },
  {
   "cell_type": "code",
   "id": "5bf5617fbe81532f",
   "metadata": {
    "ExecuteTime": {
     "end_time": "2024-12-03T12:35:52.164757Z",
     "start_time": "2024-12-03T12:35:52.149088Z"
    }
   },
   "source": [
    "import konlpy\n",
    "from konlpy.tag import Okt"
   ],
   "outputs": [],
   "execution_count": 4
  },
  {
   "cell_type": "code",
   "id": "2a41a4d8281aba86",
   "metadata": {
    "ExecuteTime": {
     "end_time": "2024-12-03T12:35:52.183677Z",
     "start_time": "2024-12-03T12:35:52.166956Z"
    }
   },
   "source": [
    "import re\n",
    "for i in range (len(corpus)):\n",
    "    corpus[i] = corpus[i].replace('(', '').replace(')', '').replace(',', '').replace('-','').replace('\\'', '')"
   ],
   "outputs": [],
   "execution_count": 5
  },
  {
   "metadata": {},
   "cell_type": "code",
   "source": "",
   "id": "55285c316c66ae08",
   "outputs": [],
   "execution_count": null
  },
  {
   "cell_type": "code",
   "id": "4018aa17",
   "metadata": {},
   "source": [
    "print(corpus[0])"
   ],
   "outputs": [],
   "execution_count": null
  },
  {
   "cell_type": "code",
   "id": "246a5847a2d2f344",
   "metadata": {},
   "source": [
    "query = \"너가 너무 그립다\""
   ],
   "outputs": [],
   "execution_count": null
  },
  {
   "cell_type": "code",
   "id": "9def3f0f0492599e",
   "metadata": {},
   "source": [
    "from sklearn.feature_extraction.text import TfidfVectorizer\n",
    "\n",
    "tfidf = TfidfVectorizer()"
   ],
   "outputs": [],
   "execution_count": null
  },
  {
   "cell_type": "code",
   "id": "929b90cde6ac75eb",
   "metadata": {},
   "source": [
    "corpus.append(query)\n",
    "tfidf_matrix = tfidf.fit_transform(corpus)"
   ],
   "outputs": [],
   "execution_count": null
  },
  {
   "cell_type": "code",
   "id": "70528b059029a577",
   "metadata": {},
   "source": [
    "print(tfidf_matrix.shape)"
   ],
   "outputs": [],
   "execution_count": null
  },
  {
   "cell_type": "code",
   "id": "b12ef69b33cf70ba",
   "metadata": {},
   "source": [
    "from sklearn.model_selection import train_test_split\n",
    "from sklearn.metrics import mean_squared_error"
   ],
   "outputs": [],
   "execution_count": null
  },
  {
   "cell_type": "code",
   "id": "77d36786e9d486c0",
   "metadata": {},
   "source": [
    "X = tfidf_matrix[:-1]\n",
    "y = df['r']"
   ],
   "outputs": [],
   "execution_count": null
  },
  {
   "cell_type": "code",
   "id": "392183bda49be0fc",
   "metadata": {},
   "source": [
    "from pycaret.regression import *\n",
    "\n",
    "optimizer = setup(X, target=y, train_size = 0.8)"
   ],
   "outputs": [],
   "execution_count": null
  },
  {
   "cell_type": "code",
   "id": "c03b4ca3",
   "metadata": {},
   "source": [
    "comp = compare_models(sort='RMSE')"
   ],
   "outputs": [],
   "execution_count": null
  },
  {
   "cell_type": "code",
   "id": "9d07511b",
   "metadata": {},
   "source": [
    "## 형태소 분리\n",
    "contents_tokens = [Okt().morphs(sent, stem=True) for sent in corpus]\n",
    "new_corpus = []\n",
    "\n",
    "for cont in tqdm(contents_tokens):\n",
    "    sentence = ''\n",
    "    for word in cont:\n",
    "        sentence = sentence + ' ' + word\n",
    "    new_corpus.append(sentence)\n",
    "    \n",
    "query = \"바람이 쌀쌀 부는 겨울\"\n",
    "tokenized_query = Okt().morphs(query, stem=True)\n",
    "\n",
    "for word in tokenized_query:\n",
    "    sentence = ''\n",
    "    for word in cont:\n",
    "        sentence = sentence + ' ' + word\n",
    "new_corpus.append(sentence)"
   ],
   "outputs": [],
   "execution_count": null
  },
  {
   "cell_type": "code",
   "id": "2abd479c",
   "metadata": {
    "ExecuteTime": {
     "end_time": "2024-12-03T07:41:07.604978Z",
     "start_time": "2024-12-03T07:41:07.409035Z"
    }
   },
   "source": [
    "from sklearn.feature_extraction.text import TfidfVectorizer\n",
    "\n",
    "tfidf = TfidfVectorizer()\n",
    "tfidf_matrix = tfidf.fit_transform(new_corpus)"
   ],
   "outputs": [],
   "execution_count": 9
  },
  {
   "cell_type": "code",
   "id": "2141314a",
   "metadata": {
    "ExecuteTime": {
     "end_time": "2024-12-03T07:41:08.381406Z",
     "start_time": "2024-12-03T07:41:08.379203Z"
    }
   },
   "source": "print(new_corpus[-2])",
   "outputs": [
    {
     "name": "stdout",
     "output_type": "stream",
     "text": [
      " 여기다 이미 제법 겨울 이야 초록 을 감추다 roadside 아무 도 눈 이 온 걸 모르다 그 하얗다 골목 그게 많이 기억나다 Uh 기다림 은 많이 하다 맘 이 가다 곳 그렇다 건 처음 부터 너 뿐 인 걸 있다 혼자 는 그만하다 싶다 But dont know if this is what you want too So I need to know Are you down to ride ? 새벽녘 별 과 피어 난 눈꽃 이 흩날리다 곳 에 내다 달려오다 포근하다 안다 상상 하다 그 길 Would you be there for me ? 서울 은 지금 펑펑 눈 이 오다 니 가 없다 차라리 추다 게 나아 Rockabye baby 눈 뜰 때 쯤 엔 니 옆 에 있다 테 니 Now Im in my feels babe 코끝 이 찡하다 우리 추억 이 가슴 터지다 만큼 많다 머뭇거리다 시간 은 없다 when Im on ya 같이 뛰어들다 if we dont baby Im a gonner Are you down to ride ? 새벽녘 별 과 피어 난 눈꽃 이 흩날리다 곳 에 내다 달려오다 포근하다 안다 상상 하다 그 길 Would you be there for me ? Me me Would you be there for me ? Be there for me Me me Would you be there for me ? Be there for me 앨범 속 널 보고 또 보다 보다 둘 이 차다 많이 도 돌아다니다 다니다 너 만 알다 hashtag 넌 나 만의 bae 다시 넘치다 우리 만의 like like ooh Look 발 디디다 틈 없이 붐비다 명동 혼자 걷다 보다 석양 이 진 남산 아래 반짝이다 별 의 도시 Ill be there for you 약속 하다 If youre there for me 그건 이 밤 이 아름답다 이 유일 테 니 Are you down to ride ? 새벽녘 별 과 피어 난 눈꽃 이 흩날리다 곳 에 내다 달려오다 포근하다 안다 상상 하다 그 길 Would you be there for me ? I wanna know would you be there for me baby If I need you now ? I wanna know if youd be there for me 내 맘 은 벌써 거기 야 I wanna know would you be there for me baby If I need you now ? I wanna know if youd be there for me 그 세상 은 더 빛 이 나 Are you down to ride ? 새벽 별 과 눈꽃 속 의 Would you be there for me ? 이제 다 오다 점점 추다 거란 매년 겨울 속 에 Would you be there for me ? Me me Would you be there for me ? Hoohoohoo Me me there for me ? Yeahyeah Would you be there for me ?\n"
     ]
    }
   ],
   "execution_count": 10
  },
  {
   "cell_type": "code",
   "id": "c3e86a32",
   "metadata": {},
   "source": [
    "X = tfidf_matrix[:-1]\n",
    "y = df['r']\n",
    "from pycaret.regression import *\n",
    "\n",
    "optimizer = setup(X, target=y, train_size = 0.8)\n"
   ],
   "outputs": [],
   "execution_count": null
  },
  {
   "cell_type": "code",
   "id": "e224730c",
   "metadata": {},
   "source": "comp = compare_models(sort='RMSE')",
   "outputs": [],
   "execution_count": null
  },
  {
   "metadata": {},
   "cell_type": "code",
   "source": "ada = create_model('ada', fold=5)",
   "id": "7a9285ba52d38836",
   "outputs": [],
   "execution_count": null
  },
  {
   "metadata": {},
   "cell_type": "code",
   "source": "tune = tune_model(ada, fold=5, optimize='MSE')",
   "id": "be4c82b07af7fe2d",
   "outputs": [],
   "execution_count": null
  },
  {
   "metadata": {},
   "cell_type": "code",
   "source": "saved = save_model(tune, './ada')",
   "id": "7af45b214f1373f",
   "outputs": [],
   "execution_count": null
  },
  {
   "metadata": {},
   "cell_type": "markdown",
   "source": "## SentenceTransformer를 이용한 회귀",
   "id": "41ae75e8b441d123"
  },
  {
   "metadata": {
    "ExecuteTime": {
     "end_time": "2024-12-03T12:36:05.785188Z",
     "start_time": "2024-12-03T12:36:04.995084Z"
    }
   },
   "cell_type": "code",
   "source": [
    "import torch\n",
    "corpus_embeddings = torch.load(\"sbert_embeddings.pt\")"
   ],
   "id": "9aeaf27f08ac0c2f",
   "outputs": [],
   "execution_count": 7
  },
  {
   "metadata": {
    "ExecuteTime": {
     "end_time": "2024-12-03T12:36:05.788596Z",
     "start_time": "2024-12-03T12:36:05.785854Z"
    }
   },
   "cell_type": "code",
   "source": [
    "X = corpus_embeddings\n",
    "y = df[['r', 'g', 'b']]"
   ],
   "id": "5011e454bc079277",
   "outputs": [],
   "execution_count": 8
  },
  {
   "metadata": {
    "ExecuteTime": {
     "end_time": "2024-12-03T12:32:30.585650Z",
     "start_time": "2024-12-03T12:32:15.571731Z"
    }
   },
   "cell_type": "code",
   "source": "pip install pycaret",
   "id": "2e921b32bea3917c",
   "outputs": [
    {
     "name": "stdout",
     "output_type": "stream",
     "text": [
      "Collecting pycaret\r\n",
      "  Using cached pycaret-3.3.2-py3-none-any.whl.metadata (17 kB)\r\n",
      "Requirement already satisfied: ipython>=5.5.0 in /opt/anaconda3/lib/python3.9/site-packages (from pycaret) (8.15.0)\r\n",
      "Requirement already satisfied: ipywidgets>=7.6.5 in /opt/anaconda3/lib/python3.9/site-packages (from pycaret) (8.1.2)\r\n",
      "Requirement already satisfied: tqdm>=4.62.0 in /opt/anaconda3/lib/python3.9/site-packages (from pycaret) (4.66.5)\r\n",
      "Requirement already satisfied: numpy<1.27,>=1.21 in /opt/anaconda3/lib/python3.9/site-packages (from pycaret) (1.26.4)\r\n",
      "Collecting pandas<2.2.0 (from pycaret)\r\n",
      "  Downloading pandas-2.1.4-cp39-cp39-macosx_11_0_arm64.whl.metadata (18 kB)\r\n",
      "Requirement already satisfied: jinja2>=3 in /opt/anaconda3/lib/python3.9/site-packages (from pycaret) (3.1.4)\r\n",
      "Requirement already satisfied: scipy<=1.11.4,>=1.6.1 in /opt/anaconda3/lib/python3.9/site-packages (from pycaret) (1.10.1)\r\n",
      "Collecting joblib<1.4,>=1.2.0 (from pycaret)\r\n",
      "  Using cached joblib-1.3.2-py3-none-any.whl.metadata (5.4 kB)\r\n",
      "Requirement already satisfied: scikit-learn>1.4.0 in /opt/anaconda3/lib/python3.9/site-packages (from pycaret) (1.5.1)\r\n",
      "Collecting pyod>=1.1.3 (from pycaret)\r\n",
      "  Using cached pyod-2.0.2-py3-none-any.whl\r\n",
      "Requirement already satisfied: imbalanced-learn>=0.12.0 in /opt/anaconda3/lib/python3.9/site-packages (from pycaret) (0.12.3)\r\n",
      "Collecting category-encoders>=2.4.0 (from pycaret)\r\n",
      "  Using cached category_encoders-2.6.4-py2.py3-none-any.whl.metadata (8.0 kB)\r\n",
      "Collecting lightgbm>=3.0.0 (from pycaret)\r\n",
      "  Using cached lightgbm-4.5.0-py3-none-macosx_12_0_arm64.whl.metadata (17 kB)\r\n",
      "Requirement already satisfied: numba>=0.55.0 in /opt/anaconda3/lib/python3.9/site-packages (from pycaret) (0.60.0)\r\n",
      "Requirement already satisfied: requests>=2.27.1 in /opt/anaconda3/lib/python3.9/site-packages (from pycaret) (2.32.3)\r\n",
      "Requirement already satisfied: psutil>=5.9.0 in /opt/anaconda3/lib/python3.9/site-packages (from pycaret) (5.9.0)\r\n",
      "Requirement already satisfied: markupsafe>=2.0.1 in /opt/anaconda3/lib/python3.9/site-packages (from pycaret) (2.1.3)\r\n",
      "Requirement already satisfied: importlib-metadata>=4.12.0 in /opt/anaconda3/lib/python3.9/site-packages (from pycaret) (8.5.0)\r\n",
      "Requirement already satisfied: nbformat>=4.2.0 in /opt/anaconda3/lib/python3.9/site-packages (from pycaret) (5.10.4)\r\n",
      "Requirement already satisfied: cloudpickle in /opt/anaconda3/lib/python3.9/site-packages (from pycaret) (3.0.0)\r\n",
      "Collecting deprecation>=2.1.0 (from pycaret)\r\n",
      "  Using cached deprecation-2.1.0-py2.py3-none-any.whl.metadata (4.6 kB)\r\n",
      "Collecting xxhash (from pycaret)\r\n",
      "  Downloading xxhash-3.5.0-cp39-cp39-macosx_11_0_arm64.whl.metadata (12 kB)\r\n",
      "Collecting matplotlib<3.8.0 (from pycaret)\r\n",
      "  Downloading matplotlib-3.7.5-cp39-cp39-macosx_11_0_arm64.whl.metadata (5.7 kB)\r\n",
      "Collecting scikit-plot>=0.3.7 (from pycaret)\r\n",
      "  Using cached scikit_plot-0.3.7-py3-none-any.whl.metadata (7.1 kB)\r\n",
      "Collecting yellowbrick>=1.4 (from pycaret)\r\n",
      "  Using cached yellowbrick-1.5-py3-none-any.whl.metadata (7.7 kB)\r\n",
      "Requirement already satisfied: plotly>=5.14.0 in /opt/anaconda3/lib/python3.9/site-packages (from pycaret) (5.24.1)\r\n",
      "Collecting kaleido>=0.2.1 (from pycaret)\r\n",
      "  Using cached kaleido-0.2.1-py2.py3-none-macosx_11_0_arm64.whl.metadata (15 kB)\r\n",
      "Collecting schemdraw==0.15 (from pycaret)\r\n",
      "  Using cached schemdraw-0.15-py3-none-any.whl.metadata (2.2 kB)\r\n",
      "Collecting plotly-resampler>=0.8.3.1 (from pycaret)\r\n",
      "  Using cached plotly_resampler-0.10.0-py3-none-any.whl.metadata (13 kB)\r\n",
      "Requirement already satisfied: statsmodels>=0.12.1 in /opt/anaconda3/lib/python3.9/site-packages (from pycaret) (0.14.2)\r\n",
      "Collecting sktime==0.26.0 (from pycaret)\r\n",
      "  Using cached sktime-0.26.0-py3-none-any.whl.metadata (29 kB)\r\n",
      "Collecting tbats>=1.1.3 (from pycaret)\r\n",
      "  Using cached tbats-1.1.3-py3-none-any.whl.metadata (3.8 kB)\r\n",
      "Collecting pmdarima>=2.0.4 (from pycaret)\r\n",
      "  Downloading pmdarima-2.0.4-cp39-cp39-macosx_11_0_arm64.whl.metadata (7.8 kB)\r\n",
      "Requirement already satisfied: wurlitzer in /opt/anaconda3/lib/python3.9/site-packages (from pycaret) (3.0.2)\r\n",
      "Requirement already satisfied: packaging in /opt/anaconda3/lib/python3.9/site-packages (from sktime==0.26.0->pycaret) (24.1)\r\n",
      "Collecting scikit-base<0.8.0 (from sktime==0.26.0->pycaret)\r\n",
      "  Using cached scikit_base-0.7.8-py3-none-any.whl.metadata (8.8 kB)\r\n",
      "Collecting scikit-learn>1.4.0 (from pycaret)\r\n",
      "  Downloading scikit_learn-1.4.2-cp39-cp39-macosx_12_0_arm64.whl.metadata (11 kB)\r\n",
      "Requirement already satisfied: patsy>=0.5.1 in /opt/anaconda3/lib/python3.9/site-packages (from category-encoders>=2.4.0->pycaret) (0.5.6)\r\n",
      "Requirement already satisfied: threadpoolctl>=2.0.0 in /opt/anaconda3/lib/python3.9/site-packages (from imbalanced-learn>=0.12.0->pycaret) (3.5.0)\r\n",
      "Requirement already satisfied: zipp>=3.20 in /opt/anaconda3/lib/python3.9/site-packages (from importlib-metadata>=4.12.0->pycaret) (3.21.0)\r\n",
      "Requirement already satisfied: backcall in /opt/anaconda3/lib/python3.9/site-packages (from ipython>=5.5.0->pycaret) (0.2.0)\r\n",
      "Requirement already satisfied: decorator in /opt/anaconda3/lib/python3.9/site-packages (from ipython>=5.5.0->pycaret) (5.1.1)\r\n",
      "Requirement already satisfied: jedi>=0.16 in /opt/anaconda3/lib/python3.9/site-packages (from ipython>=5.5.0->pycaret) (0.19.1)\r\n",
      "Requirement already satisfied: matplotlib-inline in /opt/anaconda3/lib/python3.9/site-packages (from ipython>=5.5.0->pycaret) (0.1.6)\r\n",
      "Requirement already satisfied: pickleshare in /opt/anaconda3/lib/python3.9/site-packages (from ipython>=5.5.0->pycaret) (0.7.5)\r\n",
      "Requirement already satisfied: prompt-toolkit!=3.0.37,<3.1.0,>=3.0.30 in /opt/anaconda3/lib/python3.9/site-packages (from ipython>=5.5.0->pycaret) (3.0.43)\r\n",
      "Requirement already satisfied: pygments>=2.4.0 in /opt/anaconda3/lib/python3.9/site-packages (from ipython>=5.5.0->pycaret) (2.15.1)\r\n",
      "Requirement already satisfied: stack-data in /opt/anaconda3/lib/python3.9/site-packages (from ipython>=5.5.0->pycaret) (0.2.0)\r\n",
      "Requirement already satisfied: traitlets>=5 in /opt/anaconda3/lib/python3.9/site-packages (from ipython>=5.5.0->pycaret) (5.14.3)\r\n",
      "Requirement already satisfied: typing-extensions in /opt/anaconda3/lib/python3.9/site-packages (from ipython>=5.5.0->pycaret) (4.11.0)\r\n",
      "Requirement already satisfied: exceptiongroup in /opt/anaconda3/lib/python3.9/site-packages (from ipython>=5.5.0->pycaret) (1.2.0)\r\n",
      "Requirement already satisfied: pexpect>4.3 in /opt/anaconda3/lib/python3.9/site-packages (from ipython>=5.5.0->pycaret) (4.8.0)\r\n",
      "Requirement already satisfied: appnope in /opt/anaconda3/lib/python3.9/site-packages (from ipython>=5.5.0->pycaret) (0.1.2)\r\n",
      "Requirement already satisfied: comm>=0.1.3 in /opt/anaconda3/lib/python3.9/site-packages (from ipywidgets>=7.6.5->pycaret) (0.2.1)\r\n",
      "Requirement already satisfied: widgetsnbextension~=4.0.10 in /opt/anaconda3/lib/python3.9/site-packages (from ipywidgets>=7.6.5->pycaret) (4.0.10)\r\n",
      "Requirement already satisfied: jupyterlab-widgets~=3.0.10 in /opt/anaconda3/lib/python3.9/site-packages (from ipywidgets>=7.6.5->pycaret) (3.0.10)\r\n",
      "Requirement already satisfied: contourpy>=1.0.1 in /opt/anaconda3/lib/python3.9/site-packages (from matplotlib<3.8.0->pycaret) (1.2.0)\r\n",
      "Requirement already satisfied: cycler>=0.10 in /opt/anaconda3/lib/python3.9/site-packages (from matplotlib<3.8.0->pycaret) (0.11.0)\r\n",
      "Requirement already satisfied: fonttools>=4.22.0 in /opt/anaconda3/lib/python3.9/site-packages (from matplotlib<3.8.0->pycaret) (4.51.0)\r\n",
      "Requirement already satisfied: kiwisolver>=1.0.1 in /opt/anaconda3/lib/python3.9/site-packages (from matplotlib<3.8.0->pycaret) (1.4.4)\r\n",
      "Requirement already satisfied: pillow>=6.2.0 in /opt/anaconda3/lib/python3.9/site-packages (from matplotlib<3.8.0->pycaret) (11.0.0)\r\n",
      "Requirement already satisfied: pyparsing>=2.3.1 in /opt/anaconda3/lib/python3.9/site-packages (from matplotlib<3.8.0->pycaret) (3.2.0)\r\n",
      "Requirement already satisfied: python-dateutil>=2.7 in /opt/anaconda3/lib/python3.9/site-packages (from matplotlib<3.8.0->pycaret) (2.9.0.post0)\r\n",
      "Requirement already satisfied: importlib-resources>=3.2.0 in /opt/anaconda3/lib/python3.9/site-packages (from matplotlib<3.8.0->pycaret) (6.4.0)\r\n",
      "Requirement already satisfied: fastjsonschema>=2.15 in /opt/anaconda3/lib/python3.9/site-packages (from nbformat>=4.2.0->pycaret) (2.20.0)\r\n",
      "Requirement already satisfied: jsonschema>=2.6 in /opt/anaconda3/lib/python3.9/site-packages (from nbformat>=4.2.0->pycaret) (4.23.0)\r\n",
      "Requirement already satisfied: jupyter-core!=5.0.*,>=4.12 in /opt/anaconda3/lib/python3.9/site-packages (from nbformat>=4.2.0->pycaret) (5.7.2)\r\n",
      "Requirement already satisfied: llvmlite<0.44,>=0.43.0dev0 in /opt/anaconda3/lib/python3.9/site-packages (from numba>=0.55.0->pycaret) (0.43.0)\r\n",
      "Requirement already satisfied: pytz>=2020.1 in /opt/anaconda3/lib/python3.9/site-packages (from pandas<2.2.0->pycaret) (2024.1)\r\n",
      "Requirement already satisfied: tzdata>=2022.1 in /opt/anaconda3/lib/python3.9/site-packages (from pandas<2.2.0->pycaret) (2023.3)\r\n",
      "Requirement already satisfied: tenacity>=6.2.0 in /opt/anaconda3/lib/python3.9/site-packages (from plotly>=5.14.0->pycaret) (9.0.0)\r\n",
      "Collecting dash>=2.9.0 (from plotly-resampler>=0.8.3.1->pycaret)\r\n",
      "  Using cached dash-2.18.2-py3-none-any.whl.metadata (10 kB)\r\n",
      "Collecting orjson<4.0.0,>=3.8.0 (from plotly-resampler>=0.8.3.1->pycaret)\r\n",
      "  Downloading orjson-3.10.12-cp39-cp39-macosx_10_15_x86_64.macosx_11_0_arm64.macosx_10_15_universal2.whl.metadata (41 kB)\r\n",
      "Collecting tsdownsample>=0.1.3 (from plotly-resampler>=0.8.3.1->pycaret)\r\n",
      "  Downloading tsdownsample-0.1.3-cp39-cp39-macosx_11_0_arm64.whl.metadata (7.9 kB)\r\n",
      "Collecting Cython!=0.29.18,!=0.29.31,>=0.29 (from pmdarima>=2.0.4->pycaret)\r\n",
      "  Using cached Cython-3.0.11-py2.py3-none-any.whl.metadata (3.2 kB)\r\n",
      "Requirement already satisfied: urllib3 in /opt/anaconda3/lib/python3.9/site-packages (from pmdarima>=2.0.4->pycaret) (1.26.19)\r\n",
      "Requirement already satisfied: setuptools!=50.0.0,>=38.6.0 in /opt/anaconda3/lib/python3.9/site-packages (from pmdarima>=2.0.4->pycaret) (75.1.0)\r\n",
      "Requirement already satisfied: charset-normalizer<4,>=2 in /opt/anaconda3/lib/python3.9/site-packages (from requests>=2.27.1->pycaret) (2.0.4)\r\n",
      "Requirement already satisfied: idna<4,>=2.5 in /opt/anaconda3/lib/python3.9/site-packages (from requests>=2.27.1->pycaret) (3.7)\r\n",
      "Requirement already satisfied: certifi>=2017.4.17 in /opt/anaconda3/lib/python3.9/site-packages (from requests>=2.27.1->pycaret) (2024.8.30)\r\n",
      "Requirement already satisfied: Flask<3.1,>=1.0.4 in /opt/anaconda3/lib/python3.9/site-packages (from dash>=2.9.0->plotly-resampler>=0.8.3.1->pycaret) (3.0.3)\r\n",
      "Requirement already satisfied: Werkzeug<3.1 in /opt/anaconda3/lib/python3.9/site-packages (from dash>=2.9.0->plotly-resampler>=0.8.3.1->pycaret) (3.0.6)\r\n",
      "Collecting dash-html-components==2.0.0 (from dash>=2.9.0->plotly-resampler>=0.8.3.1->pycaret)\r\n",
      "  Using cached dash_html_components-2.0.0-py3-none-any.whl.metadata (3.8 kB)\r\n",
      "Collecting dash-core-components==2.0.0 (from dash>=2.9.0->plotly-resampler>=0.8.3.1->pycaret)\r\n",
      "  Using cached dash_core_components-2.0.0-py3-none-any.whl.metadata (2.9 kB)\r\n",
      "Collecting dash-table==5.0.0 (from dash>=2.9.0->plotly-resampler>=0.8.3.1->pycaret)\r\n",
      "  Using cached dash_table-5.0.0-py3-none-any.whl.metadata (2.4 kB)\r\n",
      "Collecting retrying (from dash>=2.9.0->plotly-resampler>=0.8.3.1->pycaret)\r\n",
      "  Using cached retrying-1.3.4-py3-none-any.whl.metadata (6.9 kB)\r\n",
      "Requirement already satisfied: nest-asyncio in /opt/anaconda3/lib/python3.9/site-packages (from dash>=2.9.0->plotly-resampler>=0.8.3.1->pycaret) (1.6.0)\r\n",
      "Requirement already satisfied: parso<0.9.0,>=0.8.3 in /opt/anaconda3/lib/python3.9/site-packages (from jedi>=0.16->ipython>=5.5.0->pycaret) (0.8.3)\r\n",
      "Requirement already satisfied: attrs>=22.2.0 in /opt/anaconda3/lib/python3.9/site-packages (from jsonschema>=2.6->nbformat>=4.2.0->pycaret) (24.2.0)\r\n",
      "Requirement already satisfied: jsonschema-specifications>=2023.03.6 in /opt/anaconda3/lib/python3.9/site-packages (from jsonschema>=2.6->nbformat>=4.2.0->pycaret) (2023.7.1)\r\n",
      "Requirement already satisfied: referencing>=0.28.4 in /opt/anaconda3/lib/python3.9/site-packages (from jsonschema>=2.6->nbformat>=4.2.0->pycaret) (0.30.2)\r\n",
      "Requirement already satisfied: rpds-py>=0.7.1 in /opt/anaconda3/lib/python3.9/site-packages (from jsonschema>=2.6->nbformat>=4.2.0->pycaret) (0.10.6)\r\n",
      "Requirement already satisfied: platformdirs>=2.5 in /opt/anaconda3/lib/python3.9/site-packages (from jupyter-core!=5.0.*,>=4.12->nbformat>=4.2.0->pycaret) (3.10.0)\r\n",
      "Requirement already satisfied: six in /opt/anaconda3/lib/python3.9/site-packages (from patsy>=0.5.1->category-encoders>=2.4.0->pycaret) (1.16.0)\r\n",
      "Requirement already satisfied: ptyprocess>=0.5 in /opt/anaconda3/lib/python3.9/site-packages (from pexpect>4.3->ipython>=5.5.0->pycaret) (0.7.0)\r\n",
      "Requirement already satisfied: wcwidth in /opt/anaconda3/lib/python3.9/site-packages (from prompt-toolkit!=3.0.37,<3.1.0,>=3.0.30->ipython>=5.5.0->pycaret) (0.2.5)\r\n",
      "Requirement already satisfied: executing in /opt/anaconda3/lib/python3.9/site-packages (from stack-data->ipython>=5.5.0->pycaret) (0.8.3)\r\n",
      "Requirement already satisfied: asttokens in /opt/anaconda3/lib/python3.9/site-packages (from stack-data->ipython>=5.5.0->pycaret) (2.0.5)\r\n",
      "Requirement already satisfied: pure-eval in /opt/anaconda3/lib/python3.9/site-packages (from stack-data->ipython>=5.5.0->pycaret) (0.2.2)\r\n",
      "Requirement already satisfied: itsdangerous>=2.1.2 in /opt/anaconda3/lib/python3.9/site-packages (from Flask<3.1,>=1.0.4->dash>=2.9.0->plotly-resampler>=0.8.3.1->pycaret) (2.2.0)\r\n",
      "Requirement already satisfied: click>=8.1.3 in /opt/anaconda3/lib/python3.9/site-packages (from Flask<3.1,>=1.0.4->dash>=2.9.0->plotly-resampler>=0.8.3.1->pycaret) (8.1.7)\r\n",
      "Requirement already satisfied: blinker>=1.6.2 in /opt/anaconda3/lib/python3.9/site-packages (from Flask<3.1,>=1.0.4->dash>=2.9.0->plotly-resampler>=0.8.3.1->pycaret) (1.6.2)\r\n",
      "Using cached pycaret-3.3.2-py3-none-any.whl (486 kB)\r\n",
      "Using cached schemdraw-0.15-py3-none-any.whl (106 kB)\r\n",
      "Using cached sktime-0.26.0-py3-none-any.whl (21.8 MB)\r\n",
      "Using cached category_encoders-2.6.4-py2.py3-none-any.whl (82 kB)\r\n",
      "Using cached deprecation-2.1.0-py2.py3-none-any.whl (11 kB)\r\n",
      "Using cached joblib-1.3.2-py3-none-any.whl (302 kB)\r\n",
      "Using cached kaleido-0.2.1-py2.py3-none-macosx_11_0_arm64.whl (85.8 MB)\r\n",
      "Using cached lightgbm-4.5.0-py3-none-macosx_12_0_arm64.whl (1.6 MB)\r\n",
      "Downloading matplotlib-3.7.5-cp39-cp39-macosx_11_0_arm64.whl (7.3 MB)\r\n",
      "\u001B[2K   \u001B[90m━━━━━━━━━━━━━━━━━━━━━━━━━━━━━━━━━━━━━━━━\u001B[0m \u001B[32m7.3/7.3 MB\u001B[0m \u001B[31m31.9 MB/s\u001B[0m eta \u001B[36m0:00:00\u001B[0ma \u001B[36m0:00:01\u001B[0m\r\n",
      "\u001B[?25hDownloading pandas-2.1.4-cp39-cp39-macosx_11_0_arm64.whl (11.0 MB)\r\n",
      "\u001B[2K   \u001B[90m━━━━━━━━━━━━━━━━━━━━━━━━━━━━━━━━━━━━━━━━\u001B[0m \u001B[32m11.0/11.0 MB\u001B[0m \u001B[31m33.2 MB/s\u001B[0m eta \u001B[36m0:00:00\u001B[0m \u001B[36m0:00:01\u001B[0m\r\n",
      "\u001B[?25hUsing cached plotly_resampler-0.10.0-py3-none-any.whl (80 kB)\r\n",
      "Downloading pmdarima-2.0.4-cp39-cp39-macosx_11_0_arm64.whl (630 kB)\r\n",
      "\u001B[2K   \u001B[90m━━━━━━━━━━━━━━━━━━━━━━━━━━━━━━━━━━━━━━━━\u001B[0m \u001B[32m630.4/630.4 kB\u001B[0m \u001B[31m19.1 MB/s\u001B[0m eta \u001B[36m0:00:00\u001B[0m\r\n",
      "\u001B[?25hDownloading scikit_learn-1.4.2-cp39-cp39-macosx_12_0_arm64.whl (10.5 MB)\r\n",
      "\u001B[2K   \u001B[90m━━━━━━━━━━━━━━━━━━━━━━━━━━━━━━━━━━━━━━━━\u001B[0m \u001B[32m10.5/10.5 MB\u001B[0m \u001B[31m32.0 MB/s\u001B[0m eta \u001B[36m0:00:00\u001B[0m \u001B[36m0:00:01\u001B[0m\r\n",
      "\u001B[?25hUsing cached scikit_plot-0.3.7-py3-none-any.whl (33 kB)\r\n",
      "Using cached tbats-1.1.3-py3-none-any.whl (44 kB)\r\n",
      "Using cached yellowbrick-1.5-py3-none-any.whl (282 kB)\r\n",
      "Downloading xxhash-3.5.0-cp39-cp39-macosx_11_0_arm64.whl (30 kB)\r\n",
      "Using cached Cython-3.0.11-py2.py3-none-any.whl (1.2 MB)\r\n",
      "Using cached dash-2.18.2-py3-none-any.whl (7.8 MB)\r\n",
      "Using cached dash_core_components-2.0.0-py3-none-any.whl (3.8 kB)\r\n",
      "Using cached dash_html_components-2.0.0-py3-none-any.whl (4.1 kB)\r\n",
      "Using cached dash_table-5.0.0-py3-none-any.whl (3.9 kB)\r\n",
      "Downloading orjson-3.10.12-cp39-cp39-macosx_10_15_x86_64.macosx_11_0_arm64.macosx_10_15_universal2.whl (249 kB)\r\n",
      "Using cached scikit_base-0.7.8-py3-none-any.whl (130 kB)\r\n",
      "Downloading tsdownsample-0.1.3-cp39-cp39-macosx_11_0_arm64.whl (1.1 MB)\r\n",
      "\u001B[2K   \u001B[90m━━━━━━━━━━━━━━━━━━━━━━━━━━━━━━━━━━━━━━━━\u001B[0m \u001B[32m1.1/1.1 MB\u001B[0m \u001B[31m24.7 MB/s\u001B[0m eta \u001B[36m0:00:00\u001B[0m\r\n",
      "\u001B[?25hUsing cached retrying-1.3.4-py3-none-any.whl (11 kB)\r\n",
      "Installing collected packages: kaleido, dash-table, dash-html-components, dash-core-components, xxhash, tsdownsample, scikit-base, schemdraw, retrying, orjson, joblib, deprecation, Cython, scikit-learn, pandas, matplotlib, lightgbm, yellowbrick, sktime, scikit-plot, pyod, dash, pmdarima, plotly-resampler, category-encoders, tbats, pycaret\r\n",
      "  Attempting uninstall: joblib\r\n",
      "    Found existing installation: joblib 1.4.2\r\n",
      "    Uninstalling joblib-1.4.2:\r\n",
      "      Successfully uninstalled joblib-1.4.2\r\n",
      "  Attempting uninstall: scikit-learn\r\n",
      "    Found existing installation: scikit-learn 1.5.1\r\n",
      "    Uninstalling scikit-learn-1.5.1:\r\n",
      "      Successfully uninstalled scikit-learn-1.5.1\r\n",
      "  Attempting uninstall: pandas\r\n",
      "    Found existing installation: pandas 2.2.3\r\n",
      "    Uninstalling pandas-2.2.3:\r\n",
      "      Successfully uninstalled pandas-2.2.3\r\n",
      "  Attempting uninstall: matplotlib\r\n",
      "    Found existing installation: matplotlib 3.9.2\r\n",
      "    Uninstalling matplotlib-3.9.2:\r\n",
      "      Successfully uninstalled matplotlib-3.9.2\r\n",
      "Successfully installed Cython-3.0.11 category-encoders-2.6.4 dash-2.18.2 dash-core-components-2.0.0 dash-html-components-2.0.0 dash-table-5.0.0 deprecation-2.1.0 joblib-1.3.2 kaleido-0.2.1 lightgbm-4.5.0 matplotlib-3.7.5 orjson-3.10.12 pandas-2.1.4 plotly-resampler-0.10.0 pmdarima-2.0.4 pycaret-3.3.2 pyod-2.0.2 retrying-1.3.4 schemdraw-0.15 scikit-base-0.7.8 scikit-learn-1.4.2 scikit-plot-0.3.7 sktime-0.26.0 tbats-1.1.3 tsdownsample-0.1.3 xxhash-3.5.0 yellowbrick-1.5\r\n",
      "Note: you may need to restart the kernel to use updated packages.\n"
     ]
    }
   ],
   "execution_count": 11
  },
  {
   "metadata": {
    "ExecuteTime": {
     "end_time": "2024-12-03T12:33:33.702583Z",
     "start_time": "2024-12-03T12:33:30.096901Z"
    }
   },
   "cell_type": "code",
   "source": "pip install scikit-learn==1.4.0",
   "id": "e67dd4556274222b",
   "outputs": [
    {
     "name": "stdout",
     "output_type": "stream",
     "text": [
      "Collecting scikit-learn==1.4.0\r\n",
      "  Downloading scikit_learn-1.4.0-1-cp39-cp39-macosx_12_0_arm64.whl.metadata (11 kB)\r\n",
      "Requirement already satisfied: numpy<2.0,>=1.19.5 in /opt/anaconda3/lib/python3.9/site-packages (from scikit-learn==1.4.0) (1.26.4)\r\n",
      "Requirement already satisfied: scipy>=1.6.0 in /opt/anaconda3/lib/python3.9/site-packages (from scikit-learn==1.4.0) (1.10.1)\r\n",
      "Requirement already satisfied: joblib>=1.2.0 in /opt/anaconda3/lib/python3.9/site-packages (from scikit-learn==1.4.0) (1.3.2)\r\n",
      "Requirement already satisfied: threadpoolctl>=2.0.0 in /opt/anaconda3/lib/python3.9/site-packages (from scikit-learn==1.4.0) (3.5.0)\r\n",
      "Downloading scikit_learn-1.4.0-1-cp39-cp39-macosx_12_0_arm64.whl (10.7 MB)\r\n",
      "\u001B[2K   \u001B[90m━━━━━━━━━━━━━━━━━━━━━━━━━━━━━━━━━━━━━━━━\u001B[0m \u001B[32m10.7/10.7 MB\u001B[0m \u001B[31m10.0 MB/s\u001B[0m eta \u001B[36m0:00:00\u001B[0m \u001B[36m0:00:01\u001B[0m\r\n",
      "\u001B[?25hInstalling collected packages: scikit-learn\r\n",
      "  Attempting uninstall: scikit-learn\r\n",
      "    Found existing installation: scikit-learn 1.4.2\r\n",
      "    Uninstalling scikit-learn-1.4.2:\r\n",
      "      Successfully uninstalled scikit-learn-1.4.2\r\n",
      "\u001B[31mERROR: pip's dependency resolver does not currently take into account all the packages that are installed. This behaviour is the source of the following dependency conflicts.\r\n",
      "pycaret 3.3.2 requires scikit-learn>1.4.0, but you have scikit-learn 1.4.0 which is incompatible.\u001B[0m\u001B[31m\r\n",
      "\u001B[0mSuccessfully installed scikit-learn-1.4.0\r\n",
      "Note: you may need to restart the kernel to use updated packages.\n"
     ]
    }
   ],
   "execution_count": 13
  },
  {
   "metadata": {
    "ExecuteTime": {
     "end_time": "2024-12-03T12:36:21.552504Z",
     "start_time": "2024-12-03T12:36:08.779966Z"
    }
   },
   "cell_type": "code",
   "source": [
    "from pycaret.regression import *\n",
    "optimizer = setup(X, target=y, train_size = 0.8)"
   ],
   "id": "db6d065b74f68b02",
   "outputs": [
    {
     "data": {
      "text/plain": [
       "<pandas.io.formats.style.Styler at 0x17fe12070>"
      ],
      "text/html": [
       "<style type=\"text/css\">\n",
       "#T_2ac45_row8_col1 {\n",
       "  background-color: lightgreen;\n",
       "}\n",
       "</style>\n",
       "<table id=\"T_2ac45\">\n",
       "  <thead>\n",
       "    <tr>\n",
       "      <th class=\"blank level0\" >&nbsp;</th>\n",
       "      <th id=\"T_2ac45_level0_col0\" class=\"col_heading level0 col0\" >Description</th>\n",
       "      <th id=\"T_2ac45_level0_col1\" class=\"col_heading level0 col1\" >Value</th>\n",
       "    </tr>\n",
       "  </thead>\n",
       "  <tbody>\n",
       "    <tr>\n",
       "      <th id=\"T_2ac45_level0_row0\" class=\"row_heading level0 row0\" >0</th>\n",
       "      <td id=\"T_2ac45_row0_col0\" class=\"data row0 col0\" >Session id</td>\n",
       "      <td id=\"T_2ac45_row0_col1\" class=\"data row0 col1\" >4193</td>\n",
       "    </tr>\n",
       "    <tr>\n",
       "      <th id=\"T_2ac45_level0_row1\" class=\"row_heading level0 row1\" >1</th>\n",
       "      <td id=\"T_2ac45_row1_col0\" class=\"data row1 col0\" >Target</td>\n",
       "      <td id=\"T_2ac45_row1_col1\" class=\"data row1 col1\" >feature_768</td>\n",
       "    </tr>\n",
       "    <tr>\n",
       "      <th id=\"T_2ac45_level0_row2\" class=\"row_heading level0 row2\" >2</th>\n",
       "      <td id=\"T_2ac45_row2_col0\" class=\"data row2 col0\" >Target type</td>\n",
       "      <td id=\"T_2ac45_row2_col1\" class=\"data row2 col1\" >Regression</td>\n",
       "    </tr>\n",
       "    <tr>\n",
       "      <th id=\"T_2ac45_level0_row3\" class=\"row_heading level0 row3\" >3</th>\n",
       "      <td id=\"T_2ac45_row3_col0\" class=\"data row3 col0\" >Original data shape</td>\n",
       "      <td id=\"T_2ac45_row3_col1\" class=\"data row3 col1\" >(1674, 768)</td>\n",
       "    </tr>\n",
       "    <tr>\n",
       "      <th id=\"T_2ac45_level0_row4\" class=\"row_heading level0 row4\" >4</th>\n",
       "      <td id=\"T_2ac45_row4_col0\" class=\"data row4 col0\" >Transformed data shape</td>\n",
       "      <td id=\"T_2ac45_row4_col1\" class=\"data row4 col1\" >(1674, 768)</td>\n",
       "    </tr>\n",
       "    <tr>\n",
       "      <th id=\"T_2ac45_level0_row5\" class=\"row_heading level0 row5\" >5</th>\n",
       "      <td id=\"T_2ac45_row5_col0\" class=\"data row5 col0\" >Transformed train set shape</td>\n",
       "      <td id=\"T_2ac45_row5_col1\" class=\"data row5 col1\" >(1339, 768)</td>\n",
       "    </tr>\n",
       "    <tr>\n",
       "      <th id=\"T_2ac45_level0_row6\" class=\"row_heading level0 row6\" >6</th>\n",
       "      <td id=\"T_2ac45_row6_col0\" class=\"data row6 col0\" >Transformed test set shape</td>\n",
       "      <td id=\"T_2ac45_row6_col1\" class=\"data row6 col1\" >(335, 768)</td>\n",
       "    </tr>\n",
       "    <tr>\n",
       "      <th id=\"T_2ac45_level0_row7\" class=\"row_heading level0 row7\" >7</th>\n",
       "      <td id=\"T_2ac45_row7_col0\" class=\"data row7 col0\" >Numeric features</td>\n",
       "      <td id=\"T_2ac45_row7_col1\" class=\"data row7 col1\" >767</td>\n",
       "    </tr>\n",
       "    <tr>\n",
       "      <th id=\"T_2ac45_level0_row8\" class=\"row_heading level0 row8\" >8</th>\n",
       "      <td id=\"T_2ac45_row8_col0\" class=\"data row8 col0\" >Preprocess</td>\n",
       "      <td id=\"T_2ac45_row8_col1\" class=\"data row8 col1\" >True</td>\n",
       "    </tr>\n",
       "    <tr>\n",
       "      <th id=\"T_2ac45_level0_row9\" class=\"row_heading level0 row9\" >9</th>\n",
       "      <td id=\"T_2ac45_row9_col0\" class=\"data row9 col0\" >Imputation type</td>\n",
       "      <td id=\"T_2ac45_row9_col1\" class=\"data row9 col1\" >simple</td>\n",
       "    </tr>\n",
       "    <tr>\n",
       "      <th id=\"T_2ac45_level0_row10\" class=\"row_heading level0 row10\" >10</th>\n",
       "      <td id=\"T_2ac45_row10_col0\" class=\"data row10 col0\" >Numeric imputation</td>\n",
       "      <td id=\"T_2ac45_row10_col1\" class=\"data row10 col1\" >mean</td>\n",
       "    </tr>\n",
       "    <tr>\n",
       "      <th id=\"T_2ac45_level0_row11\" class=\"row_heading level0 row11\" >11</th>\n",
       "      <td id=\"T_2ac45_row11_col0\" class=\"data row11 col0\" >Categorical imputation</td>\n",
       "      <td id=\"T_2ac45_row11_col1\" class=\"data row11 col1\" >mode</td>\n",
       "    </tr>\n",
       "    <tr>\n",
       "      <th id=\"T_2ac45_level0_row12\" class=\"row_heading level0 row12\" >12</th>\n",
       "      <td id=\"T_2ac45_row12_col0\" class=\"data row12 col0\" >Fold Generator</td>\n",
       "      <td id=\"T_2ac45_row12_col1\" class=\"data row12 col1\" >KFold</td>\n",
       "    </tr>\n",
       "    <tr>\n",
       "      <th id=\"T_2ac45_level0_row13\" class=\"row_heading level0 row13\" >13</th>\n",
       "      <td id=\"T_2ac45_row13_col0\" class=\"data row13 col0\" >Fold Number</td>\n",
       "      <td id=\"T_2ac45_row13_col1\" class=\"data row13 col1\" >10</td>\n",
       "    </tr>\n",
       "    <tr>\n",
       "      <th id=\"T_2ac45_level0_row14\" class=\"row_heading level0 row14\" >14</th>\n",
       "      <td id=\"T_2ac45_row14_col0\" class=\"data row14 col0\" >CPU Jobs</td>\n",
       "      <td id=\"T_2ac45_row14_col1\" class=\"data row14 col1\" >-1</td>\n",
       "    </tr>\n",
       "    <tr>\n",
       "      <th id=\"T_2ac45_level0_row15\" class=\"row_heading level0 row15\" >15</th>\n",
       "      <td id=\"T_2ac45_row15_col0\" class=\"data row15 col0\" >Use GPU</td>\n",
       "      <td id=\"T_2ac45_row15_col1\" class=\"data row15 col1\" >False</td>\n",
       "    </tr>\n",
       "    <tr>\n",
       "      <th id=\"T_2ac45_level0_row16\" class=\"row_heading level0 row16\" >16</th>\n",
       "      <td id=\"T_2ac45_row16_col0\" class=\"data row16 col0\" >Log Experiment</td>\n",
       "      <td id=\"T_2ac45_row16_col1\" class=\"data row16 col1\" >False</td>\n",
       "    </tr>\n",
       "    <tr>\n",
       "      <th id=\"T_2ac45_level0_row17\" class=\"row_heading level0 row17\" >17</th>\n",
       "      <td id=\"T_2ac45_row17_col0\" class=\"data row17 col0\" >Experiment Name</td>\n",
       "      <td id=\"T_2ac45_row17_col1\" class=\"data row17 col1\" >reg-default-name</td>\n",
       "    </tr>\n",
       "    <tr>\n",
       "      <th id=\"T_2ac45_level0_row18\" class=\"row_heading level0 row18\" >18</th>\n",
       "      <td id=\"T_2ac45_row18_col0\" class=\"data row18 col0\" >USI</td>\n",
       "      <td id=\"T_2ac45_row18_col1\" class=\"data row18 col1\" >3518</td>\n",
       "    </tr>\n",
       "  </tbody>\n",
       "</table>\n"
      ]
     },
     "metadata": {},
     "output_type": "display_data"
    }
   ],
   "execution_count": 9
  },
  {
   "metadata": {
    "ExecuteTime": {
     "end_time": "2024-12-03T12:36:35.323016Z",
     "start_time": "2024-12-03T12:36:28.001520Z"
    }
   },
   "cell_type": "code",
   "source": "comp = compare_models(sort='RMSE')",
   "id": "5778692d05b8093d",
   "outputs": [
    {
     "data": {
      "text/plain": [
       "                                                                    \n",
       "                                                                    \n",
       "Initiated  . . . . . . . . . . . . . . . . . .              21:36:28\n",
       "Status     . . . . . . . . . . . . . . . . . .  Loading Dependencies\n",
       "Estimator  . . . . . . . . . . . . . . . . . .     Compiling Library"
      ],
      "text/html": [
       "<div>\n",
       "<style scoped>\n",
       "    .dataframe tbody tr th:only-of-type {\n",
       "        vertical-align: middle;\n",
       "    }\n",
       "\n",
       "    .dataframe tbody tr th {\n",
       "        vertical-align: top;\n",
       "    }\n",
       "\n",
       "    .dataframe thead th {\n",
       "        text-align: right;\n",
       "    }\n",
       "</style>\n",
       "<table border=\"1\" class=\"dataframe\">\n",
       "  <thead>\n",
       "    <tr style=\"text-align: right;\">\n",
       "      <th></th>\n",
       "      <th></th>\n",
       "      <th></th>\n",
       "    </tr>\n",
       "    <tr>\n",
       "      <th></th>\n",
       "      <th></th>\n",
       "      <th></th>\n",
       "    </tr>\n",
       "  </thead>\n",
       "  <tbody>\n",
       "    <tr>\n",
       "      <th>Initiated</th>\n",
       "      <td>. . . . . . . . . . . . . . . . . .</td>\n",
       "      <td>21:36:28</td>\n",
       "    </tr>\n",
       "    <tr>\n",
       "      <th>Status</th>\n",
       "      <td>. . . . . . . . . . . . . . . . . .</td>\n",
       "      <td>Loading Dependencies</td>\n",
       "    </tr>\n",
       "    <tr>\n",
       "      <th>Estimator</th>\n",
       "      <td>. . . . . . . . . . . . . . . . . .</td>\n",
       "      <td>Compiling Library</td>\n",
       "    </tr>\n",
       "  </tbody>\n",
       "</table>\n",
       "</div>"
      ]
     },
     "metadata": {},
     "output_type": "display_data"
    },
    {
     "data": {
      "text/plain": [
       "<IPython.core.display.HTML object>"
      ],
      "text/html": []
     },
     "metadata": {},
     "output_type": "display_data"
    },
    {
     "data": {
      "text/plain": [
       "                                                                \n",
       "                                                                \n",
       "Initiated  . . . . . . . . . . . . . . . . . .          21:36:28\n",
       "Status     . . . . . . . . . . . . . . . . . .  Fitting 10 Folds\n",
       "Estimator  . . . . . . . . . . . . . . . . . .    Bayesian Ridge"
      ],
      "text/html": [
       "<div>\n",
       "<style scoped>\n",
       "    .dataframe tbody tr th:only-of-type {\n",
       "        vertical-align: middle;\n",
       "    }\n",
       "\n",
       "    .dataframe tbody tr th {\n",
       "        vertical-align: top;\n",
       "    }\n",
       "\n",
       "    .dataframe thead th {\n",
       "        text-align: right;\n",
       "    }\n",
       "</style>\n",
       "<table border=\"1\" class=\"dataframe\">\n",
       "  <thead>\n",
       "    <tr style=\"text-align: right;\">\n",
       "      <th></th>\n",
       "      <th></th>\n",
       "      <th></th>\n",
       "    </tr>\n",
       "    <tr>\n",
       "      <th></th>\n",
       "      <th></th>\n",
       "      <th></th>\n",
       "    </tr>\n",
       "  </thead>\n",
       "  <tbody>\n",
       "    <tr>\n",
       "      <th>Initiated</th>\n",
       "      <td>. . . . . . . . . . . . . . . . . .</td>\n",
       "      <td>21:36:28</td>\n",
       "    </tr>\n",
       "    <tr>\n",
       "      <th>Status</th>\n",
       "      <td>. . . . . . . . . . . . . . . . . .</td>\n",
       "      <td>Fitting 10 Folds</td>\n",
       "    </tr>\n",
       "    <tr>\n",
       "      <th>Estimator</th>\n",
       "      <td>. . . . . . . . . . . . . . . . . .</td>\n",
       "      <td>Bayesian Ridge</td>\n",
       "    </tr>\n",
       "  </tbody>\n",
       "</table>\n",
       "</div>"
      ]
     },
     "metadata": {},
     "output_type": "display_data"
    },
    {
     "ename": "KeyboardInterrupt",
     "evalue": "",
     "output_type": "error",
     "traceback": [
      "\u001B[0;31m---------------------------------------------------------------------------\u001B[0m",
      "\u001B[0;31mKeyboardInterrupt\u001B[0m                         Traceback (most recent call last)",
      "Cell \u001B[0;32mIn[10], line 1\u001B[0m\n\u001B[0;32m----> 1\u001B[0m comp \u001B[38;5;241m=\u001B[39m \u001B[43mcompare_models\u001B[49m\u001B[43m(\u001B[49m\u001B[43msort\u001B[49m\u001B[38;5;241;43m=\u001B[39;49m\u001B[38;5;124;43m'\u001B[39;49m\u001B[38;5;124;43mRMSE\u001B[39;49m\u001B[38;5;124;43m'\u001B[39;49m\u001B[43m)\u001B[49m\n",
      "File \u001B[0;32m/opt/anaconda3/lib/python3.9/site-packages/pycaret/utils/generic.py:964\u001B[0m, in \u001B[0;36mcheck_if_global_is_not_none.<locals>.decorator.<locals>.wrapper\u001B[0;34m(*args, **kwargs)\u001B[0m\n\u001B[1;32m    962\u001B[0m     \u001B[38;5;28;01mif\u001B[39;00m globals_d[name] \u001B[38;5;129;01mis\u001B[39;00m \u001B[38;5;28;01mNone\u001B[39;00m:\n\u001B[1;32m    963\u001B[0m         \u001B[38;5;28;01mraise\u001B[39;00m \u001B[38;5;167;01mValueError\u001B[39;00m(message)\n\u001B[0;32m--> 964\u001B[0m \u001B[38;5;28;01mreturn\u001B[39;00m \u001B[43mfunc\u001B[49m\u001B[43m(\u001B[49m\u001B[38;5;241;43m*\u001B[39;49m\u001B[43margs\u001B[49m\u001B[43m,\u001B[49m\u001B[43m \u001B[49m\u001B[38;5;241;43m*\u001B[39;49m\u001B[38;5;241;43m*\u001B[39;49m\u001B[43mkwargs\u001B[49m\u001B[43m)\u001B[49m\n",
      "File \u001B[0;32m/opt/anaconda3/lib/python3.9/site-packages/pycaret/regression/functional.py:805\u001B[0m, in \u001B[0;36mcompare_models\u001B[0;34m(include, exclude, fold, round, cross_validation, sort, n_select, budget_time, turbo, errors, fit_kwargs, groups, experiment_custom_tags, engine, verbose, parallel)\u001B[0m\n\u001B[1;32m    670\u001B[0m \u001B[38;5;129m@check_if_global_is_not_none\u001B[39m(\u001B[38;5;28mglobals\u001B[39m(), _CURRENT_EXPERIMENT_DECORATOR_DICT)\n\u001B[1;32m    671\u001B[0m \u001B[38;5;28;01mdef\u001B[39;00m \u001B[38;5;21mcompare_models\u001B[39m(\n\u001B[1;32m    672\u001B[0m     include: Optional[List[Union[\u001B[38;5;28mstr\u001B[39m, Any]]] \u001B[38;5;241m=\u001B[39m \u001B[38;5;28;01mNone\u001B[39;00m,\n\u001B[0;32m   (...)\u001B[0m\n\u001B[1;32m    687\u001B[0m     parallel: Optional[ParallelBackend] \u001B[38;5;241m=\u001B[39m \u001B[38;5;28;01mNone\u001B[39;00m,\n\u001B[1;32m    688\u001B[0m ):\n\u001B[1;32m    689\u001B[0m \u001B[38;5;250m    \u001B[39m\u001B[38;5;124;03m\"\"\"\u001B[39;00m\n\u001B[1;32m    690\u001B[0m \u001B[38;5;124;03m    This function trains and evaluates performance of all estimators available in the\u001B[39;00m\n\u001B[1;32m    691\u001B[0m \u001B[38;5;124;03m    model library using cross validation. The output of this function is a score grid\u001B[39;00m\n\u001B[0;32m   (...)\u001B[0m\n\u001B[1;32m    803\u001B[0m \n\u001B[1;32m    804\u001B[0m \u001B[38;5;124;03m    \"\"\"\u001B[39;00m\n\u001B[0;32m--> 805\u001B[0m     \u001B[38;5;28;01mreturn\u001B[39;00m \u001B[43m_CURRENT_EXPERIMENT\u001B[49m\u001B[38;5;241;43m.\u001B[39;49m\u001B[43mcompare_models\u001B[49m\u001B[43m(\u001B[49m\n\u001B[1;32m    806\u001B[0m \u001B[43m        \u001B[49m\u001B[43minclude\u001B[49m\u001B[38;5;241;43m=\u001B[39;49m\u001B[43minclude\u001B[49m\u001B[43m,\u001B[49m\n\u001B[1;32m    807\u001B[0m \u001B[43m        \u001B[49m\u001B[43mexclude\u001B[49m\u001B[38;5;241;43m=\u001B[39;49m\u001B[43mexclude\u001B[49m\u001B[43m,\u001B[49m\n\u001B[1;32m    808\u001B[0m \u001B[43m        \u001B[49m\u001B[43mfold\u001B[49m\u001B[38;5;241;43m=\u001B[39;49m\u001B[43mfold\u001B[49m\u001B[43m,\u001B[49m\n\u001B[1;32m    809\u001B[0m \u001B[43m        \u001B[49m\u001B[38;5;28;43mround\u001B[39;49m\u001B[38;5;241;43m=\u001B[39;49m\u001B[38;5;28;43mround\u001B[39;49m\u001B[43m,\u001B[49m\n\u001B[1;32m    810\u001B[0m \u001B[43m        \u001B[49m\u001B[43mcross_validation\u001B[49m\u001B[38;5;241;43m=\u001B[39;49m\u001B[43mcross_validation\u001B[49m\u001B[43m,\u001B[49m\n\u001B[1;32m    811\u001B[0m \u001B[43m        \u001B[49m\u001B[43msort\u001B[49m\u001B[38;5;241;43m=\u001B[39;49m\u001B[43msort\u001B[49m\u001B[43m,\u001B[49m\n\u001B[1;32m    812\u001B[0m \u001B[43m        \u001B[49m\u001B[43mn_select\u001B[49m\u001B[38;5;241;43m=\u001B[39;49m\u001B[43mn_select\u001B[49m\u001B[43m,\u001B[49m\n\u001B[1;32m    813\u001B[0m \u001B[43m        \u001B[49m\u001B[43mbudget_time\u001B[49m\u001B[38;5;241;43m=\u001B[39;49m\u001B[43mbudget_time\u001B[49m\u001B[43m,\u001B[49m\n\u001B[1;32m    814\u001B[0m \u001B[43m        \u001B[49m\u001B[43mturbo\u001B[49m\u001B[38;5;241;43m=\u001B[39;49m\u001B[43mturbo\u001B[49m\u001B[43m,\u001B[49m\n\u001B[1;32m    815\u001B[0m \u001B[43m        \u001B[49m\u001B[43merrors\u001B[49m\u001B[38;5;241;43m=\u001B[39;49m\u001B[43merrors\u001B[49m\u001B[43m,\u001B[49m\n\u001B[1;32m    816\u001B[0m \u001B[43m        \u001B[49m\u001B[43mfit_kwargs\u001B[49m\u001B[38;5;241;43m=\u001B[39;49m\u001B[43mfit_kwargs\u001B[49m\u001B[43m,\u001B[49m\n\u001B[1;32m    817\u001B[0m \u001B[43m        \u001B[49m\u001B[43mgroups\u001B[49m\u001B[38;5;241;43m=\u001B[39;49m\u001B[43mgroups\u001B[49m\u001B[43m,\u001B[49m\n\u001B[1;32m    818\u001B[0m \u001B[43m        \u001B[49m\u001B[43mexperiment_custom_tags\u001B[49m\u001B[38;5;241;43m=\u001B[39;49m\u001B[43mexperiment_custom_tags\u001B[49m\u001B[43m,\u001B[49m\n\u001B[1;32m    819\u001B[0m \u001B[43m        \u001B[49m\u001B[43mengine\u001B[49m\u001B[38;5;241;43m=\u001B[39;49m\u001B[43mengine\u001B[49m\u001B[43m,\u001B[49m\n\u001B[1;32m    820\u001B[0m \u001B[43m        \u001B[49m\u001B[43mverbose\u001B[49m\u001B[38;5;241;43m=\u001B[39;49m\u001B[43mverbose\u001B[49m\u001B[43m,\u001B[49m\n\u001B[1;32m    821\u001B[0m \u001B[43m        \u001B[49m\u001B[43mparallel\u001B[49m\u001B[38;5;241;43m=\u001B[39;49m\u001B[43mparallel\u001B[49m\u001B[43m,\u001B[49m\n\u001B[1;32m    822\u001B[0m \u001B[43m    \u001B[49m\u001B[43m)\u001B[49m\n",
      "File \u001B[0;32m/opt/anaconda3/lib/python3.9/site-packages/pycaret/regression/oop.py:1122\u001B[0m, in \u001B[0;36mRegressionExperiment.compare_models\u001B[0;34m(self, include, exclude, fold, round, cross_validation, sort, n_select, budget_time, turbo, errors, fit_kwargs, groups, experiment_custom_tags, engine, verbose, parallel)\u001B[0m\n\u001B[1;32m   1119\u001B[0m         \u001B[38;5;28mself\u001B[39m\u001B[38;5;241m.\u001B[39m_set_engine(estimator\u001B[38;5;241m=\u001B[39mestimator, engine\u001B[38;5;241m=\u001B[39meng, severity\u001B[38;5;241m=\u001B[39m\u001B[38;5;124m\"\u001B[39m\u001B[38;5;124merror\u001B[39m\u001B[38;5;124m\"\u001B[39m)\n\u001B[1;32m   1121\u001B[0m \u001B[38;5;28;01mtry\u001B[39;00m:\n\u001B[0;32m-> 1122\u001B[0m     return_values \u001B[38;5;241m=\u001B[39m \u001B[38;5;28;43msuper\u001B[39;49m\u001B[43m(\u001B[49m\u001B[43m)\u001B[49m\u001B[38;5;241;43m.\u001B[39;49m\u001B[43mcompare_models\u001B[49m\u001B[43m(\u001B[49m\n\u001B[1;32m   1123\u001B[0m \u001B[43m        \u001B[49m\u001B[43minclude\u001B[49m\u001B[38;5;241;43m=\u001B[39;49m\u001B[43minclude\u001B[49m\u001B[43m,\u001B[49m\n\u001B[1;32m   1124\u001B[0m \u001B[43m        \u001B[49m\u001B[43mexclude\u001B[49m\u001B[38;5;241;43m=\u001B[39;49m\u001B[43mexclude\u001B[49m\u001B[43m,\u001B[49m\n\u001B[1;32m   1125\u001B[0m \u001B[43m        \u001B[49m\u001B[43mfold\u001B[49m\u001B[38;5;241;43m=\u001B[39;49m\u001B[43mfold\u001B[49m\u001B[43m,\u001B[49m\n\u001B[1;32m   1126\u001B[0m \u001B[43m        \u001B[49m\u001B[38;5;28;43mround\u001B[39;49m\u001B[38;5;241;43m=\u001B[39;49m\u001B[38;5;28;43mround\u001B[39;49m\u001B[43m,\u001B[49m\n\u001B[1;32m   1127\u001B[0m \u001B[43m        \u001B[49m\u001B[43mcross_validation\u001B[49m\u001B[38;5;241;43m=\u001B[39;49m\u001B[43mcross_validation\u001B[49m\u001B[43m,\u001B[49m\n\u001B[1;32m   1128\u001B[0m \u001B[43m        \u001B[49m\u001B[43msort\u001B[49m\u001B[38;5;241;43m=\u001B[39;49m\u001B[43msort\u001B[49m\u001B[43m,\u001B[49m\n\u001B[1;32m   1129\u001B[0m \u001B[43m        \u001B[49m\u001B[43mn_select\u001B[49m\u001B[38;5;241;43m=\u001B[39;49m\u001B[43mn_select\u001B[49m\u001B[43m,\u001B[49m\n\u001B[1;32m   1130\u001B[0m \u001B[43m        \u001B[49m\u001B[43mbudget_time\u001B[49m\u001B[38;5;241;43m=\u001B[39;49m\u001B[43mbudget_time\u001B[49m\u001B[43m,\u001B[49m\n\u001B[1;32m   1131\u001B[0m \u001B[43m        \u001B[49m\u001B[43mturbo\u001B[49m\u001B[38;5;241;43m=\u001B[39;49m\u001B[43mturbo\u001B[49m\u001B[43m,\u001B[49m\n\u001B[1;32m   1132\u001B[0m \u001B[43m        \u001B[49m\u001B[43merrors\u001B[49m\u001B[38;5;241;43m=\u001B[39;49m\u001B[43merrors\u001B[49m\u001B[43m,\u001B[49m\n\u001B[1;32m   1133\u001B[0m \u001B[43m        \u001B[49m\u001B[43mfit_kwargs\u001B[49m\u001B[38;5;241;43m=\u001B[39;49m\u001B[43mfit_kwargs\u001B[49m\u001B[43m,\u001B[49m\n\u001B[1;32m   1134\u001B[0m \u001B[43m        \u001B[49m\u001B[43mgroups\u001B[49m\u001B[38;5;241;43m=\u001B[39;49m\u001B[43mgroups\u001B[49m\u001B[43m,\u001B[49m\n\u001B[1;32m   1135\u001B[0m \u001B[43m        \u001B[49m\u001B[43mexperiment_custom_tags\u001B[49m\u001B[38;5;241;43m=\u001B[39;49m\u001B[43mexperiment_custom_tags\u001B[49m\u001B[43m,\u001B[49m\n\u001B[1;32m   1136\u001B[0m \u001B[43m        \u001B[49m\u001B[43mverbose\u001B[49m\u001B[38;5;241;43m=\u001B[39;49m\u001B[43mverbose\u001B[49m\u001B[43m,\u001B[49m\n\u001B[1;32m   1137\u001B[0m \u001B[43m        \u001B[49m\u001B[43mparallel\u001B[49m\u001B[38;5;241;43m=\u001B[39;49m\u001B[43mparallel\u001B[49m\u001B[43m,\u001B[49m\n\u001B[1;32m   1138\u001B[0m \u001B[43m        \u001B[49m\u001B[43mcaller_params\u001B[49m\u001B[38;5;241;43m=\u001B[39;49m\u001B[43mcaller_params\u001B[49m\u001B[43m,\u001B[49m\n\u001B[1;32m   1139\u001B[0m \u001B[43m    \u001B[49m\u001B[43m)\u001B[49m\n\u001B[1;32m   1141\u001B[0m \u001B[38;5;28;01mfinally\u001B[39;00m:\n\u001B[1;32m   1142\u001B[0m     \u001B[38;5;28;01mif\u001B[39;00m engine \u001B[38;5;129;01mis\u001B[39;00m \u001B[38;5;129;01mnot\u001B[39;00m \u001B[38;5;28;01mNone\u001B[39;00m:\n\u001B[1;32m   1143\u001B[0m         \u001B[38;5;66;03m# Reset the models back to the default engines\u001B[39;00m\n",
      "File \u001B[0;32m/opt/anaconda3/lib/python3.9/site-packages/pycaret/internal/pycaret_experiment/supervised_experiment.py:794\u001B[0m, in \u001B[0;36m_SupervisedExperiment.compare_models\u001B[0;34m(self, include, exclude, fold, round, cross_validation, sort, n_select, budget_time, turbo, errors, fit_kwargs, groups, experiment_custom_tags, probability_threshold, verbose, parallel, caller_params)\u001B[0m\n\u001B[1;32m    791\u001B[0m results_columns_to_ignore \u001B[38;5;241m=\u001B[39m [\u001B[38;5;124m\"\u001B[39m\u001B[38;5;124mObject\u001B[39m\u001B[38;5;124m\"\u001B[39m, \u001B[38;5;124m\"\u001B[39m\u001B[38;5;124mruntime\u001B[39m\u001B[38;5;124m\"\u001B[39m, \u001B[38;5;124m\"\u001B[39m\u001B[38;5;124mcutoff\u001B[39m\u001B[38;5;124m\"\u001B[39m]\n\u001B[1;32m    793\u001B[0m \u001B[38;5;28;01mtry\u001B[39;00m:\n\u001B[0;32m--> 794\u001B[0m     model, model_fit_time \u001B[38;5;241m=\u001B[39m \u001B[38;5;28;43mself\u001B[39;49m\u001B[38;5;241;43m.\u001B[39;49m\u001B[43m_create_model\u001B[49m\u001B[43m(\u001B[49m\u001B[38;5;241;43m*\u001B[39;49m\u001B[38;5;241;43m*\u001B[39;49m\u001B[43mcreate_model_args\u001B[49m\u001B[43m)\u001B[49m\n\u001B[1;32m    795\u001B[0m     model_results \u001B[38;5;241m=\u001B[39m \u001B[38;5;28mself\u001B[39m\u001B[38;5;241m.\u001B[39mpull(pop\u001B[38;5;241m=\u001B[39m\u001B[38;5;28;01mTrue\u001B[39;00m)\n\u001B[1;32m    796\u001B[0m     \u001B[38;5;28;01massert\u001B[39;00m (\n\u001B[1;32m    797\u001B[0m         np\u001B[38;5;241m.\u001B[39msum(\n\u001B[1;32m    798\u001B[0m             model_results\u001B[38;5;241m.\u001B[39mdrop(\n\u001B[0;32m   (...)\u001B[0m\n\u001B[1;32m    802\u001B[0m         \u001B[38;5;241m!=\u001B[39m \u001B[38;5;241m0.0\u001B[39m\n\u001B[1;32m    803\u001B[0m     )\n",
      "File \u001B[0;32m/opt/anaconda3/lib/python3.9/site-packages/pycaret/internal/pycaret_experiment/supervised_experiment.py:1533\u001B[0m, in \u001B[0;36m_SupervisedExperiment._create_model\u001B[0;34m(self, estimator, fold, round, cross_validation, predict, fit_kwargs, groups, refit, probability_threshold, experiment_custom_tags, verbose, system, add_to_model_list, X_train_data, y_train_data, metrics, display, model_only, return_train_score, error_score, **kwargs)\u001B[0m\n\u001B[1;32m   1530\u001B[0m         \u001B[38;5;28;01mreturn\u001B[39;00m model, model_fit_time\n\u001B[1;32m   1531\u001B[0m     \u001B[38;5;28;01mreturn\u001B[39;00m model\n\u001B[0;32m-> 1533\u001B[0m model, model_fit_time, model_results, _ \u001B[38;5;241m=\u001B[39m \u001B[38;5;28;43mself\u001B[39;49m\u001B[38;5;241;43m.\u001B[39;49m\u001B[43m_create_model_with_cv\u001B[49m\u001B[43m(\u001B[49m\n\u001B[1;32m   1534\u001B[0m \u001B[43m    \u001B[49m\u001B[43mmodel\u001B[49m\u001B[38;5;241;43m=\u001B[39;49m\u001B[43mmodel\u001B[49m\u001B[43m,\u001B[49m\n\u001B[1;32m   1535\u001B[0m \u001B[43m    \u001B[49m\u001B[43mdata_X\u001B[49m\u001B[38;5;241;43m=\u001B[39;49m\u001B[43mdata_X\u001B[49m\u001B[43m,\u001B[49m\n\u001B[1;32m   1536\u001B[0m \u001B[43m    \u001B[49m\u001B[43mdata_y\u001B[49m\u001B[38;5;241;43m=\u001B[39;49m\u001B[43mdata_y\u001B[49m\u001B[43m,\u001B[49m\n\u001B[1;32m   1537\u001B[0m \u001B[43m    \u001B[49m\u001B[43mfit_kwargs\u001B[49m\u001B[38;5;241;43m=\u001B[39;49m\u001B[43mfit_kwargs\u001B[49m\u001B[43m,\u001B[49m\n\u001B[1;32m   1538\u001B[0m \u001B[43m    \u001B[49m\u001B[38;5;28;43mround\u001B[39;49m\u001B[38;5;241;43m=\u001B[39;49m\u001B[38;5;28;43mround\u001B[39;49m\u001B[43m,\u001B[49m\n\u001B[1;32m   1539\u001B[0m \u001B[43m    \u001B[49m\u001B[43mcv\u001B[49m\u001B[38;5;241;43m=\u001B[39;49m\u001B[43mcv\u001B[49m\u001B[43m,\u001B[49m\n\u001B[1;32m   1540\u001B[0m \u001B[43m    \u001B[49m\u001B[43mgroups\u001B[49m\u001B[38;5;241;43m=\u001B[39;49m\u001B[43mgroups\u001B[49m\u001B[43m,\u001B[49m\n\u001B[1;32m   1541\u001B[0m \u001B[43m    \u001B[49m\u001B[43mmetrics\u001B[49m\u001B[38;5;241;43m=\u001B[39;49m\u001B[43mmetrics\u001B[49m\u001B[43m,\u001B[49m\n\u001B[1;32m   1542\u001B[0m \u001B[43m    \u001B[49m\u001B[43mrefit\u001B[49m\u001B[38;5;241;43m=\u001B[39;49m\u001B[43mrefit\u001B[49m\u001B[43m,\u001B[49m\n\u001B[1;32m   1543\u001B[0m \u001B[43m    \u001B[49m\u001B[43msystem\u001B[49m\u001B[38;5;241;43m=\u001B[39;49m\u001B[43msystem\u001B[49m\u001B[43m,\u001B[49m\n\u001B[1;32m   1544\u001B[0m \u001B[43m    \u001B[49m\u001B[43mdisplay\u001B[49m\u001B[38;5;241;43m=\u001B[39;49m\u001B[43mdisplay\u001B[49m\u001B[43m,\u001B[49m\n\u001B[1;32m   1545\u001B[0m \u001B[43m    \u001B[49m\u001B[43merror_score\u001B[49m\u001B[38;5;241;43m=\u001B[39;49m\u001B[43merror_score\u001B[49m\u001B[43m,\u001B[49m\n\u001B[1;32m   1546\u001B[0m \u001B[43m    \u001B[49m\u001B[43mreturn_train_score\u001B[49m\u001B[38;5;241;43m=\u001B[39;49m\u001B[43mreturn_train_score\u001B[49m\u001B[43m,\u001B[49m\n\u001B[1;32m   1547\u001B[0m \u001B[43m\u001B[49m\u001B[43m)\u001B[49m\n\u001B[1;32m   1549\u001B[0m \u001B[38;5;66;03m# end runtime\u001B[39;00m\n\u001B[1;32m   1550\u001B[0m runtime_end \u001B[38;5;241m=\u001B[39m time\u001B[38;5;241m.\u001B[39mtime()\n",
      "File \u001B[0;32m/opt/anaconda3/lib/python3.9/site-packages/pycaret/internal/pycaret_experiment/supervised_experiment.py:1126\u001B[0m, in \u001B[0;36m_SupervisedExperiment._create_model_with_cv\u001B[0;34m(self, model, data_X, data_y, fit_kwargs, round, cv, groups, metrics, refit, system, display, error_score, return_train_score)\u001B[0m\n\u001B[1;32m   1124\u001B[0m     model_fit_start \u001B[38;5;241m=\u001B[39m time\u001B[38;5;241m.\u001B[39mtime()\n\u001B[1;32m   1125\u001B[0m     \u001B[38;5;28;01mwith\u001B[39;00m redirect_output(\u001B[38;5;28mself\u001B[39m\u001B[38;5;241m.\u001B[39mlogger):\n\u001B[0;32m-> 1126\u001B[0m         scores \u001B[38;5;241m=\u001B[39m \u001B[43mcross_validate\u001B[49m\u001B[43m(\u001B[49m\n\u001B[1;32m   1127\u001B[0m \u001B[43m            \u001B[49m\u001B[43mpipeline_with_model\u001B[49m\u001B[43m,\u001B[49m\n\u001B[1;32m   1128\u001B[0m \u001B[43m            \u001B[49m\u001B[43mdata_X\u001B[49m\u001B[43m,\u001B[49m\n\u001B[1;32m   1129\u001B[0m \u001B[43m            \u001B[49m\u001B[43mdata_y\u001B[49m\u001B[43m,\u001B[49m\n\u001B[1;32m   1130\u001B[0m \u001B[43m            \u001B[49m\u001B[43mcv\u001B[49m\u001B[38;5;241;43m=\u001B[39;49m\u001B[43mcv\u001B[49m\u001B[43m,\u001B[49m\n\u001B[1;32m   1131\u001B[0m \u001B[43m            \u001B[49m\u001B[43mgroups\u001B[49m\u001B[38;5;241;43m=\u001B[39;49m\u001B[43mgroups\u001B[49m\u001B[43m,\u001B[49m\n\u001B[1;32m   1132\u001B[0m \u001B[43m            \u001B[49m\u001B[43mscoring\u001B[49m\u001B[38;5;241;43m=\u001B[39;49m\u001B[43mmetrics_dict\u001B[49m\u001B[43m,\u001B[49m\n\u001B[1;32m   1133\u001B[0m \u001B[43m            \u001B[49m\u001B[43mparams\u001B[49m\u001B[38;5;241;43m=\u001B[39;49m\u001B[43mfit_kwargs\u001B[49m\u001B[43m,\u001B[49m\n\u001B[1;32m   1134\u001B[0m \u001B[43m            \u001B[49m\u001B[43mn_jobs\u001B[49m\u001B[38;5;241;43m=\u001B[39;49m\u001B[43mn_jobs\u001B[49m\u001B[43m,\u001B[49m\n\u001B[1;32m   1135\u001B[0m \u001B[43m            \u001B[49m\u001B[43mreturn_train_score\u001B[49m\u001B[38;5;241;43m=\u001B[39;49m\u001B[43mreturn_train_score\u001B[49m\u001B[43m,\u001B[49m\n\u001B[1;32m   1136\u001B[0m \u001B[43m            \u001B[49m\u001B[43merror_score\u001B[49m\u001B[38;5;241;43m=\u001B[39;49m\u001B[43merror_score\u001B[49m\u001B[43m,\u001B[49m\n\u001B[1;32m   1137\u001B[0m \u001B[43m        \u001B[49m\u001B[43m)\u001B[49m\n\u001B[1;32m   1139\u001B[0m model_fit_end \u001B[38;5;241m=\u001B[39m time\u001B[38;5;241m.\u001B[39mtime()\n\u001B[1;32m   1140\u001B[0m model_fit_time \u001B[38;5;241m=\u001B[39m np\u001B[38;5;241m.\u001B[39marray(model_fit_end \u001B[38;5;241m-\u001B[39m model_fit_start)\u001B[38;5;241m.\u001B[39mround(\u001B[38;5;241m2\u001B[39m)\n",
      "File \u001B[0;32m/opt/anaconda3/lib/python3.9/site-packages/sklearn/utils/_param_validation.py:213\u001B[0m, in \u001B[0;36mvalidate_params.<locals>.decorator.<locals>.wrapper\u001B[0;34m(*args, **kwargs)\u001B[0m\n\u001B[1;32m    207\u001B[0m \u001B[38;5;28;01mtry\u001B[39;00m:\n\u001B[1;32m    208\u001B[0m     \u001B[38;5;28;01mwith\u001B[39;00m config_context(\n\u001B[1;32m    209\u001B[0m         skip_parameter_validation\u001B[38;5;241m=\u001B[39m(\n\u001B[1;32m    210\u001B[0m             prefer_skip_nested_validation \u001B[38;5;129;01mor\u001B[39;00m global_skip_validation\n\u001B[1;32m    211\u001B[0m         )\n\u001B[1;32m    212\u001B[0m     ):\n\u001B[0;32m--> 213\u001B[0m         \u001B[38;5;28;01mreturn\u001B[39;00m \u001B[43mfunc\u001B[49m\u001B[43m(\u001B[49m\u001B[38;5;241;43m*\u001B[39;49m\u001B[43margs\u001B[49m\u001B[43m,\u001B[49m\u001B[43m \u001B[49m\u001B[38;5;241;43m*\u001B[39;49m\u001B[38;5;241;43m*\u001B[39;49m\u001B[43mkwargs\u001B[49m\u001B[43m)\u001B[49m\n\u001B[1;32m    214\u001B[0m \u001B[38;5;28;01mexcept\u001B[39;00m InvalidParameterError \u001B[38;5;28;01mas\u001B[39;00m e:\n\u001B[1;32m    215\u001B[0m     \u001B[38;5;66;03m# When the function is just a wrapper around an estimator, we allow\u001B[39;00m\n\u001B[1;32m    216\u001B[0m     \u001B[38;5;66;03m# the function to delegate validation to the estimator, but we replace\u001B[39;00m\n\u001B[1;32m    217\u001B[0m     \u001B[38;5;66;03m# the name of the estimator by the name of the function in the error\u001B[39;00m\n\u001B[1;32m    218\u001B[0m     \u001B[38;5;66;03m# message to avoid confusion.\u001B[39;00m\n\u001B[1;32m    219\u001B[0m     msg \u001B[38;5;241m=\u001B[39m re\u001B[38;5;241m.\u001B[39msub(\n\u001B[1;32m    220\u001B[0m         \u001B[38;5;124mr\u001B[39m\u001B[38;5;124m\"\u001B[39m\u001B[38;5;124mparameter of \u001B[39m\u001B[38;5;124m\\\u001B[39m\u001B[38;5;124mw+ must be\u001B[39m\u001B[38;5;124m\"\u001B[39m,\n\u001B[1;32m    221\u001B[0m         \u001B[38;5;124mf\u001B[39m\u001B[38;5;124m\"\u001B[39m\u001B[38;5;124mparameter of \u001B[39m\u001B[38;5;132;01m{\u001B[39;00mfunc\u001B[38;5;241m.\u001B[39m\u001B[38;5;18m__qualname__\u001B[39m\u001B[38;5;132;01m}\u001B[39;00m\u001B[38;5;124m must be\u001B[39m\u001B[38;5;124m\"\u001B[39m,\n\u001B[1;32m    222\u001B[0m         \u001B[38;5;28mstr\u001B[39m(e),\n\u001B[1;32m    223\u001B[0m     )\n",
      "File \u001B[0;32m/opt/anaconda3/lib/python3.9/site-packages/sklearn/model_selection/_validation.py:425\u001B[0m, in \u001B[0;36mcross_validate\u001B[0;34m(estimator, X, y, groups, scoring, cv, n_jobs, verbose, fit_params, params, pre_dispatch, return_train_score, return_estimator, return_indices, error_score)\u001B[0m\n\u001B[1;32m    422\u001B[0m \u001B[38;5;66;03m# We clone the estimator to make sure that all the folds are\u001B[39;00m\n\u001B[1;32m    423\u001B[0m \u001B[38;5;66;03m# independent, and that it is pickle-able.\u001B[39;00m\n\u001B[1;32m    424\u001B[0m parallel \u001B[38;5;241m=\u001B[39m Parallel(n_jobs\u001B[38;5;241m=\u001B[39mn_jobs, verbose\u001B[38;5;241m=\u001B[39mverbose, pre_dispatch\u001B[38;5;241m=\u001B[39mpre_dispatch)\n\u001B[0;32m--> 425\u001B[0m results \u001B[38;5;241m=\u001B[39m \u001B[43mparallel\u001B[49m\u001B[43m(\u001B[49m\n\u001B[1;32m    426\u001B[0m \u001B[43m    \u001B[49m\u001B[43mdelayed\u001B[49m\u001B[43m(\u001B[49m\u001B[43m_fit_and_score\u001B[49m\u001B[43m)\u001B[49m\u001B[43m(\u001B[49m\n\u001B[1;32m    427\u001B[0m \u001B[43m        \u001B[49m\u001B[43mclone\u001B[49m\u001B[43m(\u001B[49m\u001B[43mestimator\u001B[49m\u001B[43m)\u001B[49m\u001B[43m,\u001B[49m\n\u001B[1;32m    428\u001B[0m \u001B[43m        \u001B[49m\u001B[43mX\u001B[49m\u001B[43m,\u001B[49m\n\u001B[1;32m    429\u001B[0m \u001B[43m        \u001B[49m\u001B[43my\u001B[49m\u001B[43m,\u001B[49m\n\u001B[1;32m    430\u001B[0m \u001B[43m        \u001B[49m\u001B[43mscorer\u001B[49m\u001B[38;5;241;43m=\u001B[39;49m\u001B[43mscorers\u001B[49m\u001B[43m,\u001B[49m\n\u001B[1;32m    431\u001B[0m \u001B[43m        \u001B[49m\u001B[43mtrain\u001B[49m\u001B[38;5;241;43m=\u001B[39;49m\u001B[43mtrain\u001B[49m\u001B[43m,\u001B[49m\n\u001B[1;32m    432\u001B[0m \u001B[43m        \u001B[49m\u001B[43mtest\u001B[49m\u001B[38;5;241;43m=\u001B[39;49m\u001B[43mtest\u001B[49m\u001B[43m,\u001B[49m\n\u001B[1;32m    433\u001B[0m \u001B[43m        \u001B[49m\u001B[43mverbose\u001B[49m\u001B[38;5;241;43m=\u001B[39;49m\u001B[43mverbose\u001B[49m\u001B[43m,\u001B[49m\n\u001B[1;32m    434\u001B[0m \u001B[43m        \u001B[49m\u001B[43mparameters\u001B[49m\u001B[38;5;241;43m=\u001B[39;49m\u001B[38;5;28;43;01mNone\u001B[39;49;00m\u001B[43m,\u001B[49m\n\u001B[1;32m    435\u001B[0m \u001B[43m        \u001B[49m\u001B[43mfit_params\u001B[49m\u001B[38;5;241;43m=\u001B[39;49m\u001B[43mrouted_params\u001B[49m\u001B[38;5;241;43m.\u001B[39;49m\u001B[43mestimator\u001B[49m\u001B[38;5;241;43m.\u001B[39;49m\u001B[43mfit\u001B[49m\u001B[43m,\u001B[49m\n\u001B[1;32m    436\u001B[0m \u001B[43m        \u001B[49m\u001B[43mscore_params\u001B[49m\u001B[38;5;241;43m=\u001B[39;49m\u001B[43mrouted_params\u001B[49m\u001B[38;5;241;43m.\u001B[39;49m\u001B[43mscorer\u001B[49m\u001B[38;5;241;43m.\u001B[39;49m\u001B[43mscore\u001B[49m\u001B[43m,\u001B[49m\n\u001B[1;32m    437\u001B[0m \u001B[43m        \u001B[49m\u001B[43mreturn_train_score\u001B[49m\u001B[38;5;241;43m=\u001B[39;49m\u001B[43mreturn_train_score\u001B[49m\u001B[43m,\u001B[49m\n\u001B[1;32m    438\u001B[0m \u001B[43m        \u001B[49m\u001B[43mreturn_times\u001B[49m\u001B[38;5;241;43m=\u001B[39;49m\u001B[38;5;28;43;01mTrue\u001B[39;49;00m\u001B[43m,\u001B[49m\n\u001B[1;32m    439\u001B[0m \u001B[43m        \u001B[49m\u001B[43mreturn_estimator\u001B[49m\u001B[38;5;241;43m=\u001B[39;49m\u001B[43mreturn_estimator\u001B[49m\u001B[43m,\u001B[49m\n\u001B[1;32m    440\u001B[0m \u001B[43m        \u001B[49m\u001B[43merror_score\u001B[49m\u001B[38;5;241;43m=\u001B[39;49m\u001B[43merror_score\u001B[49m\u001B[43m,\u001B[49m\n\u001B[1;32m    441\u001B[0m \u001B[43m    \u001B[49m\u001B[43m)\u001B[49m\n\u001B[1;32m    442\u001B[0m \u001B[43m    \u001B[49m\u001B[38;5;28;43;01mfor\u001B[39;49;00m\u001B[43m \u001B[49m\u001B[43mtrain\u001B[49m\u001B[43m,\u001B[49m\u001B[43m \u001B[49m\u001B[43mtest\u001B[49m\u001B[43m \u001B[49m\u001B[38;5;129;43;01min\u001B[39;49;00m\u001B[43m \u001B[49m\u001B[43mindices\u001B[49m\n\u001B[1;32m    443\u001B[0m \u001B[43m\u001B[49m\u001B[43m)\u001B[49m\n\u001B[1;32m    445\u001B[0m _warn_or_raise_about_fit_failures(results, error_score)\n\u001B[1;32m    447\u001B[0m \u001B[38;5;66;03m# For callable scoring, the return type is only know after calling. If the\u001B[39;00m\n\u001B[1;32m    448\u001B[0m \u001B[38;5;66;03m# return type is a dictionary, the error scores can now be inserted with\u001B[39;00m\n\u001B[1;32m    449\u001B[0m \u001B[38;5;66;03m# the correct key.\u001B[39;00m\n",
      "File \u001B[0;32m/opt/anaconda3/lib/python3.9/site-packages/sklearn/utils/parallel.py:67\u001B[0m, in \u001B[0;36mParallel.__call__\u001B[0;34m(self, iterable)\u001B[0m\n\u001B[1;32m     62\u001B[0m config \u001B[38;5;241m=\u001B[39m get_config()\n\u001B[1;32m     63\u001B[0m iterable_with_config \u001B[38;5;241m=\u001B[39m (\n\u001B[1;32m     64\u001B[0m     (_with_config(delayed_func, config), args, kwargs)\n\u001B[1;32m     65\u001B[0m     \u001B[38;5;28;01mfor\u001B[39;00m delayed_func, args, kwargs \u001B[38;5;129;01min\u001B[39;00m iterable\n\u001B[1;32m     66\u001B[0m )\n\u001B[0;32m---> 67\u001B[0m \u001B[38;5;28;01mreturn\u001B[39;00m \u001B[38;5;28;43msuper\u001B[39;49m\u001B[43m(\u001B[49m\u001B[43m)\u001B[49m\u001B[38;5;241;43m.\u001B[39;49m\u001B[38;5;21;43m__call__\u001B[39;49m\u001B[43m(\u001B[49m\u001B[43miterable_with_config\u001B[49m\u001B[43m)\u001B[49m\n",
      "File \u001B[0;32m/opt/anaconda3/lib/python3.9/site-packages/joblib/parallel.py:1952\u001B[0m, in \u001B[0;36mParallel.__call__\u001B[0;34m(self, iterable)\u001B[0m\n\u001B[1;32m   1946\u001B[0m \u001B[38;5;66;03m# The first item from the output is blank, but it makes the interpreter\u001B[39;00m\n\u001B[1;32m   1947\u001B[0m \u001B[38;5;66;03m# progress until it enters the Try/Except block of the generator and\u001B[39;00m\n\u001B[1;32m   1948\u001B[0m \u001B[38;5;66;03m# reach the first `yield` statement. This starts the aynchronous\u001B[39;00m\n\u001B[1;32m   1949\u001B[0m \u001B[38;5;66;03m# dispatch of the tasks to the workers.\u001B[39;00m\n\u001B[1;32m   1950\u001B[0m \u001B[38;5;28mnext\u001B[39m(output)\n\u001B[0;32m-> 1952\u001B[0m \u001B[38;5;28;01mreturn\u001B[39;00m output \u001B[38;5;28;01mif\u001B[39;00m \u001B[38;5;28mself\u001B[39m\u001B[38;5;241m.\u001B[39mreturn_generator \u001B[38;5;28;01melse\u001B[39;00m \u001B[38;5;28;43mlist\u001B[39;49m\u001B[43m(\u001B[49m\u001B[43moutput\u001B[49m\u001B[43m)\u001B[49m\n",
      "File \u001B[0;32m/opt/anaconda3/lib/python3.9/site-packages/joblib/parallel.py:1595\u001B[0m, in \u001B[0;36mParallel._get_outputs\u001B[0;34m(self, iterator, pre_dispatch)\u001B[0m\n\u001B[1;32m   1592\u001B[0m     \u001B[38;5;28;01myield\u001B[39;00m\n\u001B[1;32m   1594\u001B[0m     \u001B[38;5;28;01mwith\u001B[39;00m \u001B[38;5;28mself\u001B[39m\u001B[38;5;241m.\u001B[39m_backend\u001B[38;5;241m.\u001B[39mretrieval_context():\n\u001B[0;32m-> 1595\u001B[0m         \u001B[38;5;28;01myield from\u001B[39;00m \u001B[38;5;28mself\u001B[39m\u001B[38;5;241m.\u001B[39m_retrieve()\n\u001B[1;32m   1597\u001B[0m \u001B[38;5;28;01mexcept\u001B[39;00m \u001B[38;5;167;01mGeneratorExit\u001B[39;00m:\n\u001B[1;32m   1598\u001B[0m     \u001B[38;5;66;03m# The generator has been garbage collected before being fully\u001B[39;00m\n\u001B[1;32m   1599\u001B[0m     \u001B[38;5;66;03m# consumed. This aborts the remaining tasks if possible and warn\u001B[39;00m\n\u001B[1;32m   1600\u001B[0m     \u001B[38;5;66;03m# the user if necessary.\u001B[39;00m\n\u001B[1;32m   1601\u001B[0m     \u001B[38;5;28mself\u001B[39m\u001B[38;5;241m.\u001B[39m_exception \u001B[38;5;241m=\u001B[39m \u001B[38;5;28;01mTrue\u001B[39;00m\n",
      "File \u001B[0;32m/opt/anaconda3/lib/python3.9/site-packages/joblib/parallel.py:1707\u001B[0m, in \u001B[0;36mParallel._retrieve\u001B[0;34m(self)\u001B[0m\n\u001B[1;32m   1702\u001B[0m \u001B[38;5;66;03m# If the next job is not ready for retrieval yet, we just wait for\u001B[39;00m\n\u001B[1;32m   1703\u001B[0m \u001B[38;5;66;03m# async callbacks to progress.\u001B[39;00m\n\u001B[1;32m   1704\u001B[0m \u001B[38;5;28;01mif\u001B[39;00m ((\u001B[38;5;28mlen\u001B[39m(\u001B[38;5;28mself\u001B[39m\u001B[38;5;241m.\u001B[39m_jobs) \u001B[38;5;241m==\u001B[39m \u001B[38;5;241m0\u001B[39m) \u001B[38;5;129;01mor\u001B[39;00m\n\u001B[1;32m   1705\u001B[0m     (\u001B[38;5;28mself\u001B[39m\u001B[38;5;241m.\u001B[39m_jobs[\u001B[38;5;241m0\u001B[39m]\u001B[38;5;241m.\u001B[39mget_status(\n\u001B[1;32m   1706\u001B[0m         timeout\u001B[38;5;241m=\u001B[39m\u001B[38;5;28mself\u001B[39m\u001B[38;5;241m.\u001B[39mtimeout) \u001B[38;5;241m==\u001B[39m TASK_PENDING)):\n\u001B[0;32m-> 1707\u001B[0m     \u001B[43mtime\u001B[49m\u001B[38;5;241;43m.\u001B[39;49m\u001B[43msleep\u001B[49m\u001B[43m(\u001B[49m\u001B[38;5;241;43m0.01\u001B[39;49m\u001B[43m)\u001B[49m\n\u001B[1;32m   1708\u001B[0m     \u001B[38;5;28;01mcontinue\u001B[39;00m\n\u001B[1;32m   1710\u001B[0m \u001B[38;5;66;03m# We need to be careful: the job list can be filling up as\u001B[39;00m\n\u001B[1;32m   1711\u001B[0m \u001B[38;5;66;03m# we empty it and Python list are not thread-safe by\u001B[39;00m\n\u001B[1;32m   1712\u001B[0m \u001B[38;5;66;03m# default hence the use of the lock\u001B[39;00m\n",
      "\u001B[0;31mKeyboardInterrupt\u001B[0m: "
     ]
    }
   ],
   "execution_count": 10
  },
  {
   "metadata": {},
   "cell_type": "code",
   "source": "en = create_model('en', fold=10)",
   "id": "2edaaf6da0d20504",
   "outputs": [],
   "execution_count": null
  },
  {
   "metadata": {},
   "cell_type": "code",
   "source": "en_tune = tune_model(en, fold=10, optimize='RMSE')",
   "id": "3358a4f061a12017",
   "outputs": [],
   "execution_count": null
  },
  {
   "metadata": {},
   "cell_type": "code",
   "source": "saved_en = save_model(en_tune, './en_sent')",
   "id": "d6939667386aa5db",
   "outputs": [],
   "execution_count": null
  },
  {
   "metadata": {},
   "cell_type": "code",
   "source": [
    "load_en = load_model('./en_sent')\n",
    "load_en['trained_model']"
   ],
   "id": "dcd2895533e6d6bf",
   "outputs": [],
   "execution_count": null
  },
  {
   "metadata": {},
   "cell_type": "markdown",
   "source": "## sentencetransformer로 임베딩된 벡터로 딥러닝",
   "id": "d43ad0a033f77a6e"
  },
  {
   "metadata": {},
   "cell_type": "code",
   "source": [
    "import torch\n",
    "from torch import nn\n",
    "from torch.utils.data import DataLoader\n",
    "from torchvision import datasets, transforms"
   ],
   "id": "7d7771e767962833",
   "outputs": [],
   "execution_count": null
  },
  {
   "metadata": {},
   "cell_type": "code",
   "source": [
    "device = (\n",
    "    \"cuda\"\n",
    "    if torch.cuda.is_available()\n",
    "    else \"mps\"\n",
    "    if torch.backends.mps.is_available()\n",
    "    else \"cpu\"\n",
    ")\n",
    "print(f\"Using {device} device\")"
   ],
   "id": "c5633a913a2705ca",
   "outputs": [],
   "execution_count": null
  },
  {
   "metadata": {},
   "cell_type": "code",
   "source": "print(torch.__version__)",
   "id": "f5805f486b975daa",
   "outputs": [],
   "execution_count": null
  },
  {
   "metadata": {},
   "cell_type": "code",
   "source": [
    "import torch\n",
    "print(f\"MPS 장치를 지원하도록 build가 되었는가? {torch.backends.mps.is_built()}\")\n",
    "print(f\"MPS 장치가 사용 가능한가? {torch.backends.mps.is_available()}\") "
   ],
   "id": "e65ee84921ecaea",
   "outputs": [],
   "execution_count": null
  },
  {
   "metadata": {},
   "cell_type": "code",
   "source": "",
   "id": "b3e1abda9eddf476",
   "outputs": [],
   "execution_count": null
  },
  {
   "metadata": {},
   "cell_type": "markdown",
   "source": "## 사전 학습된 word2vec을 불러와 lstm으로 학습",
   "id": "c9d8bba3779067c7"
  },
  {
   "metadata": {},
   "cell_type": "code",
   "source": "ko_model = ('ko.bin')",
   "id": "371d85f09b4d0c57",
   "outputs": [],
   "execution_count": null
  },
  {
   "metadata": {
    "ExecuteTime": {
     "end_time": "2024-12-03T10:55:23.763463Z",
     "start_time": "2024-12-03T10:55:23.760884Z"
    }
   },
   "cell_type": "code",
   "source": "import gensim",
   "id": "bec9792b1bb7b54c",
   "outputs": [],
   "execution_count": 11
  },
  {
   "metadata": {
    "ExecuteTime": {
     "end_time": "2024-12-03T10:55:24.689112Z",
     "start_time": "2024-12-03T10:55:24.430459Z"
    }
   },
   "cell_type": "code",
   "source": "ko_model = gensim.models.Word2Vec.load('./ko.bin')",
   "id": "a3c9c2ba5f5d3c01",
   "outputs": [],
   "execution_count": 12
  },
  {
   "metadata": {},
   "cell_type": "code",
   "source": "print(len(ko_model.wv.vocab))",
   "id": "82b04258a08e042f",
   "outputs": [],
   "execution_count": null
  },
  {
   "metadata": {
    "ExecuteTime": {
     "end_time": "2024-12-03T10:55:26.415275Z",
     "start_time": "2024-12-03T10:55:26.412753Z"
    }
   },
   "cell_type": "code",
   "source": "from sklearn.model_selection import train_test_split",
   "id": "553a390d3b8f422e",
   "outputs": [],
   "execution_count": 13
  },
  {
   "metadata": {
    "ExecuteTime": {
     "end_time": "2024-12-03T10:55:27.053409Z",
     "start_time": "2024-12-03T10:55:27.050271Z"
    }
   },
   "cell_type": "code",
   "source": [
    "X = new_corpus\n",
    "y = df[['r', 'g', 'b']]"
   ],
   "id": "254dfdcd5c4a4b27",
   "outputs": [],
   "execution_count": 14
  },
  {
   "metadata": {
    "ExecuteTime": {
     "end_time": "2024-12-03T10:55:27.834872Z",
     "start_time": "2024-12-03T10:55:27.830783Z"
    }
   },
   "cell_type": "code",
   "source": "X_train, y_train, X_test, y_test = train_test_split(X, y, test_size=0.2)",
   "id": "2a133bf5962b6511",
   "outputs": [],
   "execution_count": 15
  },
  {
   "metadata": {
    "ExecuteTime": {
     "end_time": "2024-12-03T10:56:10.936832Z",
     "start_time": "2024-12-03T10:56:10.878023Z"
    }
   },
   "cell_type": "code",
   "source": [
    "import matplotlib.pyplot as plt\n",
    "\n",
    "plt.hist([len(sample) for sample in X_train], bins=50)\n",
    "plt.show()"
   ],
   "id": "df792d6cd5d254cd",
   "outputs": [
    {
     "data": {
      "text/plain": [
       "<Figure size 640x480 with 1 Axes>"
      ],
      "image/png": "[encoded data removed]"
     },
     "metadata": {},
     "output_type": "display_data"
    }
   ],
   "execution_count": 24
  },
  {
   "metadata": {
    "ExecuteTime": {
     "end_time": "2024-12-03T10:56:16.864752Z",
     "start_time": "2024-12-03T10:56:16.862093Z"
    }
   },
   "cell_type": "code",
   "source": "print(sum(map(len, X_train))/len(X_train))",
   "id": "1e958a400d22e395",
   "outputs": [
    {
     "name": "stdout",
     "output_type": "stream",
     "text": [
      "334.3383121732636\n"
     ]
    }
   ],
   "execution_count": 25
  },
  {
   "metadata": {
    "ExecuteTime": {
     "end_time": "2024-12-03T10:55:36.519295Z",
     "start_time": "2024-12-03T10:55:32.812811Z"
    }
   },
   "cell_type": "code",
   "source": [
    "from tensorflow.keras.preprocessing.sequence import pad_sequences\n",
    "from tensorflow.keras.models import Sequential\n",
    "from tensorflow.keras.layers import Dense, LSTM, Embedding\n",
    "from tensorflow.keras.callbacks import EarlyStopping, ModelCheckpoint"
   ],
   "id": "2dc688250984638a",
   "outputs": [],
   "execution_count": 18
  },
  {
   "metadata": {
    "ExecuteTime": {
     "end_time": "2024-12-03T10:56:21.565253Z",
     "start_time": "2024-12-03T10:56:21.542085Z"
    }
   },
   "cell_type": "code",
   "source": [
    "max_len = 334\n",
    "X_train = pad_sequences(X_train, maxlen=max_len)\n",
    "X_test = pad_sequences(X_test, maxlen=max_len)"
   ],
   "id": "6f254eca153f18be",
   "outputs": [
    {
     "ename": "ValueError",
     "evalue": "setting an array element with a sequence. The requested array has an inhomogeneous shape after 1 dimensions. The detected shape was (349,) + inhomogeneous part.",
     "output_type": "error",
     "traceback": [
      "\u001B[0;31m---------------------------------------------------------------------------\u001B[0m",
      "\u001B[0;31mValueError\u001B[0m                                Traceback (most recent call last)",
      "Cell \u001B[0;32mIn[26], line 2\u001B[0m\n\u001B[1;32m      1\u001B[0m max_len \u001B[38;5;241m=\u001B[39m \u001B[38;5;241m334\u001B[39m\n\u001B[0;32m----> 2\u001B[0m X_train \u001B[38;5;241m=\u001B[39m \u001B[43mpad_sequences\u001B[49m\u001B[43m(\u001B[49m\u001B[43mX_train\u001B[49m\u001B[43m,\u001B[49m\u001B[43m \u001B[49m\u001B[43mmaxlen\u001B[49m\u001B[38;5;241;43m=\u001B[39;49m\u001B[43mmax_len\u001B[49m\u001B[43m)\u001B[49m\n\u001B[1;32m      3\u001B[0m X_test \u001B[38;5;241m=\u001B[39m pad_sequences(X_test, maxlen\u001B[38;5;241m=\u001B[39mmax_len)\n",
      "File \u001B[0;32m/opt/anaconda3/lib/python3.9/site-packages/keras/src/utils/sequence_utils.py:92\u001B[0m, in \u001B[0;36mpad_sequences\u001B[0;34m(sequences, maxlen, dtype, padding, truncating, value)\u001B[0m\n\u001B[1;32m     90\u001B[0m     lengths\u001B[38;5;241m.\u001B[39mappend(\u001B[38;5;28mlen\u001B[39m(x))\n\u001B[1;32m     91\u001B[0m     \u001B[38;5;28;01mif\u001B[39;00m flag \u001B[38;5;129;01mand\u001B[39;00m \u001B[38;5;28mlen\u001B[39m(x):\n\u001B[0;32m---> 92\u001B[0m         sample_shape \u001B[38;5;241m=\u001B[39m \u001B[43mnp\u001B[49m\u001B[38;5;241;43m.\u001B[39;49m\u001B[43masarray\u001B[49m\u001B[43m(\u001B[49m\u001B[43mx\u001B[49m\u001B[43m)\u001B[49m\u001B[38;5;241m.\u001B[39mshape[\u001B[38;5;241m1\u001B[39m:]\n\u001B[1;32m     93\u001B[0m         flag \u001B[38;5;241m=\u001B[39m \u001B[38;5;28;01mFalse\u001B[39;00m\n\u001B[1;32m     94\u001B[0m \u001B[38;5;28;01mexcept\u001B[39;00m \u001B[38;5;167;01mTypeError\u001B[39;00m \u001B[38;5;28;01mas\u001B[39;00m e:\n",
      "\u001B[0;31mValueError\u001B[0m: setting an array element with a sequence. The requested array has an inhomogeneous shape after 1 dimensions. The detected shape was (349,) + inhomogeneous part."
     ]
    }
   ],
   "execution_count": 26
  },
  {
   "metadata": {
    "ExecuteTime": {
     "end_time": "2024-12-03T10:56:38.149521Z",
     "start_time": "2024-12-03T10:56:38.147244Z"
    }
   },
   "cell_type": "code",
   "source": [
    "def pad_sequences_manual(sequences, maxlen=None):\n",
    "    padded_sequences = []\n",
    "    for seq in sequences:\n",
    "        if len(seq) > maxlen:\n",
    "            seq = seq[:maxlen]\n",
    "        elif len(seq) < maxlen:\n",
    "            padding_length = maxlen - len(seq)\n",
    "            seq = seq + \"0\" * padding_length\n",
    "        padded_sequences.append(seq)\n",
    "    return padded_sequences"
   ],
   "id": "79ccf0cf57419077",
   "outputs": [],
   "execution_count": 31
  },
  {
   "metadata": {
    "ExecuteTime": {
     "end_time": "2024-12-03T10:56:38.537266Z",
     "start_time": "2024-12-03T10:56:38.535084Z"
    }
   },
   "cell_type": "code",
   "source": [
    "X_train = pad_sequences_manual(X_train, max_len)\n",
    "X_test = pad_sequences_manual(X_test, max_len)"
   ],
   "id": "3130073d24193141",
   "outputs": [],
   "execution_count": 32
  },
  {
   "metadata": {
    "ExecuteTime": {
     "end_time": "2024-12-03T10:56:40.073548Z",
     "start_time": "2024-12-03T10:56:40.071290Z"
    }
   },
   "cell_type": "code",
   "source": "import tensorflow",
   "id": "d855cdcca75e9219",
   "outputs": [],
   "execution_count": 33
  },
  {
   "metadata": {
    "ExecuteTime": {
     "end_time": "2024-12-03T10:56:40.966080Z",
     "start_time": "2024-12-03T10:56:40.964393Z"
    }
   },
   "cell_type": "code",
   "source": "earlystop_callback = tensorflow.keras.callbacks.EarlyStopping(monitor='val_loss', patience=5)",
   "id": "d877c756a48f49d8",
   "outputs": [],
   "execution_count": 34
  },
  {
   "metadata": {
    "ExecuteTime": {
     "end_time": "2024-12-03T10:56:43.135920Z",
     "start_time": "2024-12-03T10:56:43.104791Z"
    }
   },
   "cell_type": "code",
   "source": [
    "vocab_size = 30185\n",
    "hidden_units = 128\n",
    "num_output = 3\n",
    "embedding_dim = 128\n",
    "\n",
    "model = Sequential()\n",
    "model.add(Embedding(input_dim=vocab_size, output_dim=embedding_dim, input_length=max_len))\n",
    "model.add(LSTM(128))\n",
    "model.add(LSTM(64))\n",
    "model.add(Dense(num_output))"
   ],
   "id": "418113512222c673",
   "outputs": [
    {
     "name": "stderr",
     "output_type": "stream",
     "text": [
      "/opt/anaconda3/lib/python3.9/site-packages/keras/src/layers/core/embedding.py:90: UserWarning: Argument `input_length` is deprecated. Just remove it.\n",
      "  warnings.warn(\n"
     ]
    }
   ],
   "execution_count": 35
  },
  {
   "metadata": {
    "ExecuteTime": {
     "end_time": "2024-12-03T10:55:46.902512Z",
     "start_time": "2024-12-03T10:55:46.899360Z"
    }
   },
   "cell_type": "code",
   "source": [
    "def token_to_idx(doc, unk_idx):\n",
    "    idx_list = []\n",
    "    for token in doc.split(' '):\n",
    "        if token == '0':\n",
    "            idx_list.append(0)\n",
    "            continue\n",
    "        try:\n",
    "            idx_list.append(ko_model.wv[token])\n",
    "        except:\n",
    "            idx_list.append(unk_idx)\n",
    "    return idx_list"
   ],
   "id": "36f57daa07de31f1",
   "outputs": [],
   "execution_count": 20
  },
  {
   "metadata": {
    "ExecuteTime": {
     "end_time": "2024-12-03T10:55:48.562133Z",
     "start_time": "2024-12-03T10:55:47.644123Z"
    }
   },
   "cell_type": "code",
   "source": [
    "for i in range(len(X_train)):\n",
    "    X_train[i] = token_to_idx(X_train[i], 0)\n",
    "for i in range(len(X_test)):\n",
    "    X_test[i] = token_to_idx(X_test[i], 0)"
   ],
   "id": "d87f539150d02e5",
   "outputs": [
    {
     "ename": "KeyError",
     "evalue": "0",
     "output_type": "error",
     "traceback": [
      "\u001B[0;31m---------------------------------------------------------------------------\u001B[0m",
      "\u001B[0;31mKeyError\u001B[0m                                  Traceback (most recent call last)",
      "File \u001B[0;32m/opt/anaconda3/lib/python3.9/site-packages/pandas/core/indexes/base.py:3805\u001B[0m, in \u001B[0;36mIndex.get_loc\u001B[0;34m(self, key)\u001B[0m\n\u001B[1;32m   3804\u001B[0m \u001B[38;5;28;01mtry\u001B[39;00m:\n\u001B[0;32m-> 3805\u001B[0m     \u001B[38;5;28;01mreturn\u001B[39;00m \u001B[38;5;28;43mself\u001B[39;49m\u001B[38;5;241;43m.\u001B[39;49m\u001B[43m_engine\u001B[49m\u001B[38;5;241;43m.\u001B[39;49m\u001B[43mget_loc\u001B[49m\u001B[43m(\u001B[49m\u001B[43mcasted_key\u001B[49m\u001B[43m)\u001B[49m\n\u001B[1;32m   3806\u001B[0m \u001B[38;5;28;01mexcept\u001B[39;00m \u001B[38;5;167;01mKeyError\u001B[39;00m \u001B[38;5;28;01mas\u001B[39;00m err:\n",
      "File \u001B[0;32mindex.pyx:167\u001B[0m, in \u001B[0;36mpandas._libs.index.IndexEngine.get_loc\u001B[0;34m()\u001B[0m\n",
      "File \u001B[0;32mindex.pyx:196\u001B[0m, in \u001B[0;36mpandas._libs.index.IndexEngine.get_loc\u001B[0;34m()\u001B[0m\n",
      "File \u001B[0;32mpandas/_libs/hashtable_class_helper.pxi:7081\u001B[0m, in \u001B[0;36mpandas._libs.hashtable.PyObjectHashTable.get_item\u001B[0;34m()\u001B[0m\n",
      "File \u001B[0;32mpandas/_libs/hashtable_class_helper.pxi:7089\u001B[0m, in \u001B[0;36mpandas._libs.hashtable.PyObjectHashTable.get_item\u001B[0;34m()\u001B[0m\n",
      "\u001B[0;31mKeyError\u001B[0m: 0",
      "\nThe above exception was the direct cause of the following exception:\n",
      "\u001B[0;31mKeyError\u001B[0m                                  Traceback (most recent call last)",
      "Cell \u001B[0;32mIn[21], line 4\u001B[0m\n\u001B[1;32m      2\u001B[0m     X_train[i] \u001B[38;5;241m=\u001B[39m token_to_idx(X_train[i], \u001B[38;5;241m0\u001B[39m)\n\u001B[1;32m      3\u001B[0m \u001B[38;5;28;01mfor\u001B[39;00m i \u001B[38;5;129;01min\u001B[39;00m \u001B[38;5;28mrange\u001B[39m(\u001B[38;5;28mlen\u001B[39m(X_test)):\n\u001B[0;32m----> 4\u001B[0m     X_test[i] \u001B[38;5;241m=\u001B[39m token_to_idx(\u001B[43mX_test\u001B[49m\u001B[43m[\u001B[49m\u001B[43mi\u001B[49m\u001B[43m]\u001B[49m, \u001B[38;5;241m0\u001B[39m)\n",
      "File \u001B[0;32m/opt/anaconda3/lib/python3.9/site-packages/pandas/core/frame.py:4102\u001B[0m, in \u001B[0;36mDataFrame.__getitem__\u001B[0;34m(self, key)\u001B[0m\n\u001B[1;32m   4100\u001B[0m \u001B[38;5;28;01mif\u001B[39;00m \u001B[38;5;28mself\u001B[39m\u001B[38;5;241m.\u001B[39mcolumns\u001B[38;5;241m.\u001B[39mnlevels \u001B[38;5;241m>\u001B[39m \u001B[38;5;241m1\u001B[39m:\n\u001B[1;32m   4101\u001B[0m     \u001B[38;5;28;01mreturn\u001B[39;00m \u001B[38;5;28mself\u001B[39m\u001B[38;5;241m.\u001B[39m_getitem_multilevel(key)\n\u001B[0;32m-> 4102\u001B[0m indexer \u001B[38;5;241m=\u001B[39m \u001B[38;5;28;43mself\u001B[39;49m\u001B[38;5;241;43m.\u001B[39;49m\u001B[43mcolumns\u001B[49m\u001B[38;5;241;43m.\u001B[39;49m\u001B[43mget_loc\u001B[49m\u001B[43m(\u001B[49m\u001B[43mkey\u001B[49m\u001B[43m)\u001B[49m\n\u001B[1;32m   4103\u001B[0m \u001B[38;5;28;01mif\u001B[39;00m is_integer(indexer):\n\u001B[1;32m   4104\u001B[0m     indexer \u001B[38;5;241m=\u001B[39m [indexer]\n",
      "File \u001B[0;32m/opt/anaconda3/lib/python3.9/site-packages/pandas/core/indexes/base.py:3812\u001B[0m, in \u001B[0;36mIndex.get_loc\u001B[0;34m(self, key)\u001B[0m\n\u001B[1;32m   3807\u001B[0m     \u001B[38;5;28;01mif\u001B[39;00m \u001B[38;5;28misinstance\u001B[39m(casted_key, \u001B[38;5;28mslice\u001B[39m) \u001B[38;5;129;01mor\u001B[39;00m (\n\u001B[1;32m   3808\u001B[0m         \u001B[38;5;28misinstance\u001B[39m(casted_key, abc\u001B[38;5;241m.\u001B[39mIterable)\n\u001B[1;32m   3809\u001B[0m         \u001B[38;5;129;01mand\u001B[39;00m \u001B[38;5;28many\u001B[39m(\u001B[38;5;28misinstance\u001B[39m(x, \u001B[38;5;28mslice\u001B[39m) \u001B[38;5;28;01mfor\u001B[39;00m x \u001B[38;5;129;01min\u001B[39;00m casted_key)\n\u001B[1;32m   3810\u001B[0m     ):\n\u001B[1;32m   3811\u001B[0m         \u001B[38;5;28;01mraise\u001B[39;00m InvalidIndexError(key)\n\u001B[0;32m-> 3812\u001B[0m     \u001B[38;5;28;01mraise\u001B[39;00m \u001B[38;5;167;01mKeyError\u001B[39;00m(key) \u001B[38;5;28;01mfrom\u001B[39;00m \u001B[38;5;21;01merr\u001B[39;00m\n\u001B[1;32m   3813\u001B[0m \u001B[38;5;28;01mexcept\u001B[39;00m \u001B[38;5;167;01mTypeError\u001B[39;00m:\n\u001B[1;32m   3814\u001B[0m     \u001B[38;5;66;03m# If we have a listlike key, _check_indexing_error will raise\u001B[39;00m\n\u001B[1;32m   3815\u001B[0m     \u001B[38;5;66;03m#  InvalidIndexError. Otherwise we fall through and re-raise\u001B[39;00m\n\u001B[1;32m   3816\u001B[0m     \u001B[38;5;66;03m#  the TypeError.\u001B[39;00m\n\u001B[1;32m   3817\u001B[0m     \u001B[38;5;28mself\u001B[39m\u001B[38;5;241m.\u001B[39m_check_indexing_error(key)\n",
      "\u001B[0;31mKeyError\u001B[0m: 0"
     ]
    }
   ],
   "execution_count": 21
  },
  {
   "metadata": {
    "ExecuteTime": {
     "end_time": "2024-12-03T07:45:26.450352Z",
     "start_time": "2024-12-03T07:45:26.448175Z"
    }
   },
   "cell_type": "code",
   "source": "print(len(X_train[3]))",
   "id": "e50772079a034b1b",
   "outputs": [
    {
     "name": "stdout",
     "output_type": "stream",
     "text": [
      "82\n"
     ]
    }
   ],
   "execution_count": 45
  },
  {
   "metadata": {
    "ExecuteTime": {
     "end_time": "2024-12-03T07:42:39.861929Z",
     "start_time": "2024-12-03T07:42:39.860060Z"
    }
   },
   "cell_type": "code",
   "source": "print(len(X_train[-1]))",
   "id": "50c4733172104a8c",
   "outputs": [
    {
     "name": "stdout",
     "output_type": "stream",
     "text": [
      "196\n"
     ]
    }
   ],
   "execution_count": 32
  },
  {
   "metadata": {
    "ExecuteTime": {
     "end_time": "2024-12-03T10:56:48.781182Z",
     "start_time": "2024-12-03T10:56:48.778682Z"
    }
   },
   "cell_type": "code",
   "source": "from tensorflow.keras.optimizers import Adam",
   "id": "811b1d491f3fb66e",
   "outputs": [],
   "execution_count": 36
  },
  {
   "metadata": {
    "ExecuteTime": {
     "end_time": "2024-12-03T10:56:49.388090Z",
     "start_time": "2024-12-03T10:56:49.381009Z"
    }
   },
   "cell_type": "code",
   "source": "model.compile(optimizer=Adam(), loss='mean_squared_error', metrics=['mse'])",
   "id": "9e6b8662d2b4a198",
   "outputs": [],
   "execution_count": 37
  },
  {
   "metadata": {
    "ExecuteTime": {
     "start_time": "2024-12-03T10:56:51.543098Z"
    }
   },
   "cell_type": "code",
   "source": "model.fit(X_train, y_train, epochs=1, batch_size=64, validation_data=(X_test, y_test), verbose=1, callbacks=[earlystop_callback])",
   "id": "d6fe3ecb3966babd",
   "outputs": [],
   "execution_count": null
  },
  {
   "metadata": {},
   "cell_type": "code",
   "source": "",
   "id": "61f95d107fcd2f5e",
   "outputs": [],
   "execution_count": null
  }
 ],
 "metadata": {
  "kernelspec": {
   "display_name": "base",
   "language": "python",
   "name": "python3"
  },
  "language_info": {
   "codemirror_mode": {
    "name": "ipython",
    "version": 3
   },
   "file_extension": ".py",
   "mimetype": "text/x-python",
   "name": "python",
   "nbconvert_exporter": "python",
   "pygments_lexer": "ipython3",
   "version": "3.11.10"
  }
 },
 "nbformat": 4,
 "nbformat_minor": 5
}
